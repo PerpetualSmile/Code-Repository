{
 "cells": [
  {
   "cell_type": "code",
   "execution_count": 1,
   "metadata": {
    "ExecuteTime": {
     "end_time": "2021-01-14T14:04:49.138570Z",
     "start_time": "2021-01-14T14:04:47.156868Z"
    }
   },
   "outputs": [],
   "source": [
    "import pandas as pd  \n",
    "import numpy as np\n",
    "from tqdm import tqdm  \n",
    "from collections import defaultdict  \n",
    "import os, math, warnings, math, pickle\n",
    "from tqdm import tqdm\n",
    "import faiss\n",
    "import collections\n",
    "import random\n",
    "from sklearn.preprocessing import MinMaxScaler\n",
    "from sklearn.preprocessing import LabelEncoder\n",
    "from datetime import datetime\n",
    "from deepctr.feature_column import SparseFeat, VarLenSparseFeat\n",
    "from sklearn.preprocessing import LabelEncoder\n",
    "\n",
    "from deepmatch.models import *\n",
    "from deepmatch.utils import sampledsoftmaxloss\n",
    "warnings.filterwarnings('ignore')"
   ]
  },
  {
   "cell_type": "code",
   "execution_count": 2,
   "metadata": {
    "ExecuteTime": {
     "end_time": "2021-01-14T14:04:49.153530Z",
     "start_time": "2021-01-14T14:04:49.139567Z"
    }
   },
   "outputs": [],
   "source": [
    "data_path = 'D:/Desktop/competition/news_article_rs/data/' # 天池平台路径\n",
    "save_path = 'D:/Desktop/competition/news_article_rs/res/'  # 天池平台路径\n",
    "if not os.path.exists(save_path):\n",
    "    os.mkdir(save_path)"
   ]
  },
  {
   "cell_type": "code",
   "execution_count": 3,
   "metadata": {
    "ExecuteTime": {
     "end_time": "2021-01-14T14:04:49.169487Z",
     "start_time": "2021-01-14T14:04:49.154528Z"
    }
   },
   "outputs": [
    {
     "data": {
      "text/plain": [
       "['articles.csv',\n",
       " 'articles_emb.csv',\n",
       " 'DataA1121.md',\n",
       " 'sample_submit.csv',\n",
       " 'testA_click_log.csv',\n",
       " 'testB_click_log_Test_B.csv',\n",
       " 'train_click_log.csv']"
      ]
     },
     "execution_count": 3,
     "metadata": {},
     "output_type": "execute_result"
    }
   ],
   "source": [
    "os.listdir(data_path)"
   ]
  },
  {
   "cell_type": "code",
   "execution_count": 4,
   "metadata": {
    "ExecuteTime": {
     "end_time": "2021-01-14T14:04:49.185445Z",
     "start_time": "2021-01-14T14:04:49.170485Z"
    }
   },
   "outputs": [],
   "source": [
    "def get_all_click_df(data_path, offline=True):\n",
    "    if offline:\n",
    "        all_click = pd.read_csv(data_path + 'train_click_log.csv')\n",
    "    else:\n",
    "        trn_click = pd.read_csv(data_path + 'train_click_log.csv')\n",
    "        tstA_click = pd.read_csv(data_path + 'testA_click_log.csv')\n",
    "        tstB_click = pd.read_csv(data_path + 'testB_click_log_Test_B.csv')\n",
    "\n",
    "        all_click = trn_click.append(tstA_click).append(tstB_click)\n",
    "    \n",
    "    all_click = all_click.drop_duplicates((['user_id', 'click_article_id', 'click_timestamp']))\n",
    "    return all_click"
   ]
  },
  {
   "cell_type": "code",
   "execution_count": 5,
   "metadata": {
    "ExecuteTime": {
     "end_time": "2021-01-14T14:04:49.200405Z",
     "start_time": "2021-01-14T14:04:49.186443Z"
    }
   },
   "outputs": [],
   "source": [
    "# 读取文章的基本属性\n",
    "def get_item_info_df(data_path):\n",
    "    item_info_df = pd.read_csv(data_path + 'articles.csv')\n",
    "    \n",
    "    # 为了方便与训练集中的click_article_id拼接，需要把article_id修改成click_article_id\n",
    "    item_info_df = item_info_df.rename(columns={'article_id': 'click_article_id'})\n",
    "    \n",
    "    return item_info_df"
   ]
  },
  {
   "cell_type": "code",
   "execution_count": 6,
   "metadata": {
    "ExecuteTime": {
     "end_time": "2021-01-14T14:04:49.215365Z",
     "start_time": "2021-01-14T14:04:49.201402Z"
    }
   },
   "outputs": [],
   "source": [
    "# 读取文章的Embedding数据\n",
    "def get_item_emb_dict(data_path):\n",
    "    item_emb_df = pd.read_csv(data_path + 'articles_emb.csv')\n",
    "    \n",
    "    item_emb_cols = [x for x in item_emb_df.columns if 'emb' in x]\n",
    "    item_emb_np = np.ascontiguousarray(item_emb_df[item_emb_cols])\n",
    "    # 进行归一化\n",
    "    item_emb_np = item_emb_np / np.linalg.norm(item_emb_np, axis=1, keepdims=True)\n",
    "\n",
    "    item_emb_dict = dict(zip(item_emb_df['article_id'], item_emb_np))\n",
    "    pickle.dump(item_emb_dict, open(save_path + 'item_content_emb.pkl', 'wb'))\n",
    "    \n",
    "    return item_emb_dict"
   ]
  },
  {
   "cell_type": "code",
   "execution_count": 7,
   "metadata": {
    "ExecuteTime": {
     "end_time": "2021-01-14T14:04:49.230325Z",
     "start_time": "2021-01-14T14:04:49.216362Z"
    }
   },
   "outputs": [],
   "source": [
    "max_min_scaler = lambda x : (x-np.min(x))/(np.max(x)-np.min(x))"
   ]
  },
  {
   "cell_type": "code",
   "execution_count": 8,
   "metadata": {
    "ExecuteTime": {
     "end_time": "2021-01-14T14:04:50.877920Z",
     "start_time": "2021-01-14T14:04:49.546480Z"
    }
   },
   "outputs": [],
   "source": [
    "# 采样数据\n",
    "# all_click_df = get_all_click_sample(data_path)\n",
    "\n",
    "# 全量训练集\n",
    "all_click_df = get_all_click_df(data_path, offline=False)\n",
    "\n",
    "# 对时间戳进行归一化,用于在关联规则的时候计算权重\n",
    "all_click_df['click_timestamp'] = all_click_df[['click_timestamp']].apply(max_min_scaler)"
   ]
  },
  {
   "cell_type": "code",
   "execution_count": 9,
   "metadata": {
    "ExecuteTime": {
     "end_time": "2021-01-14T14:05:02.994527Z",
     "start_time": "2021-01-14T14:04:50.878917Z"
    }
   },
   "outputs": [],
   "source": [
    "item_info_df = get_item_info_df(data_path)\n",
    "item_emb_dict = get_item_emb_dict(data_path)"
   ]
  },
  {
   "cell_type": "markdown",
   "metadata": {},
   "source": [
    "## 获取用户-文章-时间函数"
   ]
  },
  {
   "cell_type": "code",
   "execution_count": 10,
   "metadata": {
    "ExecuteTime": {
     "end_time": "2021-01-14T14:05:03.009487Z",
     "start_time": "2021-01-14T14:05:02.995525Z"
    }
   },
   "outputs": [],
   "source": [
    "def get_user_item_time(click_df):\n",
    "    \n",
    "    click_df = click_df.sort_values('click_timestamp')\n",
    "    \n",
    "    def make_item_time_pair(df):\n",
    "        return list(zip(df['click_article_id'], df['click_timestamp']))\n",
    "    \n",
    "    user_item_time_df = click_df.groupby('user_id')['click_article_id', 'click_timestamp'].apply(lambda x: make_item_time_pair(x))\\\n",
    "                                                            .reset_index().rename(columns={0: 'item_time_list'})\n",
    "    user_item_time_dict = dict(zip(user_item_time_df['user_id'], user_item_time_df['item_time_list']))\n",
    "    \n",
    "    return user_item_time_dict"
   ]
  },
  {
   "cell_type": "markdown",
   "metadata": {},
   "source": [
    "## 获取文章-用户-时间函数"
   ]
  },
  {
   "cell_type": "code",
   "execution_count": 11,
   "metadata": {
    "ExecuteTime": {
     "end_time": "2021-01-14T14:05:03.024448Z",
     "start_time": "2021-01-14T14:05:03.010485Z"
    }
   },
   "outputs": [],
   "source": [
    "# 根据时间获取商品被点击的用户序列  {item1: [(user1, time1), (user2, time2)...]...}\n",
    "# 这里的时间是用户点击当前商品的时间，好像没有直接的关系。\n",
    "def get_item_user_time_dict(click_df):\n",
    "    def make_user_time_pair(df):\n",
    "        return list(zip(df['user_id'], df['click_timestamp']))\n",
    "    \n",
    "    click_df = click_df.sort_values('click_timestamp')\n",
    "    item_user_time_df = click_df.groupby('click_article_id')['user_id', 'click_timestamp'].apply(lambda x: make_user_time_pair(x)).reset_index().rename(columns={0: 'user_time_list'})\n",
    "    \n",
    "    item_user_time_dict = dict(zip(item_user_time_df['click_article_id'], item_user_time_df['user_time_list']))\n",
    "    return item_user_time_dict"
   ]
  },
  {
   "cell_type": "markdown",
   "metadata": {},
   "source": [
    "## 获取历史和最后一次点击"
   ]
  },
  {
   "cell_type": "code",
   "execution_count": 12,
   "metadata": {
    "ExecuteTime": {
     "end_time": "2021-01-14T14:05:03.040405Z",
     "start_time": "2021-01-14T14:05:03.025445Z"
    }
   },
   "outputs": [],
   "source": [
    "# 获取当前数据的历史点击和最后一次点击\n",
    "def get_hist_and_last_click(all_click):\n",
    "    \n",
    "    all_click = all_click.sort_values(by=['user_id', 'click_timestamp'])\n",
    "    click_last_df = all_click.groupby('user_id').tail(1)\n",
    "\n",
    "    # 如果用户只有一个点击，hist为空了，会导致训练的时候这个用户不可见，此时默认泄露一下\n",
    "    def hist_func(user_df):\n",
    "        if len(user_df) == 1:\n",
    "            return user_df\n",
    "        else:\n",
    "            return user_df[:-1]\n",
    "\n",
    "    click_hist_df = all_click.groupby('user_id').apply(hist_func).reset_index(drop=True)\n",
    "\n",
    "    return click_hist_df, click_last_df"
   ]
  },
  {
   "cell_type": "markdown",
   "metadata": {},
   "source": [
    "## 获取文章属性特征"
   ]
  },
  {
   "cell_type": "code",
   "execution_count": 13,
   "metadata": {
    "ExecuteTime": {
     "end_time": "2021-01-14T14:05:03.056362Z",
     "start_time": "2021-01-14T14:05:03.041402Z"
    }
   },
   "outputs": [],
   "source": [
    "# 获取文章id对应的基本属性，保存成字典的形式，方便后面召回阶段，冷启动阶段直接使用\n",
    "def get_item_info_dict(item_info_df):\n",
    "    max_min_scaler = lambda x : (x-np.min(x))/(np.max(x)-np.min(x))\n",
    "    item_info_df['created_at_ts'] = item_info_df[['created_at_ts']].apply(max_min_scaler)\n",
    "    \n",
    "    item_type_dict = dict(zip(item_info_df['click_article_id'], item_info_df['category_id']))\n",
    "    item_words_dict = dict(zip(item_info_df['click_article_id'], item_info_df['words_count']))\n",
    "    item_created_time_dict = dict(zip(item_info_df['click_article_id'], item_info_df['created_at_ts']))\n",
    "    \n",
    "    return item_type_dict, item_words_dict, item_created_time_dict"
   ]
  },
  {
   "cell_type": "markdown",
   "metadata": {},
   "source": [
    "## 获取用户历史点击的文章信息"
   ]
  },
  {
   "cell_type": "code",
   "execution_count": 14,
   "metadata": {
    "ExecuteTime": {
     "end_time": "2021-01-14T14:05:03.071322Z",
     "start_time": "2021-01-14T14:05:03.057361Z"
    }
   },
   "outputs": [],
   "source": [
    "def get_user_hist_item_info_dict(all_click):\n",
    "    \n",
    "    # 获取user_id对应的用户历史点击文章类型的集合字典\n",
    "    user_hist_item_typs = all_click.groupby('user_id')['category_id'].agg(set).reset_index()\n",
    "    user_hist_item_typs_dict = dict(zip(user_hist_item_typs['user_id'], user_hist_item_typs['category_id']))\n",
    "    \n",
    "    # 获取user_id对应的用户点击文章的集合\n",
    "    user_hist_item_ids_dict = all_click.groupby('user_id')['click_article_id'].agg(set).reset_index()\n",
    "    user_hist_item_ids_dict = dict(zip(user_hist_item_ids_dict['user_id'], user_hist_item_ids_dict['click_article_id']))\n",
    "    \n",
    "    # 获取user_id对应的用户历史点击的文章的平均字数字典\n",
    "    user_hist_item_words = all_click.groupby('user_id')['words_count'].agg('mean').reset_index()\n",
    "    user_hist_item_words_dict = dict(zip(user_hist_item_words['user_id'], user_hist_item_words['words_count']))\n",
    "    \n",
    "    # 获取user_id对应的用户最后一次点击的文章的创建时间\n",
    "    all_click_ = all_click.sort_values('click_timestamp')\n",
    "    user_last_item_created_time = all_click_.groupby('user_id')['created_at_ts'].apply(lambda x: x.iloc[-1]).reset_index()\n",
    "    \n",
    "    max_min_scaler = lambda x : (x-np.min(x))/(np.max(x)-np.min(x))\n",
    "    user_last_item_created_time['created_at_ts'] = user_last_item_created_time[['created_at_ts']].apply(max_min_scaler)\n",
    "    \n",
    "    user_last_item_created_time_dict = dict(zip(user_last_item_created_time['user_id'], \\\n",
    "                                                user_last_item_created_time['created_at_ts']))\n",
    "    \n",
    "    return user_hist_item_typs_dict, user_hist_item_ids_dict, user_hist_item_words_dict, user_last_item_created_time_dict"
   ]
  },
  {
   "cell_type": "markdown",
   "metadata": {},
   "source": [
    "## 获取点击次数最多的topk个文章"
   ]
  },
  {
   "cell_type": "code",
   "execution_count": 15,
   "metadata": {
    "ExecuteTime": {
     "end_time": "2021-01-14T14:05:03.087279Z",
     "start_time": "2021-01-14T14:05:03.072320Z"
    }
   },
   "outputs": [],
   "source": [
    "# 获取近期点击最多的文章\n",
    "def get_item_topk_click(click_df, k):\n",
    "    topk_click = click_df['click_article_id'].value_counts().index[:k]\n",
    "    return topk_click"
   ]
  },
  {
   "cell_type": "markdown",
   "metadata": {},
   "source": [
    "## 召回效果评估函数"
   ]
  },
  {
   "cell_type": "code",
   "execution_count": 16,
   "metadata": {
    "ExecuteTime": {
     "end_time": "2021-01-14T14:05:03.102240Z",
     "start_time": "2021-01-14T14:05:03.088277Z"
    }
   },
   "outputs": [],
   "source": [
    "# 依次评估召回的前10, 20, 30, 40, 50个文章中的击中率\n",
    "def metrics_recall(user_recall_items_dict, trn_last_click_df, topk=5):\n",
    "    last_click_item_dict = dict(zip(trn_last_click_df['user_id'], trn_last_click_df['click_article_id']))\n",
    "    user_num = len(user_recall_items_dict)\n",
    "    \n",
    "    for k in range(10, topk+1, 10):\n",
    "        hit_num = 0\n",
    "        for user, item_list in user_recall_items_dict.items():\n",
    "            # 获取前k个召回的结果\n",
    "            tmp_recall_items = [x[0] for x in user_recall_items_dict[user][:k]]\n",
    "            if last_click_item_dict[user] in set(tmp_recall_items):\n",
    "                hit_num += 1\n",
    "        \n",
    "        hit_rate = round(hit_num * 1.0 / user_num, 5)\n",
    "        print(' topk: ', k, ' : ', 'hit_num: ', hit_num, 'hit_rate: ', hit_rate, 'user_num : ', user_num)"
   ]
  },
  {
   "cell_type": "markdown",
   "metadata": {},
   "source": [
    "## 计算相似性矩阵"
   ]
  },
  {
   "cell_type": "code",
   "execution_count": 17,
   "metadata": {
    "ExecuteTime": {
     "end_time": "2021-01-14T14:05:03.317663Z",
     "start_time": "2021-01-14T14:05:03.103238Z"
    }
   },
   "outputs": [],
   "source": [
    "# 获取文章的属性信息，保存成字典的形式方便查询\n",
    "item_type_dict, item_words_dict, item_created_time_dict = get_item_info_dict(item_info_df)"
   ]
  },
  {
   "cell_type": "markdown",
   "metadata": {},
   "source": [
    "### itemcf i2i_sim\n",
    "\n",
    "- 用户点击的时间权重\n",
    "- 用户点击的顺序权重\n",
    "- 文章创建的时间权重"
   ]
  },
  {
   "cell_type": "code",
   "execution_count": 18,
   "metadata": {
    "ExecuteTime": {
     "end_time": "2021-01-14T14:05:03.333621Z",
     "start_time": "2021-01-14T14:05:03.318661Z"
    }
   },
   "outputs": [],
   "source": [
    "def itemcf_sim(df, item_created_time_dict):\n",
    "    \"\"\"\n",
    "        文章与文章之间的相似性矩阵计算\n",
    "        :param df: 数据表\n",
    "        :item_created_time_dict:  文章创建时间的字典\n",
    "        return : 文章与文章的相似性矩阵\n",
    "        \n",
    "        思路: 基于物品的协同过滤(详细请参考上一期推荐系统基础的组队学习) + 关联规则\n",
    "    \"\"\"\n",
    "    user_item_time_dict = get_user_item_time(df)\n",
    "    \n",
    "    # 计算物品相似度\n",
    "    i2i_sim = {}\n",
    "    item_cnt = defaultdict(int)\n",
    "    for user, item_time_list in tqdm(user_item_time_dict.items()):\n",
    "        # 在基于商品的协同过滤优化的时候可以考虑时间因素\n",
    "        for loc1, (i, i_click_time) in enumerate(item_time_list):\n",
    "            item_cnt[i] += 1\n",
    "            i2i_sim.setdefault(i, {})\n",
    "            for loc2, (j, j_click_time) in enumerate(item_time_list):\n",
    "                if(i == j):\n",
    "                    continue\n",
    "                    \n",
    "                # 考虑文章的正向顺序点击和反向顺序点击    \n",
    "                loc_alpha = 1.0 if loc2 > loc1 else 0.7\n",
    "                # 位置信息权重，其中的参数可以调节\n",
    "                loc_weight = loc_alpha * (0.9 ** (np.abs(loc2 - loc1) - 1))\n",
    "                # 点击时间权重，其中的参数可以调节\n",
    "                click_time_weight = np.exp(0.7 ** np.abs(i_click_time - j_click_time))\n",
    "                # 两篇文章创建时间的权重，其中的参数可以调节\n",
    "                created_time_weight = np.exp(0.8 ** np.abs(item_created_time_dict[i] - item_created_time_dict[j]))\n",
    "                i2i_sim[i].setdefault(j, 0)\n",
    "                # 考虑多种因素的权重计算最终的文章之间的相似度\n",
    "                i2i_sim[i][j] += loc_weight * click_time_weight * created_time_weight / math.log(len(item_time_list) + 1)\n",
    "                \n",
    "    i2i_sim_ = i2i_sim.copy()\n",
    "    for i, related_items in i2i_sim.items():\n",
    "        for j, wij in related_items.items():\n",
    "            i2i_sim_[i][j] = wij / math.sqrt(item_cnt[i] * item_cnt[j])\n",
    "    \n",
    "    # 将得到的相似性矩阵保存到本地\n",
    "    pickle.dump(i2i_sim_, open(save_path + 'itemcf_i2i_sim.pkl', 'wb'))\n",
    "    \n",
    "    return i2i_sim_"
   ]
  },
  {
   "cell_type": "code",
   "execution_count": 23,
   "metadata": {
    "ExecuteTime": {
     "end_time": "2021-01-14T12:02:03.553365Z",
     "start_time": "2021-01-14T11:53:24.103183Z"
    }
   },
   "outputs": [
    {
     "name": "stderr",
     "output_type": "stream",
     "text": [
      "100%|█████████████████████████████████████████████████████████████████████████| 300000/300000 [07:40<00:00, 652.07it/s]\n"
     ]
    }
   ],
   "source": [
    "i2i_sim = itemcf_sim(all_click_df, item_created_time_dict)"
   ]
  },
  {
   "cell_type": "markdown",
   "metadata": {},
   "source": [
    "## 基于itemcf召回"
   ]
  },
  {
   "cell_type": "code",
   "execution_count": 19,
   "metadata": {
    "ExecuteTime": {
     "end_time": "2021-01-14T14:05:05.180683Z",
     "start_time": "2021-01-14T14:05:05.162731Z"
    }
   },
   "outputs": [],
   "source": [
    "# 基于商品的召回i2i\n",
    "def item_based_recommend(user_id, user_item_time_dict, i2i_sim, sim_item_topk, recall_item_num, item_topk_click, item_created_time_dict, emb_i2i_sim):\n",
    "    \"\"\"\n",
    "        基于文章协同过滤的召回\n",
    "        :param user_id: 用户id\n",
    "        :param user_item_time_dict: 字典, 根据点击时间获取用户的点击文章序列   {user1: [(item1, time1), (item2, time2)..]...}\n",
    "        :param i2i_sim: 字典，文章相似性矩阵\n",
    "        :param sim_item_topk: 整数， 选择与当前文章最相似的前k篇文章\n",
    "        :param recall_item_num: 整数， 最后的召回文章数量\n",
    "        :param item_topk_click: 列表，点击次数最多的文章列表，用户召回补全\n",
    "        :param emb_i2i_sim: 字典基于内容embedding算的文章相似矩阵\n",
    "        \n",
    "        return: 召回的文章列表 [(item1, score1), (item2, score2)...]\n",
    "    \"\"\"\n",
    "    # 获取用户历史交互的文章\n",
    "    user_hist_items = user_item_time_dict[user_id]\n",
    "    user_hist_items_ = {user_id for user_id, _ in user_hist_items}\n",
    "    \n",
    "    item_rank = {}\n",
    "    for loc, (i, click_time) in enumerate(user_hist_items):\n",
    "        for j, wij in sorted(i2i_sim[i].items(), key=lambda x: x[1], reverse=True)[:sim_item_topk]:\n",
    "            if j in user_hist_items_:\n",
    "                continue\n",
    "            \n",
    "            # 文章创建时间差权重\n",
    "            created_time_weight = np.exp(0.8 ** np.abs(item_created_time_dict[i] - item_created_time_dict[j]))\n",
    "            # 相似文章和历史点击文章序列中历史文章所在的位置权重\n",
    "            loc_weight = (0.9 ** (len(user_hist_items) - loc))\n",
    "            \n",
    "            content_weight = 1.0\n",
    "#             if emb_i2i_sim.get(i, {}).get(j, None) is not None:\n",
    "#                 content_weight += emb_i2i_sim[i][j]\n",
    "#             if emb_i2i_sim.get(j, {}).get(i, None) is not None:\n",
    "#                 content_weight += emb_i2i_sim[j][i]\n",
    "                \n",
    "            item_rank.setdefault(j, 0)\n",
    "            item_rank[j] += created_time_weight * loc_weight * content_weight * wij\n",
    "    \n",
    "    # 不足10个，用热门商品补全\n",
    "    if len(item_rank) < recall_item_num:\n",
    "        for i, item in enumerate(item_topk_click):\n",
    "            if item in item_rank.items(): # 填充的item应该不在原来的列表中\n",
    "                continue\n",
    "            item_rank[item] = - i - 100 # 随便给个负数就行\n",
    "            if len(item_rank) == recall_item_num:\n",
    "                break\n",
    "    \n",
    "    item_rank = sorted(item_rank.items(), key=lambda x: x[1], reverse=True)[:recall_item_num]\n",
    "        \n",
    "    return item_rank"
   ]
  },
  {
   "cell_type": "code",
   "execution_count": 26,
   "metadata": {
    "ExecuteTime": {
     "end_time": "2021-01-14T13:42:07.463869Z",
     "start_time": "2021-01-14T12:03:04.616516Z"
    },
    "scrolled": true
   },
   "outputs": [
    {
     "name": "stderr",
     "output_type": "stream",
     "text": [
      "100%|████████████████████████████████████████████████████████████████████████| 300000/300000 [1:38:12<00:00, 50.91it/s]\n"
     ]
    }
   ],
   "source": [
    "# 先进行itemcf召回, 为了召回评估，所以提取最后一次点击\n",
    "metric_recall = False\n",
    "if metric_recall:\n",
    "    trn_hist_click_df, trn_last_click_df = get_hist_and_last_click(all_click_df)\n",
    "else:\n",
    "    trn_hist_click_df = all_click_df\n",
    "\n",
    "user_recall_items_dict = collections.defaultdict(dict)\n",
    "user_item_time_dict = get_user_item_time(trn_hist_click_df)\n",
    "\n",
    "i2i_sim = pickle.load(open(save_path + 'itemcf_i2i_sim.pkl', 'rb'))\n",
    "\n",
    "sim_item_topk = 15\n",
    "recall_item_num = 40\n",
    "item_topk_click = get_item_topk_click(trn_hist_click_df, k=40)\n",
    "\n",
    "for user in tqdm(trn_hist_click_df['user_id'].unique()):\n",
    "    user_recall_items_dict[user] = item_based_recommend(user, user_item_time_dict, \\\n",
    "                                                        i2i_sim, sim_item_topk, recall_item_num, \\\n",
    "                                                        item_topk_click, item_created_time_dict, None)\n",
    "\n",
    "pickle.dump(user_recall_items_dict, open(save_path + 'itemcf_recall_dict.pkl', 'wb'))"
   ]
  },
  {
   "cell_type": "code",
   "execution_count": 27,
   "metadata": {
    "ExecuteTime": {
     "end_time": "2021-01-14T13:47:04.986972Z",
     "start_time": "2021-01-14T13:47:04.980988Z"
    }
   },
   "outputs": [],
   "source": [
    "if metric_recall:\n",
    "    # 召回效果评估\n",
    "    metrics_recall(user_recall_items_dict, trn_last_click_df, topk=recall_item_num)"
   ]
  },
  {
   "cell_type": "markdown",
   "metadata": {},
   "source": [
    "# 构建特征"
   ]
  },
  {
   "cell_type": "code",
   "execution_count": 20,
   "metadata": {
    "ExecuteTime": {
     "end_time": "2021-01-14T14:05:09.734508Z",
     "start_time": "2021-01-14T14:05:09.666690Z"
    }
   },
   "outputs": [],
   "source": [
    "import numpy as np\n",
    "import pandas as pd\n",
    "import pickle\n",
    "from tqdm import tqdm\n",
    "import gc, os\n",
    "import logging\n",
    "import time\n",
    "import lightgbm as lgb\n",
    "from gensim.models import Word2Vec\n",
    "from sklearn.preprocessing import MinMaxScaler\n",
    "import warnings\n",
    "warnings.filterwarnings('ignore')"
   ]
  },
  {
   "cell_type": "code",
   "execution_count": 21,
   "metadata": {
    "ExecuteTime": {
     "end_time": "2021-01-14T14:05:09.934973Z",
     "start_time": "2021-01-14T14:05:09.930983Z"
    }
   },
   "outputs": [],
   "source": [
    "data_path = 'D:/Desktop/competition/news_article_rs/data/' # 天池平台路径\n",
    "save_path = 'D:/Desktop/competition/news_article_rs/res/'  # 天池平台路径\n",
    "if not os.path.exists(save_path):\n",
    "    os.mkdir(save_path)"
   ]
  },
  {
   "cell_type": "code",
   "execution_count": 22,
   "metadata": {
    "ExecuteTime": {
     "end_time": "2021-01-14T14:05:10.365821Z",
     "start_time": "2021-01-14T14:05:10.346872Z"
    }
   },
   "outputs": [],
   "source": [
    "# 节省内存的一个函数\n",
    "# 减少内存\n",
    "def reduce_mem(df):\n",
    "    starttime = time.time()\n",
    "    numerics = ['int16', 'int32', 'int64', 'float16', 'float32', 'float64']\n",
    "    start_mem = df.memory_usage().sum() / 1024**2\n",
    "    for col in df.columns:\n",
    "        col_type = df[col].dtypes\n",
    "        if col_type in numerics:\n",
    "            c_min = df[col].min()\n",
    "            c_max = df[col].max()\n",
    "            if pd.isnull(c_min) or pd.isnull(c_max):\n",
    "                continue\n",
    "            if str(col_type)[:3] == 'int':\n",
    "                if c_min > np.iinfo(np.int8).min and c_max < np.iinfo(np.int8).max:\n",
    "                    df[col] = df[col].astype(np.int8)\n",
    "                elif c_min > np.iinfo(np.int16).min and c_max < np.iinfo(np.int16).max:\n",
    "                    df[col] = df[col].astype(np.int16)\n",
    "                elif c_min > np.iinfo(np.int32).min and c_max < np.iinfo(np.int32).max:\n",
    "                    df[col] = df[col].astype(np.int32)\n",
    "                elif c_min > np.iinfo(np.int64).min and c_max < np.iinfo(np.int64).max:\n",
    "                    df[col] = df[col].astype(np.int64)\n",
    "            else:\n",
    "                if c_min > np.finfo(np.float16).min and c_max < np.finfo(np.float16).max:\n",
    "                    df[col] = df[col].astype(np.float16)\n",
    "                elif c_min > np.finfo(np.float32).min and c_max < np.finfo(np.float32).max:\n",
    "                    df[col] = df[col].astype(np.float32)\n",
    "                else:\n",
    "                    df[col] = df[col].astype(np.float64)\n",
    "    end_mem = df.memory_usage().sum() / 1024**2\n",
    "    print('-- Mem. usage decreased to {:5.2f} Mb ({:.1f}% reduction),time spend:{:2.2f} min'.format(end_mem,\n",
    "                                                                                                           100*(start_mem-end_mem)/start_mem,\n",
    "                                                                                                           (time.time()-starttime)/60))\n",
    "    return df"
   ]
  },
  {
   "cell_type": "markdown",
   "metadata": {},
   "source": [
    "## 获取历史点击和最后一次点击"
   ]
  },
  {
   "cell_type": "code",
   "execution_count": 23,
   "metadata": {
    "ExecuteTime": {
     "end_time": "2021-01-14T14:05:11.272397Z",
     "start_time": "2021-01-14T14:05:11.258435Z"
    }
   },
   "outputs": [],
   "source": [
    "# 获取当前数据的历史点击和最后一次点击\n",
    "def get_hist_and_last_click(all_click):\n",
    "    all_click = all_click.sort_values(by=['user_id', 'click_timestamp'])\n",
    "    click_last_df = all_click.groupby('user_id').tail(1)\n",
    "\n",
    "    # 如果用户只有一个点击，hist为空了，会导致训练的时候这个用户不可见，此时默认泄露一下\n",
    "    def hist_func(user_df):\n",
    "        if len(user_df) == 1:\n",
    "            return user_df\n",
    "        else:\n",
    "            return user_df[:-1]\n",
    "\n",
    "    click_hist_df = all_click.groupby('user_id').apply(hist_func).reset_index(drop=True)\n",
    "\n",
    "    return click_hist_df, click_last_df"
   ]
  },
  {
   "cell_type": "markdown",
   "metadata": {},
   "source": [
    "## 读取训练、验证和测试集"
   ]
  },
  {
   "cell_type": "code",
   "execution_count": 24,
   "metadata": {
    "ExecuteTime": {
     "end_time": "2021-01-14T14:05:12.100185Z",
     "start_time": "2021-01-14T14:05:12.082232Z"
    }
   },
   "outputs": [],
   "source": [
    "def get_trn_val_tst_data(data_path, offline=True):\n",
    "    if offline:\n",
    "        click_trn_data = pd.read_csv(data_path+'train_click_log.csv')  # 训练集用户点击日志\n",
    "        click_trn_data = reduce_mem(click_trn_data)\n",
    "        click_trn, click_val, val_ans = trn_val_split(click_trn_data, sample_user_nums)\n",
    "    else:\n",
    "        click_trn = pd.read_csv(data_path+'train_click_log.csv')\n",
    "        click_trn = click_trn.append(pd.read_csv(data_path+'testA_click_log.csv'))\n",
    "        click_trn = reduce_mem(click_trn)\n",
    "        click_val = None\n",
    "        val_ans = None\n",
    "    \n",
    "    click_tst = pd.read_csv(data_path + 'testB_click_log_Test_B.csv')\n",
    "    \n",
    "    return click_trn, click_val, click_tst, val_ans"
   ]
  },
  {
   "cell_type": "markdown",
   "metadata": {},
   "source": [
    "## 读取Embedding"
   ]
  },
  {
   "cell_type": "code",
   "execution_count": 26,
   "metadata": {
    "ExecuteTime": {
     "end_time": "2021-01-14T14:05:28.467427Z",
     "start_time": "2021-01-14T14:05:28.450473Z"
    }
   },
   "outputs": [],
   "source": [
    "def trian_item_word2vec(click_df, embed_size=128, save_name='item_w2v_emb.pkl', split_char=' '):\n",
    "    click_df = click_df.sort_values('click_timestamp')\n",
    "    # 只有转换成字符串才可以进行训练\n",
    "    click_df['click_article_id'] = click_df['click_article_id'].astype(str)\n",
    "    # 转换成句子的形式\n",
    "    docs = click_df.groupby(['user_id'])['click_article_id'].apply(lambda x: list(x)).reset_index()\n",
    "    docs = docs['click_article_id'].values.tolist()\n",
    "\n",
    "    # 为了方便查看训练的进度，这里设定一个log信息\n",
    "    logging.basicConfig(format='%(asctime)s:%(levelname)s:%(message)s', level=logging.INFO)\n",
    "\n",
    "    # 这里的参数对训练得到的向量影响也很大,默认负采样为5\n",
    "    w2v = Word2Vec(docs, size=embed_size, sg=1, window=15, seed=2020, workers=12, min_count=1, iter=50)\n",
    "    \n",
    "    # 保存成字典的形式\n",
    "    item_w2v_emb_dict = {k: w2v[k] for k in click_df['click_article_id']}\n",
    "    pickle.dump(item_w2v_emb_dict, open(save_path + 'item_w2v_emb.pkl', 'wb'))\n",
    "    \n",
    "    return item_w2v_emb_dict"
   ]
  },
  {
   "cell_type": "code",
   "execution_count": 27,
   "metadata": {
    "ExecuteTime": {
     "end_time": "2021-01-14T14:05:28.883316Z",
     "start_time": "2021-01-14T14:05:28.866361Z"
    }
   },
   "outputs": [],
   "source": [
    "# 可以通过字典查询对应的item的Embedding\n",
    "def get_embedding(save_path, all_click_df):\n",
    "    if os.path.exists(save_path + 'item_content_emb.pkl'):\n",
    "        item_content_emb_dict = pickle.load(open(save_path + 'item_content_emb.pkl', 'rb'))\n",
    "    else:\n",
    "        print('item_content_emb.pkl 文件不存在...')\n",
    "        \n",
    "    # w2v Embedding是需要提前训练好的\n",
    "    if os.path.exists(save_path + 'item_w2v_emb.pkl'):\n",
    "        item_w2v_emb_dict = pickle.load(open(save_path + 'item_w2v_emb.pkl', 'rb'))\n",
    "    else:\n",
    "        item_w2v_emb_dict = trian_item_word2vec(all_click_df)\n",
    "    \n",
    "    return item_content_emb_dict, item_w2v_emb_dict"
   ]
  },
  {
   "cell_type": "markdown",
   "metadata": {},
   "source": [
    "## 读取文章信息"
   ]
  },
  {
   "cell_type": "code",
   "execution_count": 28,
   "metadata": {
    "ExecuteTime": {
     "end_time": "2021-01-14T14:05:29.667220Z",
     "start_time": "2021-01-14T14:05:29.650266Z"
    }
   },
   "outputs": [],
   "source": [
    "def get_article_info_df():\n",
    "    article_info_df = pd.read_csv(data_path + 'articles.csv')\n",
    "    article_info_df = reduce_mem(article_info_df)\n",
    "    \n",
    "    return article_info_df"
   ]
  },
  {
   "cell_type": "code",
   "execution_count": 29,
   "metadata": {
    "ExecuteTime": {
     "end_time": "2021-01-14T14:05:30.191818Z",
     "start_time": "2021-01-14T14:05:30.186831Z"
    }
   },
   "outputs": [],
   "source": [
    "# 获取文章id对应的基本属性，保存成字典的形式，方便后面召回阶段，冷启动阶段直接使用\n",
    "def get_item_info_dict(item_info_df):\n",
    "    max_min_scaler = lambda x : (x-np.min(x))/(np.max(x)-np.min(x))\n",
    "    item_info_df['created_at_ts'] = item_info_df[['created_at_ts']].apply(max_min_scaler)\n",
    "    \n",
    "    item_type_dict = dict(zip(item_info_df['click_article_id'], item_info_df['category_id']))\n",
    "    item_words_dict = dict(zip(item_info_df['click_article_id'], item_info_df['words_count']))\n",
    "    item_created_time_dict = dict(zip(item_info_df['click_article_id'], item_info_df['created_at_ts']))\n",
    "    \n",
    "    return item_type_dict, item_words_dict, item_created_time_dict"
   ]
  },
  {
   "cell_type": "markdown",
   "metadata": {},
   "source": [
    "## 读取数据"
   ]
  },
  {
   "cell_type": "code",
   "execution_count": 30,
   "metadata": {
    "ExecuteTime": {
     "end_time": "2021-01-14T14:05:33.543856Z",
     "start_time": "2021-01-14T14:05:32.602373Z"
    }
   },
   "outputs": [
    {
     "name": "stdout",
     "output_type": "stream",
     "text": [
      "-- Mem. usage decreased to 46.65 Mb (62.5% reduction),time spend:0.00 min\n"
     ]
    }
   ],
   "source": [
    "# 这里offline的online的区别就是验证集是否为空\n",
    "click_trn, click_val, click_tst, val_ans = get_trn_val_tst_data(data_path, offline=False)"
   ]
  },
  {
   "cell_type": "code",
   "execution_count": 31,
   "metadata": {
    "ExecuteTime": {
     "end_time": "2021-01-14T14:05:34.052497Z",
     "start_time": "2021-01-14T14:05:34.042523Z"
    }
   },
   "outputs": [
    {
     "data": {
      "text/plain": [
       "299999"
      ]
     },
     "execution_count": 31,
     "metadata": {},
     "output_type": "execute_result"
    }
   ],
   "source": [
    "click_tst['user_id'].max()"
   ]
  },
  {
   "cell_type": "code",
   "execution_count": 32,
   "metadata": {
    "ExecuteTime": {
     "end_time": "2021-01-14T14:06:17.446486Z",
     "start_time": "2021-01-14T14:05:34.906215Z"
    }
   },
   "outputs": [],
   "source": [
    "click_trn_hist, click_trn_last = get_hist_and_last_click(click_trn)\n",
    "\n",
    "if click_val is not None:\n",
    "    click_val_hist, click_val_last = click_val, val_ans\n",
    "else:\n",
    "    click_val_hist, click_val_last = None, None\n",
    "    \n",
    "click_tst_hist = click_tst"
   ]
  },
  {
   "cell_type": "code",
   "execution_count": null,
   "metadata": {},
   "outputs": [],
   "source": [
    "# pos_data_num: 19093 neg_data_num: 9980907 pos/neg: 0.001912952400017353"
   ]
  },
  {
   "cell_type": "code",
   "execution_count": 34,
   "metadata": {
    "ExecuteTime": {
     "end_time": "2021-01-14T14:09:06.729428Z",
     "start_time": "2021-01-14T14:09:06.723444Z"
    }
   },
   "outputs": [],
   "source": [
    "# 负采样函数，这里可以控制负采样时的比例, 这里给了一个默认的值\n",
    "def neg_sample_recall_data(recall_items_df, sample_rate=0.001):\n",
    "    pos_data = recall_items_df[recall_items_df['label'] == 1]\n",
    "    neg_data = recall_items_df[recall_items_df['label'] == 0]\n",
    "    \n",
    "    print('pos_data_num:', len(pos_data), 'neg_data_num:', len(neg_data), 'pos/neg:', len(pos_data)/len(neg_data))\n",
    "    \n",
    "    # 分组采样函数\n",
    "    def neg_sample_func(group_df):\n",
    "        neg_num = len(group_df)\n",
    "        sample_num = max(int(neg_num * sample_rate), 1) # 保证最少有一个\n",
    "        sample_num = min(sample_num, 3) # 保证最多不超过3个，这里可以根据实际情况进行选择\n",
    "        return group_df.sample(n=sample_num, replace=True)\n",
    "    \n",
    "    # 对用户进行负采样，保证所有用户都在采样后的数据中\n",
    "    neg_data_user_sample = neg_data.groupby('user_id', group_keys=False).apply(neg_sample_func)\n",
    "    # 对文章进行负采样，保证所有文章都在采样后的数据中\n",
    "    neg_data_item_sample = neg_data.groupby('sim_item', group_keys=False).apply(neg_sample_func)\n",
    "    \n",
    "    # 将上述两种情况下的采样数据合并\n",
    "    neg_data_new = neg_data_user_sample.append(neg_data_item_sample)\n",
    "    # 由于上述两个操作是分开的，可能将两个相同的数据给重复选择了，所以需要对合并后的数据进行去重\n",
    "    neg_data_new = neg_data_new.sort_values(['user_id', 'score']).drop_duplicates(['user_id', 'sim_item'], keep='last')\n",
    "    \n",
    "    # 将正样本数据合并\n",
    "    data_new = pd.concat([pos_data, neg_data_new], ignore_index=True)\n",
    "    \n",
    "    return data_new"
   ]
  },
  {
   "cell_type": "code",
   "execution_count": 35,
   "metadata": {
    "ExecuteTime": {
     "end_time": "2021-01-14T14:09:07.068521Z",
     "start_time": "2021-01-14T14:09:07.058548Z"
    }
   },
   "outputs": [],
   "source": [
    "# 召回数据打标签\n",
    "def get_rank_label_df(recall_list_df, label_df, is_test=False):\n",
    "    # 测试集是没有标签了，为了后面代码同一一些，这里直接给一个负数替代\n",
    "    if is_test:\n",
    "        recall_list_df['label'] = -1\n",
    "        return recall_list_df\n",
    "    \n",
    "    label_df = label_df.rename(columns={'click_article_id': 'sim_item'})\n",
    "    recall_list_df_ = recall_list_df.merge(label_df[['user_id', 'sim_item', 'click_timestamp']], \\\n",
    "                                               how='left', on=['user_id', 'sim_item'])\n",
    "    recall_list_df_['label'] = recall_list_df_['click_timestamp'].apply(lambda x: 0.0 if np.isnan(x) else 1.0)\n",
    "    del recall_list_df_['click_timestamp']\n",
    "    \n",
    "    return recall_list_df_"
   ]
  },
  {
   "cell_type": "code",
   "execution_count": 36,
   "metadata": {
    "ExecuteTime": {
     "end_time": "2021-01-14T14:09:07.808543Z",
     "start_time": "2021-01-14T14:09:07.794580Z"
    }
   },
   "outputs": [],
   "source": [
    "def get_user_recall_item_label_df(click_trn_hist, click_val_hist, click_tst_hist,click_trn_last, click_val_last, recall_list_df):\n",
    "    # 获取训练数据的召回列表\n",
    "    trn_user_items_df = recall_list_df[recall_list_df['user_id'].isin(click_trn_hist['user_id'].unique())]\n",
    "    # 训练数据打标签\n",
    "    trn_user_item_label_df = get_rank_label_df(trn_user_items_df, click_trn_last, is_test=False)\n",
    "    # 训练数据负采样\n",
    "    trn_user_item_label_df = neg_sample_recall_data(trn_user_item_label_df, sample_rate=0.001)\n",
    "    \n",
    "    if click_val is not None:\n",
    "        val_user_items_df = recall_list_df[recall_list_df['user_id'].isin(click_val_hist['user_id'].unique())]\n",
    "        val_user_item_label_df = get_rank_label_df(val_user_items_df, click_val_last, is_test=False)\n",
    "        val_user_item_label_df = neg_sample_recall_data(val_user_item_label_df)\n",
    "    else:\n",
    "        val_user_item_label_df = None\n",
    "        \n",
    "    # 测试数据不需要进行负采样，直接对所有的召回商品进行打-1标签\n",
    "    tst_user_items_df = recall_list_df[recall_list_df['user_id'].isin(click_tst_hist['user_id'].unique())]\n",
    "    tst_user_item_label_df = get_rank_label_df(tst_user_items_df, None, is_test=True)\n",
    "    \n",
    "    return trn_user_item_label_df, val_user_item_label_df, tst_user_item_label_df"
   ]
  },
  {
   "cell_type": "code",
   "execution_count": 37,
   "metadata": {
    "ExecuteTime": {
     "end_time": "2021-01-14T14:09:08.560532Z",
     "start_time": "2021-01-14T14:09:08.546570Z"
    }
   },
   "outputs": [],
   "source": [
    "# 返回多路召回列表或者单路召回\n",
    "def get_recall_list(save_path, single_recall_model=None, multi_recall=False):\n",
    "    if multi_recall:\n",
    "        return pickle.load(open(save_path + 'final_recall_items_dict.pkl', 'rb'))\n",
    "    \n",
    "    if single_recall_model == 'i2i_itemcf':\n",
    "        return pickle.load(open(save_path + 'itemcf_recall_dict.pkl', 'rb'))\n",
    "    elif single_recall_model == 'i2i_emb_itemcf':\n",
    "        return pickle.load(open(save_path + 'itemcf_emb_dict.pkl', 'rb'))\n",
    "    elif single_recall_model == 'user_cf':\n",
    "        return pickle.load(open(save_path + 'youtubednn_usercf_dict.pkl', 'rb'))\n",
    "    elif single_recall_model == 'youtubednn':\n",
    "        return pickle.load(open(save_path + 'youtube_u2i_dict.pkl', 'rb'))"
   ]
  },
  {
   "cell_type": "code",
   "execution_count": 38,
   "metadata": {
    "ExecuteTime": {
     "end_time": "2021-01-14T14:09:10.269962Z",
     "start_time": "2021-01-14T14:09:10.258992Z"
    }
   },
   "outputs": [],
   "source": [
    "# 将召回列表转换成df的形式\n",
    "def recall_dict_2_df(recall_list_dict):\n",
    "    df_row_list = [] # [user, item, score]\n",
    "    for user, recall_list in tqdm(recall_list_dict.items()):\n",
    "        for item, score in recall_list:\n",
    "            df_row_list.append([user, item, score])\n",
    "    \n",
    "    col_names = ['user_id', 'sim_item', 'score']\n",
    "    recall_list_df = pd.DataFrame(df_row_list, columns=col_names)\n",
    "    \n",
    "    return recall_list_df"
   ]
  },
  {
   "cell_type": "code",
   "execution_count": 39,
   "metadata": {
    "ExecuteTime": {
     "end_time": "2021-01-14T14:09:30.645490Z",
     "start_time": "2021-01-14T14:09:14.498657Z"
    }
   },
   "outputs": [
    {
     "name": "stderr",
     "output_type": "stream",
     "text": [
      "100%|███████████████████████████████████████████████████████████████████████| 300000/300000 [00:07<00:00, 41250.96it/s]\n"
     ]
    }
   ],
   "source": [
    "# 读取召回列表\n",
    "recall_list_dict = get_recall_list(save_path, single_recall_model='i2i_itemcf') # 这里只选择了单路召回的结果，也可以选择多路召回结果\n",
    "# 将召回数据转换成df\n",
    "recall_list_df = recall_dict_2_df(recall_list_dict)"
   ]
  },
  {
   "cell_type": "code",
   "execution_count": 40,
   "metadata": {
    "ExecuteTime": {
     "end_time": "2021-01-14T14:11:02.042149Z",
     "start_time": "2021-01-14T14:09:30.646488Z"
    }
   },
   "outputs": [
    {
     "name": "stdout",
     "output_type": "stream",
     "text": [
      "pos_data_num: 19093 neg_data_num: 9980907 pos/neg: 0.001912952400017353\n"
     ]
    }
   ],
   "source": [
    "# 给训练验证数据打标签，并负采样（这一部分时间比较久）\n",
    "trn_user_item_label_df, val_user_item_label_df, tst_user_item_label_df = get_user_recall_item_label_df(click_trn_hist, click_val_hist, click_tst_hist, click_trn_last, click_val_last, recall_list_df)"
   ]
  },
  {
   "cell_type": "code",
   "execution_count": 46,
   "metadata": {
    "ExecuteTime": {
     "end_time": "2021-01-14T14:12:14.233152Z",
     "start_time": "2021-01-14T14:12:14.219190Z"
    }
   },
   "outputs": [],
   "source": [
    "# 将最终的召回的df数据转换成字典的形式做排序特征\n",
    "def make_tuple_func(group_df):\n",
    "    row_data = []\n",
    "    for name, row_df in group_df.iterrows():\n",
    "        row_data.append((row_df['sim_item'], row_df['score'], row_df['label']))\n",
    "    \n",
    "    return row_data"
   ]
  },
  {
   "cell_type": "code",
   "execution_count": 47,
   "metadata": {
    "ExecuteTime": {
     "end_time": "2021-01-14T14:14:22.938071Z",
     "start_time": "2021-01-14T14:12:15.363132Z"
    }
   },
   "outputs": [],
   "source": [
    "trn_user_item_label_tuples = trn_user_item_label_df.groupby('user_id').apply(make_tuple_func).reset_index()\n",
    "trn_user_item_label_tuples_dict = dict(zip(trn_user_item_label_tuples['user_id'], trn_user_item_label_tuples[0]))\n",
    "\n",
    "if val_user_item_label_df is not None:\n",
    "    val_user_item_label_tuples = val_user_item_label_df.groupby('user_id').apply(make_tuple_func).reset_index()\n",
    "    val_user_item_label_tuples_dict = dict(zip(val_user_item_label_tuples['user_id'], val_user_item_label_tuples[0]))\n",
    "else:\n",
    "    val_user_item_label_tuples_dict = None\n",
    "    \n",
    "tst_user_item_label_tuples = tst_user_item_label_df.groupby('user_id').apply(make_tuple_func).reset_index()\n",
    "tst_user_item_label_tuples_dict = dict(zip(tst_user_item_label_tuples['user_id'], tst_user_item_label_tuples[0]))"
   ]
  },
  {
   "cell_type": "markdown",
   "metadata": {},
   "source": [
    "## 制作与用户历史行为相关特征\n",
    "- 对于每个用户召回的每个商品， 做特征。 具体步骤如下：\n",
    "\n",
    "    - 对于每个用户， 获取最后点击的N个商品的item_id，\n",
    "    - 对于该用户的每个召回商品， 计算与上面最后N次点击商品的相似度的和(最大， 最小，均值)， 时间差特征，相似性特征，字数差特征，与该用户的相似性特征"
   ]
  },
  {
   "cell_type": "code",
   "execution_count": 48,
   "metadata": {
    "ExecuteTime": {
     "end_time": "2021-01-14T14:14:22.954029Z",
     "start_time": "2021-01-14T14:14:22.939069Z"
    }
   },
   "outputs": [],
   "source": [
    "# 下面基于data做历史相关的特征\n",
    "def create_feature(users_id, recall_list, click_hist_df,  articles_info, articles_emb, user_emb=None, N=1):\n",
    "    \"\"\"\n",
    "    基于用户的历史行为做相关特征\n",
    "    :param users_id: 用户id\n",
    "    :param recall_list: 对于每个用户召回的候选文章列表\n",
    "    :param click_hist_df: 用户的历史点击信息\n",
    "    :param articles_info: 文章信息\n",
    "    :param articles_emb: 文章的embedding向量, 这个可以用item_content_emb, item_w2v_emb, item_youtube_emb\n",
    "    :param user_emb: 用户的embedding向量， 这个是user_youtube_emb, 如果没有也可以不用， 但要注意如果要用的话， articles_emb就要用item_youtube_emb的形式， 这样维度才一样\n",
    "    :param N: 最近的N次点击  由于testA日志里面很多用户只存在一次历史点击， 所以为了不产生空值，默认是1\n",
    "    \"\"\"\n",
    "    \n",
    "    # 建立一个二维列表保存结果， 后面要转成DataFrame\n",
    "    all_user_feas = []\n",
    "    i = 0\n",
    "    for user_id in tqdm(users_id):\n",
    "        # 该用户的最后N次点击\n",
    "        hist_user_items = click_hist_df[click_hist_df['user_id']==user_id]['click_article_id'][-N:]\n",
    "        \n",
    "        # 遍历该用户的召回列表\n",
    "        for rank, (article_id, score, label) in enumerate(recall_list[user_id]):\n",
    "            # 该文章建立时间, 字数\n",
    "            a_create_time = articles_info['created_at_ts'][article_id]\n",
    "            a_words_count = articles_info['words_count'][article_id]\n",
    "            single_user_fea = [user_id, article_id]\n",
    "            # 计算与最后点击的商品的相似度的和， 最大值和最小值， 均值\n",
    "            sim_fea = []\n",
    "            time_fea = []\n",
    "            word_fea = []\n",
    "            # 遍历用户的最后N次点击文章\n",
    "            for hist_item in hist_user_items:\n",
    "                b_create_time = articles_info['created_at_ts'][hist_item]\n",
    "                b_words_count = articles_info['words_count'][hist_item]\n",
    "                \n",
    "                sim_fea.append(np.dot(articles_emb[hist_item], articles_emb[article_id]))\n",
    "                time_fea.append(abs(a_create_time-b_create_time))\n",
    "                word_fea.append(abs(a_words_count-b_words_count))\n",
    "                \n",
    "            single_user_fea.extend(sim_fea)      # 相似性特征\n",
    "            single_user_fea.extend(time_fea)    # 时间差特征\n",
    "            single_user_fea.extend(word_fea)    # 字数差特征\n",
    "            single_user_fea.extend([max(sim_fea), min(sim_fea), sum(sim_fea), sum(sim_fea) / len(sim_fea)])  # 相似性的统计特征\n",
    "            \n",
    "            if user_emb:  # 如果用户向量有的话， 这里计算该召回文章与用户的相似性特征 \n",
    "                single_user_fea.append(np.dot(user_emb[user_id], articles_emb[article_id]))\n",
    "                \n",
    "            single_user_fea.extend([score, rank, label])    \n",
    "            # 加入到总的表中\n",
    "            all_user_feas.append(single_user_fea)\n",
    "    \n",
    "    # 定义列名\n",
    "    id_cols = ['user_id', 'click_article_id']\n",
    "    sim_cols = ['sim' + str(i) for i in range(N)]\n",
    "    time_cols = ['time_diff' + str(i) for i in range(N)]\n",
    "    word_cols = ['word_diff' + str(i) for i in range(N)]\n",
    "    sat_cols = ['sim_max', 'sim_min', 'sim_sum', 'sim_mean']\n",
    "    user_item_sim_cols = ['user_item_sim'] if user_emb else []\n",
    "    user_score_rank_label = ['score', 'rank', 'label']\n",
    "    cols = id_cols + sim_cols + time_cols + word_cols + sat_cols + user_item_sim_cols + user_score_rank_label\n",
    "            \n",
    "    # 转成DataFrame\n",
    "    df = pd.DataFrame( all_user_feas, columns=cols)\n",
    "    \n",
    "    return df"
   ]
  },
  {
   "cell_type": "code",
   "execution_count": 49,
   "metadata": {
    "ExecuteTime": {
     "end_time": "2021-01-14T14:19:13.828501Z",
     "start_time": "2021-01-14T14:14:22.955026Z"
    },
    "scrolled": true
   },
   "outputs": [
    {
     "name": "stderr",
     "output_type": "stream",
     "text": [
      "2021-01-14 22:14:43,783:INFO:collecting all words and their counts\n",
      "2021-01-14 22:14:43,783:INFO:PROGRESS: at sentence #0, processed 0 words, keeping 0 word types\n",
      "2021-01-14 22:14:43,790:INFO:PROGRESS: at sentence #10000, processed 25727 words, keeping 3473 word types\n",
      "2021-01-14 22:14:43,798:INFO:PROGRESS: at sentence #20000, processed 53883 words, keeping 5811 word types\n",
      "2021-01-14 22:14:43,807:INFO:PROGRESS: at sentence #30000, processed 84881 words, keeping 7676 word types\n",
      "2021-01-14 22:14:43,816:INFO:PROGRESS: at sentence #40000, processed 118390 words, keeping 9297 word types\n",
      "2021-01-14 22:14:43,826:INFO:PROGRESS: at sentence #50000, processed 154179 words, keeping 10844 word types\n",
      "2021-01-14 22:14:43,836:INFO:PROGRESS: at sentence #60000, processed 192350 words, keeping 12357 word types\n",
      "2021-01-14 22:14:43,847:INFO:PROGRESS: at sentence #70000, processed 233685 words, keeping 13473 word types\n",
      "2021-01-14 22:14:43,860:INFO:PROGRESS: at sentence #80000, processed 281335 words, keeping 14939 word types\n",
      "2021-01-14 22:14:43,872:INFO:PROGRESS: at sentence #90000, processed 329973 words, keeping 16420 word types\n",
      "2021-01-14 22:14:43,885:INFO:PROGRESS: at sentence #100000, processed 379428 words, keeping 17904 word types\n",
      "2021-01-14 22:14:43,898:INFO:PROGRESS: at sentence #110000, processed 431464 words, keeping 18928 word types\n",
      "2021-01-14 22:14:43,912:INFO:PROGRESS: at sentence #120000, processed 489655 words, keeping 20157 word types\n",
      "2021-01-14 22:14:43,934:INFO:PROGRESS: at sentence #130000, processed 550375 words, keeping 21588 word types\n",
      "2021-01-14 22:14:43,950:INFO:PROGRESS: at sentence #140000, processed 613031 words, keeping 22923 word types\n",
      "2021-01-14 22:14:43,967:INFO:PROGRESS: at sentence #150000, processed 678645 words, keeping 24209 word types\n",
      "2021-01-14 22:14:43,985:INFO:PROGRESS: at sentence #160000, processed 749559 words, keeping 25743 word types\n",
      "2021-01-14 22:14:44,005:INFO:PROGRESS: at sentence #170000, processed 831064 words, keeping 27232 word types\n",
      "2021-01-14 22:14:44,025:INFO:PROGRESS: at sentence #180000, processed 914233 words, keeping 28612 word types\n",
      "2021-01-14 22:14:44,047:INFO:PROGRESS: at sentence #190000, processed 1004976 words, keeping 29699 word types\n",
      "2021-01-14 22:14:44,074:INFO:PROGRESS: at sentence #200000, processed 1112623 words, keeping 31116 word types\n",
      "2021-01-14 22:14:44,094:INFO:PROGRESS: at sentence #210000, processed 1200577 words, keeping 31798 word types\n",
      "2021-01-14 22:14:44,115:INFO:PROGRESS: at sentence #220000, processed 1285942 words, keeping 32381 word types\n",
      "2021-01-14 22:14:44,137:INFO:PROGRESS: at sentence #230000, processed 1380836 words, keeping 33131 word types\n",
      "2021-01-14 22:14:44,164:INFO:PROGRESS: at sentence #240000, processed 1498710 words, keeping 34213 word types\n",
      "2021-01-14 22:14:44,194:INFO:PROGRESS: at sentence #250000, processed 1630633 words, keeping 35380 word types\n",
      "2021-01-14 22:14:44,225:INFO:PROGRESS: at sentence #260000, processed 1765294 words, keeping 36486 word types\n",
      "2021-01-14 22:14:44,263:INFO:PROGRESS: at sentence #270000, processed 1932905 words, keeping 38041 word types\n",
      "2021-01-14 22:14:44,304:INFO:PROGRESS: at sentence #280000, processed 2125588 words, keeping 39331 word types\n",
      "2021-01-14 22:14:44,333:INFO:PROGRESS: at sentence #290000, processed 2256965 words, keeping 40165 word types\n",
      "2021-01-14 22:14:44,367:INFO:collected 41047 word types from a corpus of 2407290 raw words and 300000 sentences\n",
      "2021-01-14 22:14:44,368:INFO:Loading a fresh vocabulary\n",
      "2021-01-14 22:14:44,410:INFO:effective_min_count=1 retains 41047 unique words (100% of original 41047, drops 0)\n",
      "2021-01-14 22:14:44,411:INFO:effective_min_count=1 leaves 2407290 word corpus (100% of original 2407290, drops 0)\n",
      "2021-01-14 22:14:44,503:INFO:deleting the raw counts dictionary of 41047 items\n",
      "2021-01-14 22:14:44,504:INFO:sample=0.001 downsamples 72 most-common words\n",
      "2021-01-14 22:14:44,504:INFO:downsampling leaves estimated 2165219 word corpus (89.9% of prior 2407290)\n",
      "2021-01-14 22:14:44,579:INFO:estimated required memory for 41047 words and 128 dimensions: 62555628 bytes\n",
      "2021-01-14 22:14:44,580:INFO:resetting layer weights\n",
      "2021-01-14 22:14:50,100:INFO:training model with 12 workers on 41047 vocabulary and 128 features, using sg=1 hs=0 sample=0.001 negative=5 window=15\n",
      "2021-01-14 22:14:51,137:INFO:EPOCH 1 - PROGRESS: at 52.38% examples, 654756 words/s, in_qsize 23, out_qsize 0\n",
      "2021-01-14 22:14:52,140:INFO:EPOCH 1 - PROGRESS: at 69.96% examples, 540484 words/s, in_qsize 23, out_qsize 0\n",
      "2021-01-14 22:14:53,159:INFO:EPOCH 1 - PROGRESS: at 83.57% examples, 485916 words/s, in_qsize 22, out_qsize 1\n",
      "2021-01-14 22:14:54,290:INFO:EPOCH 1 - PROGRESS: at 91.30% examples, 432834 words/s, in_qsize 23, out_qsize 0\n",
      "2021-01-14 22:14:55,086:INFO:worker thread finished; awaiting finish of 11 more threads\n",
      "2021-01-14 22:14:55,090:INFO:worker thread finished; awaiting finish of 10 more threads\n",
      "2021-01-14 22:14:55,107:INFO:worker thread finished; awaiting finish of 9 more threads\n",
      "2021-01-14 22:14:55,108:INFO:worker thread finished; awaiting finish of 8 more threads\n",
      "2021-01-14 22:14:55,134:INFO:worker thread finished; awaiting finish of 7 more threads\n",
      "2021-01-14 22:14:55,136:INFO:worker thread finished; awaiting finish of 6 more threads\n",
      "2021-01-14 22:14:55,147:INFO:worker thread finished; awaiting finish of 5 more threads\n",
      "2021-01-14 22:14:55,179:INFO:worker thread finished; awaiting finish of 4 more threads\n",
      "2021-01-14 22:14:55,183:INFO:worker thread finished; awaiting finish of 3 more threads\n",
      "2021-01-14 22:14:55,185:INFO:worker thread finished; awaiting finish of 2 more threads\n",
      "2021-01-14 22:14:55,192:INFO:worker thread finished; awaiting finish of 1 more threads\n",
      "2021-01-14 22:14:55,211:INFO:worker thread finished; awaiting finish of 0 more threads\n",
      "2021-01-14 22:14:55,211:INFO:EPOCH - 1 : training on 2407290 raw words (2165429 effective words) took 5.1s, 425487 effective words/s\n",
      "2021-01-14 22:14:56,260:INFO:EPOCH 2 - PROGRESS: at 51.54% examples, 622068 words/s, in_qsize 23, out_qsize 0\n",
      "2021-01-14 22:14:57,265:INFO:EPOCH 2 - PROGRESS: at 69.94% examples, 533419 words/s, in_qsize 23, out_qsize 0\n",
      "2021-01-14 22:14:58,272:INFO:EPOCH 2 - PROGRESS: at 83.54% examples, 483438 words/s, in_qsize 24, out_qsize 0\n",
      "2021-01-14 22:14:59,297:INFO:EPOCH 2 - PROGRESS: at 91.31% examples, 442388 words/s, in_qsize 24, out_qsize 0\n",
      "2021-01-14 22:15:00,024:INFO:worker thread finished; awaiting finish of 11 more threads\n",
      "2021-01-14 22:15:00,034:INFO:worker thread finished; awaiting finish of 10 more threads\n",
      "2021-01-14 22:15:00,072:INFO:worker thread finished; awaiting finish of 9 more threads\n",
      "2021-01-14 22:15:00,145:INFO:worker thread finished; awaiting finish of 8 more threads\n",
      "2021-01-14 22:15:00,150:INFO:worker thread finished; awaiting finish of 7 more threads\n",
      "2021-01-14 22:15:00,175:INFO:worker thread finished; awaiting finish of 6 more threads\n",
      "2021-01-14 22:15:00,201:INFO:worker thread finished; awaiting finish of 5 more threads\n",
      "2021-01-14 22:15:00,220:INFO:worker thread finished; awaiting finish of 4 more threads\n",
      "2021-01-14 22:15:00,225:INFO:worker thread finished; awaiting finish of 3 more threads\n",
      "2021-01-14 22:15:00,226:INFO:worker thread finished; awaiting finish of 2 more threads\n",
      "2021-01-14 22:15:00,230:INFO:worker thread finished; awaiting finish of 1 more threads\n",
      "2021-01-14 22:15:00,231:INFO:worker thread finished; awaiting finish of 0 more threads\n",
      "2021-01-14 22:15:00,232:INFO:EPOCH - 2 : training on 2407290 raw words (2164536 effective words) took 5.0s, 432094 effective words/s\n",
      "2021-01-14 22:15:01,275:INFO:EPOCH 3 - PROGRESS: at 51.99% examples, 639679 words/s, in_qsize 24, out_qsize 1\n",
      "2021-01-14 22:15:02,294:INFO:EPOCH 3 - PROGRESS: at 70.77% examples, 541502 words/s, in_qsize 23, out_qsize 0\n",
      "2021-01-14 22:15:03,335:INFO:EPOCH 3 - PROGRESS: at 83.28% examples, 475514 words/s, in_qsize 23, out_qsize 0\n",
      "2021-01-14 22:15:04,392:INFO:EPOCH 3 - PROGRESS: at 91.31% examples, 435526 words/s, in_qsize 23, out_qsize 0\n",
      "2021-01-14 22:15:05,144:INFO:worker thread finished; awaiting finish of 11 more threads\n",
      "2021-01-14 22:15:05,205:INFO:worker thread finished; awaiting finish of 10 more threads\n",
      "2021-01-14 22:15:05,206:INFO:worker thread finished; awaiting finish of 9 more threads\n"
     ]
    },
    {
     "name": "stderr",
     "output_type": "stream",
     "text": [
      "2021-01-14 22:15:05,210:INFO:worker thread finished; awaiting finish of 8 more threads\n",
      "2021-01-14 22:15:05,245:INFO:worker thread finished; awaiting finish of 7 more threads\n",
      "2021-01-14 22:15:05,260:INFO:worker thread finished; awaiting finish of 6 more threads\n",
      "2021-01-14 22:15:05,277:INFO:worker thread finished; awaiting finish of 5 more threads\n",
      "2021-01-14 22:15:05,286:INFO:worker thread finished; awaiting finish of 4 more threads\n",
      "2021-01-14 22:15:05,289:INFO:worker thread finished; awaiting finish of 3 more threads\n",
      "2021-01-14 22:15:05,316:INFO:worker thread finished; awaiting finish of 2 more threads\n",
      "2021-01-14 22:15:05,322:INFO:worker thread finished; awaiting finish of 1 more threads\n",
      "2021-01-14 22:15:05,333:INFO:worker thread finished; awaiting finish of 0 more threads\n",
      "2021-01-14 22:15:05,334:INFO:EPOCH - 3 : training on 2407290 raw words (2165515 effective words) took 5.1s, 425959 effective words/s\n",
      "2021-01-14 22:15:06,363:INFO:EPOCH 4 - PROGRESS: at 50.96% examples, 633931 words/s, in_qsize 23, out_qsize 0\n",
      "2021-01-14 22:15:07,376:INFO:EPOCH 4 - PROGRESS: at 69.99% examples, 540201 words/s, in_qsize 23, out_qsize 0\n",
      "2021-01-14 22:15:08,420:INFO:EPOCH 4 - PROGRESS: at 83.02% examples, 475984 words/s, in_qsize 24, out_qsize 0\n",
      "2021-01-14 22:15:09,440:INFO:EPOCH 4 - PROGRESS: at 91.30% examples, 441937 words/s, in_qsize 23, out_qsize 0\n",
      "2021-01-14 22:15:10,255:INFO:worker thread finished; awaiting finish of 11 more threads\n",
      "2021-01-14 22:15:10,259:INFO:worker thread finished; awaiting finish of 10 more threads\n",
      "2021-01-14 22:15:10,275:INFO:worker thread finished; awaiting finish of 9 more threads\n",
      "2021-01-14 22:15:10,278:INFO:worker thread finished; awaiting finish of 8 more threads\n",
      "2021-01-14 22:15:10,333:INFO:worker thread finished; awaiting finish of 7 more threads\n",
      "2021-01-14 22:15:10,334:INFO:worker thread finished; awaiting finish of 6 more threads\n",
      "2021-01-14 22:15:10,351:INFO:worker thread finished; awaiting finish of 5 more threads\n",
      "2021-01-14 22:15:10,364:INFO:worker thread finished; awaiting finish of 4 more threads\n",
      "2021-01-14 22:15:10,367:INFO:worker thread finished; awaiting finish of 3 more threads\n",
      "2021-01-14 22:15:10,368:INFO:worker thread finished; awaiting finish of 2 more threads\n",
      "2021-01-14 22:15:10,388:INFO:worker thread finished; awaiting finish of 1 more threads\n",
      "2021-01-14 22:15:10,400:INFO:worker thread finished; awaiting finish of 0 more threads\n",
      "2021-01-14 22:15:10,400:INFO:EPOCH - 4 : training on 2407290 raw words (2165628 effective words) took 5.0s, 429467 effective words/s\n",
      "2021-01-14 22:15:11,433:INFO:EPOCH 5 - PROGRESS: at 50.44% examples, 620581 words/s, in_qsize 23, out_qsize 0\n",
      "2021-01-14 22:15:12,438:INFO:EPOCH 5 - PROGRESS: at 69.11% examples, 531404 words/s, in_qsize 23, out_qsize 0\n",
      "2021-01-14 22:15:13,448:INFO:EPOCH 5 - PROGRESS: at 83.04% examples, 481352 words/s, in_qsize 24, out_qsize 0\n",
      "2021-01-14 22:15:14,449:INFO:EPOCH 5 - PROGRESS: at 90.61% examples, 438811 words/s, in_qsize 23, out_qsize 0\n",
      "2021-01-14 22:15:15,328:INFO:worker thread finished; awaiting finish of 11 more threads\n",
      "2021-01-14 22:15:15,349:INFO:worker thread finished; awaiting finish of 10 more threads\n",
      "2021-01-14 22:15:15,406:INFO:worker thread finished; awaiting finish of 9 more threads\n",
      "2021-01-14 22:15:15,431:INFO:worker thread finished; awaiting finish of 8 more threads\n",
      "2021-01-14 22:15:15,446:INFO:worker thread finished; awaiting finish of 7 more threads\n",
      "2021-01-14 22:15:15,477:INFO:EPOCH 5 - PROGRESS: at 98.77% examples, 417241 words/s, in_qsize 6, out_qsize 1\n",
      "2021-01-14 22:15:15,478:INFO:worker thread finished; awaiting finish of 6 more threads\n",
      "2021-01-14 22:15:15,481:INFO:worker thread finished; awaiting finish of 5 more threads\n",
      "2021-01-14 22:15:15,482:INFO:worker thread finished; awaiting finish of 4 more threads\n",
      "2021-01-14 22:15:15,514:INFO:worker thread finished; awaiting finish of 3 more threads\n",
      "2021-01-14 22:15:15,518:INFO:worker thread finished; awaiting finish of 2 more threads\n",
      "2021-01-14 22:15:15,520:INFO:worker thread finished; awaiting finish of 1 more threads\n",
      "2021-01-14 22:15:15,529:INFO:worker thread finished; awaiting finish of 0 more threads\n",
      "2021-01-14 22:15:15,530:INFO:EPOCH - 5 : training on 2407290 raw words (2164971 effective words) took 5.1s, 423645 effective words/s\n",
      "2021-01-14 22:15:16,546:INFO:EPOCH 6 - PROGRESS: at 51.05% examples, 634938 words/s, in_qsize 23, out_qsize 0\n",
      "2021-01-14 22:15:17,547:INFO:EPOCH 6 - PROGRESS: at 69.55% examples, 539435 words/s, in_qsize 23, out_qsize 0\n",
      "2021-01-14 22:15:18,561:INFO:EPOCH 6 - PROGRESS: at 83.28% examples, 485759 words/s, in_qsize 23, out_qsize 0\n",
      "2021-01-14 22:15:19,679:INFO:EPOCH 6 - PROGRESS: at 90.81% examples, 429597 words/s, in_qsize 23, out_qsize 0\n",
      "2021-01-14 22:15:20,475:INFO:worker thread finished; awaiting finish of 11 more threads\n",
      "2021-01-14 22:15:20,488:INFO:worker thread finished; awaiting finish of 10 more threads\n",
      "2021-01-14 22:15:20,505:INFO:worker thread finished; awaiting finish of 9 more threads\n",
      "2021-01-14 22:15:20,516:INFO:worker thread finished; awaiting finish of 8 more threads\n",
      "2021-01-14 22:15:20,578:INFO:worker thread finished; awaiting finish of 7 more threads\n",
      "2021-01-14 22:15:20,632:INFO:worker thread finished; awaiting finish of 6 more threads\n",
      "2021-01-14 22:15:20,656:INFO:worker thread finished; awaiting finish of 5 more threads\n",
      "2021-01-14 22:15:20,671:INFO:worker thread finished; awaiting finish of 4 more threads\n",
      "2021-01-14 22:15:20,672:INFO:worker thread finished; awaiting finish of 3 more threads\n",
      "2021-01-14 22:15:20,676:INFO:worker thread finished; awaiting finish of 2 more threads\n",
      "2021-01-14 22:15:20,677:INFO:worker thread finished; awaiting finish of 1 more threads\n",
      "2021-01-14 22:15:20,679:INFO:EPOCH 6 - PROGRESS: at 100.00% examples, 421632 words/s, in_qsize 0, out_qsize 1\n",
      "2021-01-14 22:15:20,680:INFO:worker thread finished; awaiting finish of 0 more threads\n",
      "2021-01-14 22:15:20,680:INFO:EPOCH - 6 : training on 2407290 raw words (2165646 effective words) took 5.1s, 421519 effective words/s\n",
      "2021-01-14 22:15:21,698:INFO:EPOCH 7 - PROGRESS: at 50.50% examples, 628010 words/s, in_qsize 23, out_qsize 0\n",
      "2021-01-14 22:15:22,710:INFO:EPOCH 7 - PROGRESS: at 68.83% examples, 528708 words/s, in_qsize 23, out_qsize 0\n",
      "2021-01-14 22:15:23,752:INFO:EPOCH 7 - PROGRESS: at 82.01% examples, 465771 words/s, in_qsize 23, out_qsize 0\n",
      "2021-01-14 22:15:24,813:INFO:EPOCH 7 - PROGRESS: at 90.48% examples, 427545 words/s, in_qsize 24, out_qsize 0\n",
      "2021-01-14 22:15:25,673:INFO:worker thread finished; awaiting finish of 11 more threads\n",
      "2021-01-14 22:15:25,697:INFO:worker thread finished; awaiting finish of 10 more threads\n",
      "2021-01-14 22:15:25,706:INFO:worker thread finished; awaiting finish of 9 more threads\n",
      "2021-01-14 22:15:25,752:INFO:worker thread finished; awaiting finish of 8 more threads\n",
      "2021-01-14 22:15:25,783:INFO:worker thread finished; awaiting finish of 7 more threads\n",
      "2021-01-14 22:15:25,784:INFO:worker thread finished; awaiting finish of 6 more threads\n",
      "2021-01-14 22:15:25,828:INFO:EPOCH 7 - PROGRESS: at 99.05% examples, 413046 words/s, in_qsize 5, out_qsize 1\n",
      "2021-01-14 22:15:25,829:INFO:worker thread finished; awaiting finish of 5 more threads\n",
      "2021-01-14 22:15:25,833:INFO:worker thread finished; awaiting finish of 4 more threads\n",
      "2021-01-14 22:15:25,846:INFO:worker thread finished; awaiting finish of 3 more threads\n",
      "2021-01-14 22:15:25,858:INFO:worker thread finished; awaiting finish of 2 more threads\n",
      "2021-01-14 22:15:25,866:INFO:worker thread finished; awaiting finish of 1 more threads\n",
      "2021-01-14 22:15:25,867:INFO:worker thread finished; awaiting finish of 0 more threads\n",
      "2021-01-14 22:15:25,867:INFO:EPOCH - 7 : training on 2407290 raw words (2165277 effective words) took 5.2s, 418886 effective words/s\n",
      "2021-01-14 22:15:26,904:INFO:EPOCH 8 - PROGRESS: at 50.58% examples, 620526 words/s, in_qsize 23, out_qsize 0\n",
      "2021-01-14 22:15:27,909:INFO:EPOCH 8 - PROGRESS: at 69.11% examples, 531754 words/s, in_qsize 23, out_qsize 0\n",
      "2021-01-14 22:15:28,947:INFO:EPOCH 8 - PROGRESS: at 82.78% examples, 474231 words/s, in_qsize 23, out_qsize 0\n",
      "2021-01-14 22:15:29,957:INFO:EPOCH 8 - PROGRESS: at 90.64% examples, 434974 words/s, in_qsize 23, out_qsize 0\n",
      "2021-01-14 22:15:30,812:INFO:worker thread finished; awaiting finish of 11 more threads\n"
     ]
    },
    {
     "name": "stderr",
     "output_type": "stream",
     "text": [
      "2021-01-14 22:15:30,816:INFO:worker thread finished; awaiting finish of 10 more threads\n",
      "2021-01-14 22:15:30,869:INFO:worker thread finished; awaiting finish of 9 more threads\n",
      "2021-01-14 22:15:30,896:INFO:worker thread finished; awaiting finish of 8 more threads\n",
      "2021-01-14 22:15:30,910:INFO:worker thread finished; awaiting finish of 7 more threads\n",
      "2021-01-14 22:15:30,953:INFO:worker thread finished; awaiting finish of 6 more threads\n",
      "2021-01-14 22:15:30,971:INFO:EPOCH 8 - PROGRESS: at 99.03% examples, 417312 words/s, in_qsize 5, out_qsize 1\n",
      "2021-01-14 22:15:30,972:INFO:worker thread finished; awaiting finish of 5 more threads\n",
      "2021-01-14 22:15:30,983:INFO:worker thread finished; awaiting finish of 4 more threads\n",
      "2021-01-14 22:15:30,984:INFO:worker thread finished; awaiting finish of 3 more threads\n",
      "2021-01-14 22:15:30,991:INFO:worker thread finished; awaiting finish of 2 more threads\n",
      "2021-01-14 22:15:31,005:INFO:worker thread finished; awaiting finish of 1 more threads\n",
      "2021-01-14 22:15:31,026:INFO:worker thread finished; awaiting finish of 0 more threads\n",
      "2021-01-14 22:15:31,026:INFO:EPOCH - 8 : training on 2407290 raw words (2165869 effective words) took 5.1s, 421777 effective words/s\n",
      "2021-01-14 22:15:32,076:INFO:EPOCH 9 - PROGRESS: at 51.97% examples, 638756 words/s, in_qsize 23, out_qsize 0\n",
      "2021-01-14 22:15:33,091:INFO:EPOCH 9 - PROGRESS: at 70.73% examples, 542513 words/s, in_qsize 23, out_qsize 0\n",
      "2021-01-14 22:15:34,102:INFO:EPOCH 9 - PROGRESS: at 83.28% examples, 480467 words/s, in_qsize 23, out_qsize 0\n",
      "2021-01-14 22:15:35,135:INFO:EPOCH 9 - PROGRESS: at 91.29% examples, 441514 words/s, in_qsize 23, out_qsize 0\n",
      "2021-01-14 22:15:35,937:INFO:worker thread finished; awaiting finish of 11 more threads\n",
      "2021-01-14 22:15:35,938:INFO:worker thread finished; awaiting finish of 10 more threads\n",
      "2021-01-14 22:15:35,939:INFO:worker thread finished; awaiting finish of 9 more threads\n",
      "2021-01-14 22:15:35,946:INFO:worker thread finished; awaiting finish of 8 more threads\n",
      "2021-01-14 22:15:35,979:INFO:worker thread finished; awaiting finish of 7 more threads\n",
      "2021-01-14 22:15:36,007:INFO:worker thread finished; awaiting finish of 6 more threads\n",
      "2021-01-14 22:15:36,025:INFO:worker thread finished; awaiting finish of 5 more threads\n",
      "2021-01-14 22:15:36,041:INFO:worker thread finished; awaiting finish of 4 more threads\n",
      "2021-01-14 22:15:36,049:INFO:worker thread finished; awaiting finish of 3 more threads\n",
      "2021-01-14 22:15:36,069:INFO:worker thread finished; awaiting finish of 2 more threads\n",
      "2021-01-14 22:15:36,073:INFO:worker thread finished; awaiting finish of 1 more threads\n",
      "2021-01-14 22:15:36,074:INFO:worker thread finished; awaiting finish of 0 more threads\n",
      "2021-01-14 22:15:36,075:INFO:EPOCH - 9 : training on 2407290 raw words (2165331 effective words) took 5.0s, 430944 effective words/s\n",
      "2021-01-14 22:15:37,098:INFO:EPOCH 10 - PROGRESS: at 51.03% examples, 636595 words/s, in_qsize 23, out_qsize 0\n",
      "2021-01-14 22:15:38,114:INFO:EPOCH 10 - PROGRESS: at 69.53% examples, 536213 words/s, in_qsize 23, out_qsize 0\n",
      "2021-01-14 22:15:39,152:INFO:EPOCH 10 - PROGRESS: at 83.04% examples, 476832 words/s, in_qsize 23, out_qsize 0\n",
      "2021-01-14 22:15:40,186:INFO:EPOCH 10 - PROGRESS: at 90.81% examples, 434485 words/s, in_qsize 24, out_qsize 0\n",
      "2021-01-14 22:15:41,056:INFO:worker thread finished; awaiting finish of 11 more threads\n",
      "2021-01-14 22:15:41,058:INFO:worker thread finished; awaiting finish of 10 more threads\n",
      "2021-01-14 22:15:41,084:INFO:worker thread finished; awaiting finish of 9 more threads\n",
      "2021-01-14 22:15:41,090:INFO:worker thread finished; awaiting finish of 8 more threads\n",
      "2021-01-14 22:15:41,112:INFO:worker thread finished; awaiting finish of 7 more threads\n",
      "2021-01-14 22:15:41,124:INFO:worker thread finished; awaiting finish of 6 more threads\n",
      "2021-01-14 22:15:41,135:INFO:worker thread finished; awaiting finish of 5 more threads\n",
      "2021-01-14 22:15:41,144:INFO:worker thread finished; awaiting finish of 4 more threads\n",
      "2021-01-14 22:15:41,151:INFO:worker thread finished; awaiting finish of 3 more threads\n",
      "2021-01-14 22:15:41,200:INFO:EPOCH 10 - PROGRESS: at 99.62% examples, 420613 words/s, in_qsize 2, out_qsize 1\n",
      "2021-01-14 22:15:41,201:INFO:worker thread finished; awaiting finish of 2 more threads\n",
      "2021-01-14 22:15:41,202:INFO:worker thread finished; awaiting finish of 1 more threads\n",
      "2021-01-14 22:15:41,211:INFO:worker thread finished; awaiting finish of 0 more threads\n",
      "2021-01-14 22:15:41,212:INFO:EPOCH - 10 : training on 2407290 raw words (2164905 effective words) took 5.1s, 423250 effective words/s\n",
      "2021-01-14 22:15:42,284:INFO:EPOCH 11 - PROGRESS: at 52.44% examples, 637996 words/s, in_qsize 23, out_qsize 0\n",
      "2021-01-14 22:15:43,288:INFO:EPOCH 11 - PROGRESS: at 70.77% examples, 541101 words/s, in_qsize 23, out_qsize 0\n",
      "2021-01-14 22:15:44,316:INFO:EPOCH 11 - PROGRESS: at 83.28% examples, 477108 words/s, in_qsize 23, out_qsize 0\n",
      "2021-01-14 22:15:45,396:INFO:EPOCH 11 - PROGRESS: at 91.46% examples, 436404 words/s, in_qsize 23, out_qsize 0\n",
      "2021-01-14 22:15:46,106:INFO:worker thread finished; awaiting finish of 11 more threads\n",
      "2021-01-14 22:15:46,119:INFO:worker thread finished; awaiting finish of 10 more threads\n",
      "2021-01-14 22:15:46,152:INFO:worker thread finished; awaiting finish of 9 more threads\n",
      "2021-01-14 22:15:46,190:INFO:worker thread finished; awaiting finish of 8 more threads\n",
      "2021-01-14 22:15:46,191:INFO:worker thread finished; awaiting finish of 7 more threads\n",
      "2021-01-14 22:15:46,202:INFO:worker thread finished; awaiting finish of 6 more threads\n",
      "2021-01-14 22:15:46,223:INFO:worker thread finished; awaiting finish of 5 more threads\n",
      "2021-01-14 22:15:46,234:INFO:worker thread finished; awaiting finish of 4 more threads\n",
      "2021-01-14 22:15:46,263:INFO:worker thread finished; awaiting finish of 3 more threads\n",
      "2021-01-14 22:15:46,265:INFO:worker thread finished; awaiting finish of 2 more threads\n",
      "2021-01-14 22:15:46,271:INFO:worker thread finished; awaiting finish of 1 more threads\n",
      "2021-01-14 22:15:46,283:INFO:worker thread finished; awaiting finish of 0 more threads\n",
      "2021-01-14 22:15:46,283:INFO:EPOCH - 11 : training on 2407290 raw words (2165918 effective words) took 5.0s, 429565 effective words/s\n",
      "2021-01-14 22:15:47,328:INFO:EPOCH 12 - PROGRESS: at 51.05% examples, 619442 words/s, in_qsize 23, out_qsize 0\n",
      "2021-01-14 22:15:48,402:INFO:EPOCH 12 - PROGRESS: at 69.53% examples, 514244 words/s, in_qsize 21, out_qsize 2\n",
      "2021-01-14 22:15:49,439:INFO:EPOCH 12 - PROGRESS: at 83.28% examples, 467094 words/s, in_qsize 23, out_qsize 0\n",
      "2021-01-14 22:15:50,460:INFO:EPOCH 12 - PROGRESS: at 91.31% examples, 433454 words/s, in_qsize 23, out_qsize 0\n",
      "2021-01-14 22:15:51,240:INFO:worker thread finished; awaiting finish of 11 more threads\n",
      "2021-01-14 22:15:51,272:INFO:worker thread finished; awaiting finish of 10 more threads\n",
      "2021-01-14 22:15:51,285:INFO:worker thread finished; awaiting finish of 9 more threads\n",
      "2021-01-14 22:15:51,338:INFO:worker thread finished; awaiting finish of 8 more threads\n",
      "2021-01-14 22:15:51,349:INFO:worker thread finished; awaiting finish of 7 more threads\n",
      "2021-01-14 22:15:51,383:INFO:worker thread finished; awaiting finish of 6 more threads\n",
      "2021-01-14 22:15:51,404:INFO:worker thread finished; awaiting finish of 5 more threads\n",
      "2021-01-14 22:15:51,408:INFO:worker thread finished; awaiting finish of 4 more threads\n",
      "2021-01-14 22:15:51,418:INFO:worker thread finished; awaiting finish of 3 more threads\n",
      "2021-01-14 22:15:51,420:INFO:worker thread finished; awaiting finish of 2 more threads\n",
      "2021-01-14 22:15:51,421:INFO:worker thread finished; awaiting finish of 1 more threads\n",
      "2021-01-14 22:15:51,430:INFO:worker thread finished; awaiting finish of 0 more threads\n",
      "2021-01-14 22:15:51,431:INFO:EPOCH - 12 : training on 2407290 raw words (2165432 effective words) took 5.1s, 421974 effective words/s\n",
      "2021-01-14 22:15:52,476:INFO:EPOCH 13 - PROGRESS: at 51.49% examples, 626039 words/s, in_qsize 23, out_qsize 0\n",
      "2021-01-14 22:15:53,476:INFO:EPOCH 13 - PROGRESS: at 69.53% examples, 531990 words/s, in_qsize 23, out_qsize 0\n",
      "2021-01-14 22:15:54,497:INFO:EPOCH 13 - PROGRESS: at 83.02% examples, 477177 words/s, in_qsize 23, out_qsize 0\n",
      "2021-01-14 22:15:55,503:INFO:EPOCH 13 - PROGRESS: at 90.99% examples, 439819 words/s, in_qsize 23, out_qsize 0\n"
     ]
    },
    {
     "name": "stderr",
     "output_type": "stream",
     "text": [
      "2021-01-14 22:15:56,302:INFO:worker thread finished; awaiting finish of 11 more threads\n",
      "2021-01-14 22:15:56,338:INFO:worker thread finished; awaiting finish of 10 more threads\n",
      "2021-01-14 22:15:56,339:INFO:worker thread finished; awaiting finish of 9 more threads\n",
      "2021-01-14 22:15:56,416:INFO:worker thread finished; awaiting finish of 8 more threads\n",
      "2021-01-14 22:15:56,434:INFO:worker thread finished; awaiting finish of 7 more threads\n",
      "2021-01-14 22:15:56,435:INFO:worker thread finished; awaiting finish of 6 more threads\n",
      "2021-01-14 22:15:56,478:INFO:worker thread finished; awaiting finish of 5 more threads\n",
      "2021-01-14 22:15:56,479:INFO:worker thread finished; awaiting finish of 4 more threads\n",
      "2021-01-14 22:15:56,491:INFO:worker thread finished; awaiting finish of 3 more threads\n",
      "2021-01-14 22:15:56,498:INFO:worker thread finished; awaiting finish of 2 more threads\n",
      "2021-01-14 22:15:56,502:INFO:worker thread finished; awaiting finish of 1 more threads\n",
      "2021-01-14 22:15:56,510:INFO:EPOCH 13 - PROGRESS: at 100.00% examples, 427332 words/s, in_qsize 0, out_qsize 1\n",
      "2021-01-14 22:15:56,511:INFO:worker thread finished; awaiting finish of 0 more threads\n",
      "2021-01-14 22:15:56,511:INFO:EPOCH - 13 : training on 2407290 raw words (2165415 effective words) took 5.1s, 427231 effective words/s\n",
      "2021-01-14 22:15:57,553:INFO:EPOCH 14 - PROGRESS: at 51.02% examples, 626058 words/s, in_qsize 23, out_qsize 0\n",
      "2021-01-14 22:15:58,579:INFO:EPOCH 14 - PROGRESS: at 69.53% examples, 529176 words/s, in_qsize 23, out_qsize 0\n",
      "2021-01-14 22:15:59,599:INFO:EPOCH 14 - PROGRESS: at 83.29% examples, 478780 words/s, in_qsize 23, out_qsize 0\n",
      "2021-01-14 22:16:00,617:INFO:EPOCH 14 - PROGRESS: at 90.96% examples, 437666 words/s, in_qsize 23, out_qsize 0\n",
      "2021-01-14 22:16:01,404:INFO:worker thread finished; awaiting finish of 11 more threads\n",
      "2021-01-14 22:16:01,437:INFO:worker thread finished; awaiting finish of 10 more threads\n",
      "2021-01-14 22:16:01,461:INFO:worker thread finished; awaiting finish of 9 more threads\n",
      "2021-01-14 22:16:01,501:INFO:worker thread finished; awaiting finish of 8 more threads\n",
      "2021-01-14 22:16:01,503:INFO:worker thread finished; awaiting finish of 7 more threads\n",
      "2021-01-14 22:16:01,511:INFO:worker thread finished; awaiting finish of 6 more threads\n",
      "2021-01-14 22:16:01,532:INFO:worker thread finished; awaiting finish of 5 more threads\n",
      "2021-01-14 22:16:01,534:INFO:worker thread finished; awaiting finish of 4 more threads\n",
      "2021-01-14 22:16:01,569:INFO:worker thread finished; awaiting finish of 3 more threads\n",
      "2021-01-14 22:16:01,570:INFO:worker thread finished; awaiting finish of 2 more threads\n",
      "2021-01-14 22:16:01,584:INFO:worker thread finished; awaiting finish of 1 more threads\n",
      "2021-01-14 22:16:01,585:INFO:worker thread finished; awaiting finish of 0 more threads\n",
      "2021-01-14 22:16:01,585:INFO:EPOCH - 14 : training on 2407290 raw words (2165616 effective words) took 5.1s, 428822 effective words/s\n",
      "2021-01-14 22:16:02,635:INFO:EPOCH 15 - PROGRESS: at 51.50% examples, 631143 words/s, in_qsize 23, out_qsize 0\n",
      "2021-01-14 22:16:03,644:INFO:EPOCH 15 - PROGRESS: at 70.34% examples, 540386 words/s, in_qsize 23, out_qsize 0\n",
      "2021-01-14 22:16:04,648:INFO:EPOCH 15 - PROGRESS: at 83.04% examples, 479799 words/s, in_qsize 23, out_qsize 0\n",
      "2021-01-14 22:16:05,667:INFO:EPOCH 15 - PROGRESS: at 91.00% examples, 440664 words/s, in_qsize 23, out_qsize 0\n",
      "2021-01-14 22:16:06,454:INFO:worker thread finished; awaiting finish of 11 more threads\n",
      "2021-01-14 22:16:06,463:INFO:worker thread finished; awaiting finish of 10 more threads\n",
      "2021-01-14 22:16:06,466:INFO:worker thread finished; awaiting finish of 9 more threads\n",
      "2021-01-14 22:16:06,486:INFO:worker thread finished; awaiting finish of 8 more threads\n",
      "2021-01-14 22:16:06,503:INFO:worker thread finished; awaiting finish of 7 more threads\n",
      "2021-01-14 22:16:06,552:INFO:worker thread finished; awaiting finish of 6 more threads\n",
      "2021-01-14 22:16:06,576:INFO:worker thread finished; awaiting finish of 5 more threads\n",
      "2021-01-14 22:16:06,595:INFO:worker thread finished; awaiting finish of 4 more threads\n",
      "2021-01-14 22:16:06,598:INFO:worker thread finished; awaiting finish of 3 more threads\n",
      "2021-01-14 22:16:06,608:INFO:worker thread finished; awaiting finish of 2 more threads\n",
      "2021-01-14 22:16:06,612:INFO:worker thread finished; awaiting finish of 1 more threads\n",
      "2021-01-14 22:16:06,618:INFO:worker thread finished; awaiting finish of 0 more threads\n",
      "2021-01-14 22:16:06,619:INFO:EPOCH - 15 : training on 2407290 raw words (2165711 effective words) took 5.0s, 432414 effective words/s\n",
      "2021-01-14 22:16:07,640:INFO:EPOCH 16 - PROGRESS: at 50.58% examples, 622171 words/s, in_qsize 23, out_qsize 0\n",
      "2021-01-14 22:16:08,645:INFO:EPOCH 16 - PROGRESS: at 69.53% examples, 536912 words/s, in_qsize 23, out_qsize 0\n",
      "2021-01-14 22:16:09,646:INFO:EPOCH 16 - PROGRESS: at 82.79% examples, 480302 words/s, in_qsize 23, out_qsize 1\n",
      "2021-01-14 22:16:10,703:INFO:EPOCH 16 - PROGRESS: at 90.63% examples, 434156 words/s, in_qsize 24, out_qsize 0\n",
      "2021-01-14 22:16:11,543:INFO:worker thread finished; awaiting finish of 11 more threads\n",
      "2021-01-14 22:16:11,565:INFO:worker thread finished; awaiting finish of 10 more threads\n",
      "2021-01-14 22:16:11,595:INFO:worker thread finished; awaiting finish of 9 more threads\n",
      "2021-01-14 22:16:11,607:INFO:worker thread finished; awaiting finish of 8 more threads\n",
      "2021-01-14 22:16:11,666:INFO:worker thread finished; awaiting finish of 7 more threads\n",
      "2021-01-14 22:16:11,672:INFO:worker thread finished; awaiting finish of 6 more threads\n",
      "2021-01-14 22:16:11,687:INFO:worker thread finished; awaiting finish of 5 more threads\n",
      "2021-01-14 22:16:11,702:INFO:worker thread finished; awaiting finish of 4 more threads\n",
      "2021-01-14 22:16:11,722:INFO:EPOCH 16 - PROGRESS: at 99.43% examples, 419792 words/s, in_qsize 3, out_qsize 1\n",
      "2021-01-14 22:16:11,723:INFO:worker thread finished; awaiting finish of 3 more threads\n",
      "2021-01-14 22:16:11,726:INFO:worker thread finished; awaiting finish of 2 more threads\n",
      "2021-01-14 22:16:11,738:INFO:worker thread finished; awaiting finish of 1 more threads\n",
      "2021-01-14 22:16:11,741:INFO:worker thread finished; awaiting finish of 0 more threads\n",
      "2021-01-14 22:16:11,742:INFO:EPOCH - 16 : training on 2407290 raw words (2165156 effective words) took 5.1s, 423624 effective words/s\n",
      "2021-01-14 22:16:12,772:INFO:EPOCH 17 - PROGRESS: at 50.96% examples, 633475 words/s, in_qsize 24, out_qsize 1\n",
      "2021-01-14 22:16:13,785:INFO:EPOCH 17 - PROGRESS: at 69.12% examples, 531165 words/s, in_qsize 23, out_qsize 0\n",
      "2021-01-14 22:16:14,812:INFO:EPOCH 17 - PROGRESS: at 82.52% examples, 472577 words/s, in_qsize 23, out_qsize 0\n",
      "2021-01-14 22:16:15,843:INFO:EPOCH 17 - PROGRESS: at 90.83% examples, 435761 words/s, in_qsize 23, out_qsize 0\n",
      "2021-01-14 22:16:16,692:INFO:worker thread finished; awaiting finish of 11 more threads\n",
      "2021-01-14 22:16:16,729:INFO:worker thread finished; awaiting finish of 10 more threads\n",
      "2021-01-14 22:16:16,742:INFO:worker thread finished; awaiting finish of 9 more threads\n",
      "2021-01-14 22:16:16,749:INFO:worker thread finished; awaiting finish of 8 more threads\n",
      "2021-01-14 22:16:16,755:INFO:worker thread finished; awaiting finish of 7 more threads\n",
      "2021-01-14 22:16:16,778:INFO:worker thread finished; awaiting finish of 6 more threads\n",
      "2021-01-14 22:16:16,809:INFO:worker thread finished; awaiting finish of 5 more threads\n",
      "2021-01-14 22:16:16,820:INFO:worker thread finished; awaiting finish of 4 more threads\n",
      "2021-01-14 22:16:16,825:INFO:worker thread finished; awaiting finish of 3 more threads\n",
      "2021-01-14 22:16:16,839:INFO:worker thread finished; awaiting finish of 2 more threads\n",
      "2021-01-14 22:16:16,847:INFO:EPOCH 17 - PROGRESS: at 99.82% examples, 424348 words/s, in_qsize 1, out_qsize 1\n",
      "2021-01-14 22:16:16,848:INFO:worker thread finished; awaiting finish of 1 more threads\n",
      "2021-01-14 22:16:16,855:INFO:worker thread finished; awaiting finish of 0 more threads\n",
      "2021-01-14 22:16:16,855:INFO:EPOCH - 17 : training on 2407290 raw words (2165740 effective words) took 5.1s, 425458 effective words/s\n",
      "2021-01-14 22:16:17,893:INFO:EPOCH 18 - PROGRESS: at 51.05% examples, 622946 words/s, in_qsize 24, out_qsize 0\n",
      "2021-01-14 22:16:18,929:INFO:EPOCH 18 - PROGRESS: at 69.96% examples, 529385 words/s, in_qsize 23, out_qsize 0\n"
     ]
    },
    {
     "name": "stderr",
     "output_type": "stream",
     "text": [
      "2021-01-14 22:16:19,980:INFO:EPOCH 18 - PROGRESS: at 83.79% examples, 477085 words/s, in_qsize 24, out_qsize 0\n",
      "2021-01-14 22:16:21,011:INFO:EPOCH 18 - PROGRESS: at 91.47% examples, 437628 words/s, in_qsize 23, out_qsize 0\n",
      "2021-01-14 22:16:21,741:INFO:worker thread finished; awaiting finish of 11 more threads\n",
      "2021-01-14 22:16:21,742:INFO:worker thread finished; awaiting finish of 10 more threads\n",
      "2021-01-14 22:16:21,742:INFO:worker thread finished; awaiting finish of 9 more threads\n",
      "2021-01-14 22:16:21,786:INFO:worker thread finished; awaiting finish of 8 more threads\n",
      "2021-01-14 22:16:21,813:INFO:worker thread finished; awaiting finish of 7 more threads\n",
      "2021-01-14 22:16:21,880:INFO:worker thread finished; awaiting finish of 6 more threads\n",
      "2021-01-14 22:16:21,894:INFO:worker thread finished; awaiting finish of 5 more threads\n",
      "2021-01-14 22:16:21,894:INFO:worker thread finished; awaiting finish of 4 more threads\n",
      "2021-01-14 22:16:21,902:INFO:worker thread finished; awaiting finish of 3 more threads\n",
      "2021-01-14 22:16:21,908:INFO:worker thread finished; awaiting finish of 2 more threads\n",
      "2021-01-14 22:16:21,911:INFO:worker thread finished; awaiting finish of 1 more threads\n",
      "2021-01-14 22:16:21,925:INFO:worker thread finished; awaiting finish of 0 more threads\n",
      "2021-01-14 22:16:21,926:INFO:EPOCH - 18 : training on 2407290 raw words (2165436 effective words) took 5.1s, 428314 effective words/s\n",
      "2021-01-14 22:16:22,957:INFO:EPOCH 19 - PROGRESS: at 51.05% examples, 629626 words/s, in_qsize 23, out_qsize 0\n",
      "2021-01-14 22:16:23,984:INFO:EPOCH 19 - PROGRESS: at 69.53% examples, 530283 words/s, in_qsize 21, out_qsize 2\n",
      "2021-01-14 22:16:24,992:INFO:EPOCH 19 - PROGRESS: at 82.50% examples, 472559 words/s, in_qsize 23, out_qsize 0\n",
      "2021-01-14 22:16:25,993:INFO:EPOCH 19 - PROGRESS: at 91.00% examples, 441142 words/s, in_qsize 23, out_qsize 0\n",
      "2021-01-14 22:16:26,881:INFO:worker thread finished; awaiting finish of 11 more threads\n",
      "2021-01-14 22:16:26,884:INFO:worker thread finished; awaiting finish of 10 more threads\n",
      "2021-01-14 22:16:26,887:INFO:worker thread finished; awaiting finish of 9 more threads\n",
      "2021-01-14 22:16:26,919:INFO:worker thread finished; awaiting finish of 8 more threads\n",
      "2021-01-14 22:16:26,959:INFO:worker thread finished; awaiting finish of 7 more threads\n",
      "2021-01-14 22:16:26,998:INFO:EPOCH 19 - PROGRESS: at 98.82% examples, 417543 words/s, in_qsize 6, out_qsize 1\n",
      "2021-01-14 22:16:26,999:INFO:worker thread finished; awaiting finish of 6 more threads\n",
      "2021-01-14 22:16:27,000:INFO:worker thread finished; awaiting finish of 5 more threads\n",
      "2021-01-14 22:16:27,013:INFO:worker thread finished; awaiting finish of 4 more threads\n",
      "2021-01-14 22:16:27,018:INFO:worker thread finished; awaiting finish of 3 more threads\n",
      "2021-01-14 22:16:27,024:INFO:worker thread finished; awaiting finish of 2 more threads\n",
      "2021-01-14 22:16:27,038:INFO:worker thread finished; awaiting finish of 1 more threads\n",
      "2021-01-14 22:16:27,054:INFO:worker thread finished; awaiting finish of 0 more threads\n",
      "2021-01-14 22:16:27,054:INFO:EPOCH - 19 : training on 2407290 raw words (2165086 effective words) took 5.1s, 423781 effective words/s\n",
      "2021-01-14 22:16:28,107:INFO:EPOCH 20 - PROGRESS: at 51.03% examples, 615778 words/s, in_qsize 22, out_qsize 1\n",
      "2021-01-14 22:16:29,115:INFO:EPOCH 20 - PROGRESS: at 70.34% examples, 537811 words/s, in_qsize 23, out_qsize 0\n",
      "2021-01-14 22:16:30,134:INFO:EPOCH 20 - PROGRESS: at 83.30% examples, 478948 words/s, in_qsize 23, out_qsize 0\n",
      "2021-01-14 22:16:31,141:INFO:EPOCH 20 - PROGRESS: at 91.31% examples, 443308 words/s, in_qsize 23, out_qsize 0\n",
      "2021-01-14 22:16:31,920:INFO:worker thread finished; awaiting finish of 11 more threads\n",
      "2021-01-14 22:16:32,006:INFO:worker thread finished; awaiting finish of 10 more threads\n",
      "2021-01-14 22:16:32,008:INFO:worker thread finished; awaiting finish of 9 more threads\n",
      "2021-01-14 22:16:32,027:INFO:worker thread finished; awaiting finish of 8 more threads\n",
      "2021-01-14 22:16:32,033:INFO:worker thread finished; awaiting finish of 7 more threads\n",
      "2021-01-14 22:16:32,039:INFO:worker thread finished; awaiting finish of 6 more threads\n",
      "2021-01-14 22:16:32,042:INFO:worker thread finished; awaiting finish of 5 more threads\n",
      "2021-01-14 22:16:32,043:INFO:worker thread finished; awaiting finish of 4 more threads\n",
      "2021-01-14 22:16:32,081:INFO:worker thread finished; awaiting finish of 3 more threads\n",
      "2021-01-14 22:16:32,082:INFO:worker thread finished; awaiting finish of 2 more threads\n",
      "2021-01-14 22:16:32,085:INFO:worker thread finished; awaiting finish of 1 more threads\n",
      "2021-01-14 22:16:32,088:INFO:worker thread finished; awaiting finish of 0 more threads\n",
      "2021-01-14 22:16:32,089:INFO:EPOCH - 20 : training on 2407290 raw words (2165102 effective words) took 5.0s, 431603 effective words/s\n",
      "2021-01-14 22:16:33,115:INFO:EPOCH 21 - PROGRESS: at 50.58% examples, 622216 words/s, in_qsize 23, out_qsize 0\n",
      "2021-01-14 22:16:34,128:INFO:EPOCH 21 - PROGRESS: at 68.34% examples, 521941 words/s, in_qsize 23, out_qsize 0\n",
      "2021-01-14 22:16:35,227:INFO:EPOCH 21 - PROGRESS: at 82.78% examples, 464122 words/s, in_qsize 23, out_qsize 0\n",
      "2021-01-14 22:16:36,259:INFO:EPOCH 21 - PROGRESS: at 90.83% examples, 427702 words/s, in_qsize 23, out_qsize 0\n",
      "2021-01-14 22:16:37,133:INFO:worker thread finished; awaiting finish of 11 more threads\n",
      "2021-01-14 22:16:37,142:INFO:worker thread finished; awaiting finish of 10 more threads\n",
      "2021-01-14 22:16:37,206:INFO:worker thread finished; awaiting finish of 9 more threads\n",
      "2021-01-14 22:16:37,213:INFO:worker thread finished; awaiting finish of 8 more threads\n",
      "2021-01-14 22:16:37,227:INFO:worker thread finished; awaiting finish of 7 more threads\n",
      "2021-01-14 22:16:37,231:INFO:worker thread finished; awaiting finish of 6 more threads\n",
      "2021-01-14 22:16:37,242:INFO:worker thread finished; awaiting finish of 5 more threads\n",
      "2021-01-14 22:16:37,260:INFO:EPOCH 21 - PROGRESS: at 99.22% examples, 412937 words/s, in_qsize 4, out_qsize 1\n",
      "2021-01-14 22:16:37,261:INFO:worker thread finished; awaiting finish of 4 more threads\n",
      "2021-01-14 22:16:37,271:INFO:worker thread finished; awaiting finish of 3 more threads\n",
      "2021-01-14 22:16:37,305:INFO:worker thread finished; awaiting finish of 2 more threads\n",
      "2021-01-14 22:16:37,306:INFO:worker thread finished; awaiting finish of 1 more threads\n",
      "2021-01-14 22:16:37,309:INFO:worker thread finished; awaiting finish of 0 more threads\n",
      "2021-01-14 22:16:37,310:INFO:EPOCH - 21 : training on 2407290 raw words (2164940 effective words) took 5.2s, 416009 effective words/s\n",
      "2021-01-14 22:16:38,353:INFO:EPOCH 22 - PROGRESS: at 50.58% examples, 608843 words/s, in_qsize 23, out_qsize 0\n",
      "2021-01-14 22:16:39,357:INFO:EPOCH 22 - PROGRESS: at 68.71% examples, 522644 words/s, in_qsize 23, out_qsize 0\n",
      "2021-01-14 22:16:40,389:INFO:EPOCH 22 - PROGRESS: at 82.26% examples, 466457 words/s, in_qsize 23, out_qsize 0\n",
      "2021-01-14 22:16:41,415:INFO:EPOCH 22 - PROGRESS: at 90.66% examples, 431776 words/s, in_qsize 23, out_qsize 0\n",
      "2021-01-14 22:16:42,343:INFO:worker thread finished; awaiting finish of 11 more threads\n",
      "2021-01-14 22:16:42,354:INFO:worker thread finished; awaiting finish of 10 more threads\n",
      "2021-01-14 22:16:42,355:INFO:worker thread finished; awaiting finish of 9 more threads\n",
      "2021-01-14 22:16:42,363:INFO:worker thread finished; awaiting finish of 8 more threads\n",
      "2021-01-14 22:16:42,368:INFO:worker thread finished; awaiting finish of 7 more threads\n",
      "2021-01-14 22:16:42,378:INFO:worker thread finished; awaiting finish of 6 more threads\n",
      "2021-01-14 22:16:42,415:INFO:worker thread finished; awaiting finish of 5 more threads\n",
      "2021-01-14 22:16:42,438:INFO:EPOCH 22 - PROGRESS: at 99.23% examples, 416082 words/s, in_qsize 4, out_qsize 1\n",
      "2021-01-14 22:16:42,439:INFO:worker thread finished; awaiting finish of 4 more threads\n",
      "2021-01-14 22:16:42,447:INFO:worker thread finished; awaiting finish of 3 more threads\n",
      "2021-01-14 22:16:42,468:INFO:worker thread finished; awaiting finish of 2 more threads\n",
      "2021-01-14 22:16:42,479:INFO:worker thread finished; awaiting finish of 1 more threads\n",
      "2021-01-14 22:16:42,487:INFO:worker thread finished; awaiting finish of 0 more threads\n",
      "2021-01-14 22:16:42,488:INFO:EPOCH - 22 : training on 2407290 raw words (2166053 effective words) took 5.2s, 419213 effective words/s\n"
     ]
    },
    {
     "name": "stderr",
     "output_type": "stream",
     "text": [
      "2021-01-14 22:16:43,536:INFO:EPOCH 23 - PROGRESS: at 51.05% examples, 618664 words/s, in_qsize 23, out_qsize 0\n",
      "2021-01-14 22:16:44,540:INFO:EPOCH 23 - PROGRESS: at 69.16% examples, 527157 words/s, in_qsize 23, out_qsize 0\n",
      "2021-01-14 22:16:45,564:INFO:EPOCH 23 - PROGRESS: at 82.78% examples, 473566 words/s, in_qsize 24, out_qsize 0\n",
      "2021-01-14 22:16:46,606:INFO:EPOCH 23 - PROGRESS: at 91.00% examples, 435479 words/s, in_qsize 23, out_qsize 0\n",
      "2021-01-14 22:16:47,452:INFO:worker thread finished; awaiting finish of 11 more threads\n",
      "2021-01-14 22:16:47,457:INFO:worker thread finished; awaiting finish of 10 more threads\n",
      "2021-01-14 22:16:47,491:INFO:worker thread finished; awaiting finish of 9 more threads\n",
      "2021-01-14 22:16:47,494:INFO:worker thread finished; awaiting finish of 8 more threads\n",
      "2021-01-14 22:16:47,535:INFO:worker thread finished; awaiting finish of 7 more threads\n",
      "2021-01-14 22:16:47,581:INFO:worker thread finished; awaiting finish of 6 more threads\n",
      "2021-01-14 22:16:47,586:INFO:worker thread finished; awaiting finish of 5 more threads\n",
      "2021-01-14 22:16:47,588:INFO:worker thread finished; awaiting finish of 4 more threads\n",
      "2021-01-14 22:16:47,595:INFO:worker thread finished; awaiting finish of 3 more threads\n",
      "2021-01-14 22:16:47,618:INFO:EPOCH 23 - PROGRESS: at 99.63% examples, 419930 words/s, in_qsize 2, out_qsize 1\n",
      "2021-01-14 22:16:47,619:INFO:worker thread finished; awaiting finish of 2 more threads\n",
      "2021-01-14 22:16:47,620:INFO:worker thread finished; awaiting finish of 1 more threads\n",
      "2021-01-14 22:16:47,623:INFO:worker thread finished; awaiting finish of 0 more threads\n",
      "2021-01-14 22:16:47,624:INFO:EPOCH - 23 : training on 2407290 raw words (2165387 effective words) took 5.1s, 423055 effective words/s\n",
      "2021-01-14 22:16:48,667:INFO:EPOCH 24 - PROGRESS: at 50.51% examples, 612468 words/s, in_qsize 23, out_qsize 0\n",
      "2021-01-14 22:16:49,693:INFO:EPOCH 24 - PROGRESS: at 69.12% examples, 522849 words/s, in_qsize 23, out_qsize 0\n",
      "2021-01-14 22:16:50,726:INFO:EPOCH 24 - PROGRESS: at 83.04% examples, 472553 words/s, in_qsize 23, out_qsize 0\n",
      "2021-01-14 22:16:51,758:INFO:EPOCH 24 - PROGRESS: at 91.15% examples, 436019 words/s, in_qsize 23, out_qsize 0\n",
      "2021-01-14 22:16:52,519:INFO:worker thread finished; awaiting finish of 11 more threads\n",
      "2021-01-14 22:16:52,583:INFO:worker thread finished; awaiting finish of 10 more threads\n",
      "2021-01-14 22:16:52,591:INFO:worker thread finished; awaiting finish of 9 more threads\n",
      "2021-01-14 22:16:52,643:INFO:worker thread finished; awaiting finish of 8 more threads\n",
      "2021-01-14 22:16:52,668:INFO:worker thread finished; awaiting finish of 7 more threads\n",
      "2021-01-14 22:16:52,698:INFO:worker thread finished; awaiting finish of 6 more threads\n",
      "2021-01-14 22:16:52,710:INFO:worker thread finished; awaiting finish of 5 more threads\n",
      "2021-01-14 22:16:52,720:INFO:worker thread finished; awaiting finish of 4 more threads\n",
      "2021-01-14 22:16:52,723:INFO:worker thread finished; awaiting finish of 3 more threads\n",
      "2021-01-14 22:16:52,725:INFO:worker thread finished; awaiting finish of 2 more threads\n",
      "2021-01-14 22:16:52,728:INFO:worker thread finished; awaiting finish of 1 more threads\n",
      "2021-01-14 22:16:52,739:INFO:worker thread finished; awaiting finish of 0 more threads\n",
      "2021-01-14 22:16:52,740:INFO:EPOCH - 24 : training on 2407290 raw words (2165163 effective words) took 5.1s, 424701 effective words/s\n",
      "2021-01-14 22:16:53,775:INFO:EPOCH 25 - PROGRESS: at 49.92% examples, 610358 words/s, in_qsize 23, out_qsize 0\n",
      "2021-01-14 22:16:54,816:INFO:EPOCH 25 - PROGRESS: at 68.29% examples, 513557 words/s, in_qsize 22, out_qsize 1\n",
      "2021-01-14 22:16:55,828:INFO:EPOCH 25 - PROGRESS: at 82.26% examples, 466540 words/s, in_qsize 24, out_qsize 0\n",
      "2021-01-14 22:16:56,902:INFO:EPOCH 25 - PROGRESS: at 90.66% examples, 426981 words/s, in_qsize 23, out_qsize 0\n",
      "2021-01-14 22:16:57,789:INFO:worker thread finished; awaiting finish of 11 more threads\n",
      "2021-01-14 22:16:57,818:INFO:worker thread finished; awaiting finish of 10 more threads\n",
      "2021-01-14 22:16:57,848:INFO:worker thread finished; awaiting finish of 9 more threads\n",
      "2021-01-14 22:16:57,860:INFO:worker thread finished; awaiting finish of 8 more threads\n",
      "2021-01-14 22:16:57,878:INFO:worker thread finished; awaiting finish of 7 more threads\n",
      "2021-01-14 22:16:57,880:INFO:worker thread finished; awaiting finish of 6 more threads\n",
      "2021-01-14 22:16:57,903:INFO:EPOCH 25 - PROGRESS: at 99.03% examples, 412081 words/s, in_qsize 5, out_qsize 1\n",
      "2021-01-14 22:16:57,904:INFO:worker thread finished; awaiting finish of 5 more threads\n",
      "2021-01-14 22:16:57,913:INFO:worker thread finished; awaiting finish of 4 more threads\n",
      "2021-01-14 22:16:57,925:INFO:worker thread finished; awaiting finish of 3 more threads\n",
      "2021-01-14 22:16:57,934:INFO:worker thread finished; awaiting finish of 2 more threads\n",
      "2021-01-14 22:16:57,956:INFO:worker thread finished; awaiting finish of 1 more threads\n",
      "2021-01-14 22:16:57,961:INFO:worker thread finished; awaiting finish of 0 more threads\n",
      "2021-01-14 22:16:57,962:INFO:EPOCH - 25 : training on 2407290 raw words (2165370 effective words) took 5.2s, 416322 effective words/s\n",
      "2021-01-14 22:16:59,006:INFO:EPOCH 26 - PROGRESS: at 49.56% examples, 594080 words/s, in_qsize 23, out_qsize 0\n",
      "2021-01-14 22:17:00,021:INFO:EPOCH 26 - PROGRESS: at 68.76% examples, 521139 words/s, in_qsize 23, out_qsize 0\n",
      "2021-01-14 22:17:01,055:INFO:EPOCH 26 - PROGRESS: at 82.24% examples, 465304 words/s, in_qsize 23, out_qsize 0\n",
      "2021-01-14 22:17:02,091:INFO:EPOCH 26 - PROGRESS: at 90.83% examples, 432197 words/s, in_qsize 23, out_qsize 0\n",
      "2021-01-14 22:17:02,955:INFO:worker thread finished; awaiting finish of 11 more threads\n",
      "2021-01-14 22:17:02,983:INFO:worker thread finished; awaiting finish of 10 more threads\n",
      "2021-01-14 22:17:03,014:INFO:worker thread finished; awaiting finish of 9 more threads\n",
      "2021-01-14 22:17:03,084:INFO:worker thread finished; awaiting finish of 8 more threads\n",
      "2021-01-14 22:17:03,087:INFO:worker thread finished; awaiting finish of 7 more threads\n",
      "2021-01-14 22:17:03,092:INFO:EPOCH 26 - PROGRESS: at 98.82% examples, 412679 words/s, in_qsize 6, out_qsize 1\n",
      "2021-01-14 22:17:03,093:INFO:worker thread finished; awaiting finish of 6 more threads\n",
      "2021-01-14 22:17:03,111:INFO:worker thread finished; awaiting finish of 5 more threads\n",
      "2021-01-14 22:17:03,135:INFO:worker thread finished; awaiting finish of 4 more threads\n",
      "2021-01-14 22:17:03,137:INFO:worker thread finished; awaiting finish of 3 more threads\n",
      "2021-01-14 22:17:03,140:INFO:worker thread finished; awaiting finish of 2 more threads\n",
      "2021-01-14 22:17:03,143:INFO:worker thread finished; awaiting finish of 1 more threads\n",
      "2021-01-14 22:17:03,155:INFO:worker thread finished; awaiting finish of 0 more threads\n",
      "2021-01-14 22:17:03,155:INFO:EPOCH - 26 : training on 2407290 raw words (2165494 effective words) took 5.2s, 418333 effective words/s\n",
      "2021-01-14 22:17:04,205:INFO:EPOCH 27 - PROGRESS: at 51.50% examples, 631009 words/s, in_qsize 24, out_qsize 0\n",
      "2021-01-14 22:17:05,212:INFO:EPOCH 27 - PROGRESS: at 68.77% examples, 523367 words/s, in_qsize 23, out_qsize 0\n",
      "2021-01-14 22:17:06,242:INFO:EPOCH 27 - PROGRESS: at 82.78% examples, 472942 words/s, in_qsize 23, out_qsize 0\n",
      "2021-01-14 22:17:07,320:INFO:EPOCH 27 - PROGRESS: at 90.83% examples, 429041 words/s, in_qsize 23, out_qsize 0\n",
      "2021-01-14 22:17:08,199:INFO:worker thread finished; awaiting finish of 11 more threads\n",
      "2021-01-14 22:17:08,203:INFO:worker thread finished; awaiting finish of 10 more threads\n",
      "2021-01-14 22:17:08,238:INFO:worker thread finished; awaiting finish of 9 more threads\n",
      "2021-01-14 22:17:08,258:INFO:worker thread finished; awaiting finish of 8 more threads\n",
      "2021-01-14 22:17:08,302:INFO:worker thread finished; awaiting finish of 7 more threads\n",
      "2021-01-14 22:17:08,323:INFO:EPOCH 27 - PROGRESS: at 98.85% examples, 410177 words/s, in_qsize 6, out_qsize 1\n",
      "2021-01-14 22:17:08,324:INFO:worker thread finished; awaiting finish of 6 more threads\n",
      "2021-01-14 22:17:08,327:INFO:worker thread finished; awaiting finish of 5 more threads\n",
      "2021-01-14 22:17:08,343:INFO:worker thread finished; awaiting finish of 4 more threads\n",
      "2021-01-14 22:17:08,349:INFO:worker thread finished; awaiting finish of 3 more threads\n",
      "2021-01-14 22:17:08,358:INFO:worker thread finished; awaiting finish of 2 more threads\n"
     ]
    },
    {
     "name": "stderr",
     "output_type": "stream",
     "text": [
      "2021-01-14 22:17:08,378:INFO:worker thread finished; awaiting finish of 1 more threads\n",
      "2021-01-14 22:17:08,381:INFO:worker thread finished; awaiting finish of 0 more threads\n",
      "2021-01-14 22:17:08,381:INFO:EPOCH - 27 : training on 2407290 raw words (2164448 effective words) took 5.2s, 416181 effective words/s\n",
      "2021-01-14 22:17:09,446:INFO:EPOCH 28 - PROGRESS: at 51.05% examples, 609226 words/s, in_qsize 23, out_qsize 0\n",
      "2021-01-14 22:17:10,456:INFO:EPOCH 28 - PROGRESS: at 68.76% examples, 517073 words/s, in_qsize 24, out_qsize 0\n",
      "2021-01-14 22:17:11,492:INFO:EPOCH 28 - PROGRESS: at 82.53% examples, 465364 words/s, in_qsize 23, out_qsize 0\n",
      "2021-01-14 22:17:12,496:INFO:EPOCH 28 - PROGRESS: at 90.66% examples, 431374 words/s, in_qsize 23, out_qsize 0\n",
      "2021-01-14 22:17:13,375:INFO:worker thread finished; awaiting finish of 11 more threads\n",
      "2021-01-14 22:17:13,419:INFO:worker thread finished; awaiting finish of 10 more threads\n",
      "2021-01-14 22:17:13,462:INFO:worker thread finished; awaiting finish of 9 more threads\n",
      "2021-01-14 22:17:13,476:INFO:worker thread finished; awaiting finish of 8 more threads\n",
      "2021-01-14 22:17:13,485:INFO:worker thread finished; awaiting finish of 7 more threads\n",
      "2021-01-14 22:17:13,500:INFO:EPOCH 28 - PROGRESS: at 98.85% examples, 413591 words/s, in_qsize 6, out_qsize 1\n",
      "2021-01-14 22:17:13,501:INFO:worker thread finished; awaiting finish of 6 more threads\n",
      "2021-01-14 22:17:13,502:INFO:worker thread finished; awaiting finish of 5 more threads\n",
      "2021-01-14 22:17:13,523:INFO:worker thread finished; awaiting finish of 4 more threads\n",
      "2021-01-14 22:17:13,538:INFO:worker thread finished; awaiting finish of 3 more threads\n",
      "2021-01-14 22:17:13,551:INFO:worker thread finished; awaiting finish of 2 more threads\n",
      "2021-01-14 22:17:13,557:INFO:worker thread finished; awaiting finish of 1 more threads\n",
      "2021-01-14 22:17:13,563:INFO:worker thread finished; awaiting finish of 0 more threads\n",
      "2021-01-14 22:17:13,564:INFO:EPOCH - 28 : training on 2407290 raw words (2164623 effective words) took 5.2s, 419190 effective words/s\n",
      "2021-01-14 22:17:14,607:INFO:EPOCH 29 - PROGRESS: at 51.47% examples, 634925 words/s, in_qsize 23, out_qsize 0\n",
      "2021-01-14 22:17:15,615:INFO:EPOCH 29 - PROGRESS: at 69.19% examples, 529182 words/s, in_qsize 23, out_qsize 0\n",
      "2021-01-14 22:17:16,624:INFO:EPOCH 29 - PROGRESS: at 83.28% examples, 483129 words/s, in_qsize 23, out_qsize 0\n",
      "2021-01-14 22:17:17,678:INFO:EPOCH 29 - PROGRESS: at 90.77% examples, 434733 words/s, in_qsize 23, out_qsize 0\n",
      "2021-01-14 22:17:18,458:INFO:worker thread finished; awaiting finish of 11 more threads\n",
      "2021-01-14 22:17:18,475:INFO:worker thread finished; awaiting finish of 10 more threads\n",
      "2021-01-14 22:17:18,517:INFO:worker thread finished; awaiting finish of 9 more threads\n",
      "2021-01-14 22:17:18,582:INFO:worker thread finished; awaiting finish of 8 more threads\n",
      "2021-01-14 22:17:18,612:INFO:worker thread finished; awaiting finish of 7 more threads\n",
      "2021-01-14 22:17:18,616:INFO:worker thread finished; awaiting finish of 6 more threads\n",
      "2021-01-14 22:17:18,629:INFO:worker thread finished; awaiting finish of 5 more threads\n",
      "2021-01-14 22:17:18,649:INFO:worker thread finished; awaiting finish of 4 more threads\n",
      "2021-01-14 22:17:18,658:INFO:worker thread finished; awaiting finish of 3 more threads\n",
      "2021-01-14 22:17:18,659:INFO:worker thread finished; awaiting finish of 2 more threads\n",
      "2021-01-14 22:17:18,665:INFO:worker thread finished; awaiting finish of 1 more threads\n",
      "2021-01-14 22:17:18,672:INFO:worker thread finished; awaiting finish of 0 more threads\n",
      "2021-01-14 22:17:18,673:INFO:EPOCH - 29 : training on 2407290 raw words (2165826 effective words) took 5.1s, 425964 effective words/s\n",
      "2021-01-14 22:17:19,814:INFO:EPOCH 30 - PROGRESS: at 51.03% examples, 571171 words/s, in_qsize 24, out_qsize 6\n",
      "2021-01-14 22:17:20,843:INFO:EPOCH 30 - PROGRESS: at 70.77% examples, 516261 words/s, in_qsize 23, out_qsize 0\n",
      "2021-01-14 22:17:21,922:INFO:EPOCH 30 - PROGRESS: at 83.29% examples, 454778 words/s, in_qsize 23, out_qsize 0\n",
      "2021-01-14 22:17:22,949:INFO:EPOCH 30 - PROGRESS: at 91.61% examples, 428490 words/s, in_qsize 23, out_qsize 0\n",
      "2021-01-14 22:17:23,681:INFO:worker thread finished; awaiting finish of 11 more threads\n",
      "2021-01-14 22:17:23,684:INFO:worker thread finished; awaiting finish of 10 more threads\n",
      "2021-01-14 22:17:23,731:INFO:worker thread finished; awaiting finish of 9 more threads\n",
      "2021-01-14 22:17:23,829:INFO:worker thread finished; awaiting finish of 8 more threads\n",
      "2021-01-14 22:17:23,840:INFO:worker thread finished; awaiting finish of 7 more threads\n",
      "2021-01-14 22:17:23,863:INFO:worker thread finished; awaiting finish of 6 more threads\n",
      "2021-01-14 22:17:23,864:INFO:worker thread finished; awaiting finish of 5 more threads\n",
      "2021-01-14 22:17:23,868:INFO:worker thread finished; awaiting finish of 4 more threads\n",
      "2021-01-14 22:17:23,873:INFO:worker thread finished; awaiting finish of 3 more threads\n",
      "2021-01-14 22:17:23,874:INFO:worker thread finished; awaiting finish of 2 more threads\n",
      "2021-01-14 22:17:23,876:INFO:worker thread finished; awaiting finish of 1 more threads\n",
      "2021-01-14 22:17:23,882:INFO:worker thread finished; awaiting finish of 0 more threads\n",
      "2021-01-14 22:17:23,883:INFO:EPOCH - 30 : training on 2407290 raw words (2165476 effective words) took 5.2s, 417657 effective words/s\n",
      "2021-01-14 22:17:24,948:INFO:EPOCH 31 - PROGRESS: at 51.03% examples, 612173 words/s, in_qsize 23, out_qsize 0\n",
      "2021-01-14 22:17:26,026:INFO:EPOCH 31 - PROGRESS: at 70.34% examples, 518553 words/s, in_qsize 23, out_qsize 0\n",
      "2021-01-14 22:17:27,058:INFO:EPOCH 31 - PROGRESS: at 84.06% examples, 473606 words/s, in_qsize 24, out_qsize 0\n",
      "2021-01-14 22:17:28,065:INFO:EPOCH 31 - PROGRESS: at 91.48% examples, 435871 words/s, in_qsize 23, out_qsize 0\n",
      "2021-01-14 22:17:28,871:INFO:worker thread finished; awaiting finish of 11 more threads\n",
      "2021-01-14 22:17:28,897:INFO:worker thread finished; awaiting finish of 10 more threads\n",
      "2021-01-14 22:17:28,904:INFO:worker thread finished; awaiting finish of 9 more threads\n",
      "2021-01-14 22:17:28,940:INFO:worker thread finished; awaiting finish of 8 more threads\n",
      "2021-01-14 22:17:28,954:INFO:worker thread finished; awaiting finish of 7 more threads\n",
      "2021-01-14 22:17:28,965:INFO:worker thread finished; awaiting finish of 6 more threads\n",
      "2021-01-14 22:17:28,986:INFO:worker thread finished; awaiting finish of 5 more threads\n",
      "2021-01-14 22:17:28,987:INFO:worker thread finished; awaiting finish of 4 more threads\n",
      "2021-01-14 22:17:28,989:INFO:worker thread finished; awaiting finish of 3 more threads\n",
      "2021-01-14 22:17:28,990:INFO:worker thread finished; awaiting finish of 2 more threads\n",
      "2021-01-14 22:17:29,018:INFO:worker thread finished; awaiting finish of 1 more threads\n",
      "2021-01-14 22:17:29,024:INFO:worker thread finished; awaiting finish of 0 more threads\n",
      "2021-01-14 22:17:29,025:INFO:EPOCH - 31 : training on 2407290 raw words (2164450 effective words) took 5.1s, 422999 effective words/s\n",
      "2021-01-14 22:17:30,066:INFO:EPOCH 32 - PROGRESS: at 50.55% examples, 617640 words/s, in_qsize 23, out_qsize 0\n",
      "2021-01-14 22:17:31,100:INFO:EPOCH 32 - PROGRESS: at 69.12% examples, 523151 words/s, in_qsize 23, out_qsize 0\n",
      "2021-01-14 22:17:32,121:INFO:EPOCH 32 - PROGRESS: at 82.75% examples, 471625 words/s, in_qsize 23, out_qsize 0\n",
      "2021-01-14 22:17:33,221:INFO:EPOCH 32 - PROGRESS: at 91.15% examples, 430173 words/s, in_qsize 23, out_qsize 0\n",
      "2021-01-14 22:17:33,950:INFO:worker thread finished; awaiting finish of 11 more threads\n",
      "2021-01-14 22:17:33,951:INFO:worker thread finished; awaiting finish of 10 more threads\n",
      "2021-01-14 22:17:34,038:INFO:worker thread finished; awaiting finish of 9 more threads\n",
      "2021-01-14 22:17:34,047:INFO:worker thread finished; awaiting finish of 8 more threads\n",
      "2021-01-14 22:17:34,085:INFO:worker thread finished; awaiting finish of 7 more threads\n",
      "2021-01-14 22:17:34,097:INFO:worker thread finished; awaiting finish of 6 more threads\n",
      "2021-01-14 22:17:34,101:INFO:worker thread finished; awaiting finish of 5 more threads\n",
      "2021-01-14 22:17:34,102:INFO:worker thread finished; awaiting finish of 4 more threads\n",
      "2021-01-14 22:17:34,116:INFO:worker thread finished; awaiting finish of 3 more threads\n",
      "2021-01-14 22:17:34,145:INFO:worker thread finished; awaiting finish of 2 more threads\n"
     ]
    },
    {
     "name": "stderr",
     "output_type": "stream",
     "text": [
      "2021-01-14 22:17:34,149:INFO:worker thread finished; awaiting finish of 1 more threads\n",
      "2021-01-14 22:17:34,153:INFO:worker thread finished; awaiting finish of 0 more threads\n",
      "2021-01-14 22:17:34,153:INFO:EPOCH - 32 : training on 2407290 raw words (2165323 effective words) took 5.1s, 424177 effective words/s\n",
      "2021-01-14 22:17:35,187:INFO:EPOCH 33 - PROGRESS: at 51.50% examples, 636814 words/s, in_qsize 23, out_qsize 0\n",
      "2021-01-14 22:17:36,259:INFO:EPOCH 33 - PROGRESS: at 70.34% examples, 526256 words/s, in_qsize 23, out_qsize 0\n",
      "2021-01-14 22:17:37,268:INFO:EPOCH 33 - PROGRESS: at 83.28% examples, 473514 words/s, in_qsize 23, out_qsize 0\n",
      "2021-01-14 22:17:38,276:INFO:EPOCH 33 - PROGRESS: at 91.13% examples, 437160 words/s, in_qsize 23, out_qsize 0\n",
      "2021-01-14 22:17:39,051:INFO:worker thread finished; awaiting finish of 11 more threads\n",
      "2021-01-14 22:17:39,102:INFO:worker thread finished; awaiting finish of 10 more threads\n",
      "2021-01-14 22:17:39,113:INFO:worker thread finished; awaiting finish of 9 more threads\n",
      "2021-01-14 22:17:39,125:INFO:worker thread finished; awaiting finish of 8 more threads\n",
      "2021-01-14 22:17:39,142:INFO:worker thread finished; awaiting finish of 7 more threads\n",
      "2021-01-14 22:17:39,183:INFO:worker thread finished; awaiting finish of 6 more threads\n",
      "2021-01-14 22:17:39,203:INFO:worker thread finished; awaiting finish of 5 more threads\n",
      "2021-01-14 22:17:39,216:INFO:worker thread finished; awaiting finish of 4 more threads\n",
      "2021-01-14 22:17:39,223:INFO:worker thread finished; awaiting finish of 3 more threads\n",
      "2021-01-14 22:17:39,229:INFO:worker thread finished; awaiting finish of 2 more threads\n",
      "2021-01-14 22:17:39,232:INFO:worker thread finished; awaiting finish of 1 more threads\n",
      "2021-01-14 22:17:39,239:INFO:worker thread finished; awaiting finish of 0 more threads\n",
      "2021-01-14 22:17:39,240:INFO:EPOCH - 33 : training on 2407290 raw words (2164744 effective words) took 5.1s, 427182 effective words/s\n",
      "2021-01-14 22:17:40,265:INFO:EPOCH 34 - PROGRESS: at 49.52% examples, 610079 words/s, in_qsize 23, out_qsize 0\n",
      "2021-01-14 22:17:41,282:INFO:EPOCH 34 - PROGRESS: at 68.34% examples, 522995 words/s, in_qsize 23, out_qsize 0\n",
      "2021-01-14 22:17:42,296:INFO:EPOCH 34 - PROGRESS: at 82.25% examples, 472253 words/s, in_qsize 23, out_qsize 0\n",
      "2021-01-14 22:17:43,301:INFO:EPOCH 34 - PROGRESS: at 90.83% examples, 440300 words/s, in_qsize 23, out_qsize 0\n",
      "2021-01-14 22:17:44,198:INFO:worker thread finished; awaiting finish of 11 more threads\n",
      "2021-01-14 22:17:44,205:INFO:worker thread finished; awaiting finish of 10 more threads\n",
      "2021-01-14 22:17:44,252:INFO:worker thread finished; awaiting finish of 9 more threads\n",
      "2021-01-14 22:17:44,265:INFO:worker thread finished; awaiting finish of 8 more threads\n",
      "2021-01-14 22:17:44,284:INFO:worker thread finished; awaiting finish of 7 more threads\n",
      "2021-01-14 22:17:44,329:INFO:EPOCH 34 - PROGRESS: at 98.84% examples, 416792 words/s, in_qsize 6, out_qsize 1\n",
      "2021-01-14 22:17:44,330:INFO:worker thread finished; awaiting finish of 6 more threads\n",
      "2021-01-14 22:17:44,334:INFO:worker thread finished; awaiting finish of 5 more threads\n",
      "2021-01-14 22:17:44,338:INFO:worker thread finished; awaiting finish of 4 more threads\n",
      "2021-01-14 22:17:44,344:INFO:worker thread finished; awaiting finish of 3 more threads\n",
      "2021-01-14 22:17:44,368:INFO:worker thread finished; awaiting finish of 2 more threads\n",
      "2021-01-14 22:17:44,379:INFO:worker thread finished; awaiting finish of 1 more threads\n",
      "2021-01-14 22:17:44,386:INFO:worker thread finished; awaiting finish of 0 more threads\n",
      "2021-01-14 22:17:44,387:INFO:EPOCH - 34 : training on 2407290 raw words (2165823 effective words) took 5.1s, 422846 effective words/s\n",
      "2021-01-14 22:17:45,411:INFO:EPOCH 35 - PROGRESS: at 49.54% examples, 602168 words/s, in_qsize 23, out_qsize 0\n",
      "2021-01-14 22:17:46,438:INFO:EPOCH 35 - PROGRESS: at 69.12% examples, 526113 words/s, in_qsize 23, out_qsize 0\n",
      "2021-01-14 22:17:47,503:INFO:EPOCH 35 - PROGRESS: at 82.25% examples, 460999 words/s, in_qsize 23, out_qsize 0\n",
      "2021-01-14 22:17:48,510:INFO:EPOCH 35 - PROGRESS: at 90.47% examples, 427885 words/s, in_qsize 23, out_qsize 0\n",
      "2021-01-14 22:17:49,452:INFO:worker thread finished; awaiting finish of 11 more threads\n",
      "2021-01-14 22:17:49,486:INFO:worker thread finished; awaiting finish of 10 more threads\n",
      "2021-01-14 22:17:49,501:INFO:worker thread finished; awaiting finish of 9 more threads\n",
      "2021-01-14 22:17:49,525:INFO:EPOCH 35 - PROGRESS: at 98.41% examples, 408072 words/s, in_qsize 8, out_qsize 1\n",
      "2021-01-14 22:17:49,526:INFO:worker thread finished; awaiting finish of 8 more threads\n",
      "2021-01-14 22:17:49,535:INFO:worker thread finished; awaiting finish of 7 more threads\n",
      "2021-01-14 22:17:49,556:INFO:worker thread finished; awaiting finish of 6 more threads\n",
      "2021-01-14 22:17:49,564:INFO:worker thread finished; awaiting finish of 5 more threads\n",
      "2021-01-14 22:17:49,586:INFO:worker thread finished; awaiting finish of 4 more threads\n",
      "2021-01-14 22:17:49,591:INFO:worker thread finished; awaiting finish of 3 more threads\n",
      "2021-01-14 22:17:49,597:INFO:worker thread finished; awaiting finish of 2 more threads\n",
      "2021-01-14 22:17:49,613:INFO:worker thread finished; awaiting finish of 1 more threads\n",
      "2021-01-14 22:17:49,618:INFO:worker thread finished; awaiting finish of 0 more threads\n",
      "2021-01-14 22:17:49,619:INFO:EPOCH - 35 : training on 2407290 raw words (2165461 effective words) took 5.2s, 414808 effective words/s\n",
      "2021-01-14 22:17:50,647:INFO:EPOCH 36 - PROGRESS: at 49.55% examples, 602847 words/s, in_qsize 23, out_qsize 0\n",
      "2021-01-14 22:17:51,692:INFO:EPOCH 36 - PROGRESS: at 68.33% examples, 513279 words/s, in_qsize 24, out_qsize 1\n",
      "2021-01-14 22:17:52,708:INFO:EPOCH 36 - PROGRESS: at 82.04% examples, 462929 words/s, in_qsize 23, out_qsize 0\n",
      "2021-01-14 22:17:53,712:INFO:EPOCH 36 - PROGRESS: at 90.10% examples, 427297 words/s, in_qsize 23, out_qsize 0\n",
      "2021-01-14 22:17:54,694:INFO:worker thread finished; awaiting finish of 11 more threads\n",
      "2021-01-14 22:17:54,731:INFO:EPOCH 36 - PROGRESS: at 97.93% examples, 406948 words/s, in_qsize 10, out_qsize 1\n",
      "2021-01-14 22:17:54,732:INFO:worker thread finished; awaiting finish of 10 more threads\n",
      "2021-01-14 22:17:54,757:INFO:worker thread finished; awaiting finish of 9 more threads\n",
      "2021-01-14 22:17:54,772:INFO:worker thread finished; awaiting finish of 8 more threads\n",
      "2021-01-14 22:17:54,811:INFO:worker thread finished; awaiting finish of 7 more threads\n",
      "2021-01-14 22:17:54,815:INFO:worker thread finished; awaiting finish of 6 more threads\n",
      "2021-01-14 22:17:54,817:INFO:worker thread finished; awaiting finish of 5 more threads\n",
      "2021-01-14 22:17:54,826:INFO:worker thread finished; awaiting finish of 4 more threads\n",
      "2021-01-14 22:17:54,832:INFO:worker thread finished; awaiting finish of 3 more threads\n",
      "2021-01-14 22:17:54,845:INFO:worker thread finished; awaiting finish of 2 more threads\n",
      "2021-01-14 22:17:54,851:INFO:worker thread finished; awaiting finish of 1 more threads\n",
      "2021-01-14 22:17:54,869:INFO:worker thread finished; awaiting finish of 0 more threads\n",
      "2021-01-14 22:17:54,869:INFO:EPOCH - 36 : training on 2407290 raw words (2165415 effective words) took 5.2s, 413741 effective words/s\n",
      "2021-01-14 22:17:55,892:INFO:EPOCH 37 - PROGRESS: at 50.53% examples, 624052 words/s, in_qsize 23, out_qsize 0\n",
      "2021-01-14 22:17:56,915:INFO:EPOCH 37 - PROGRESS: at 68.82% examples, 524049 words/s, in_qsize 23, out_qsize 0\n",
      "2021-01-14 22:17:57,939:INFO:EPOCH 37 - PROGRESS: at 82.25% examples, 468658 words/s, in_qsize 24, out_qsize 0\n",
      "2021-01-14 22:17:58,940:INFO:EPOCH 37 - PROGRESS: at 90.66% examples, 435986 words/s, in_qsize 23, out_qsize 0\n",
      "2021-01-14 22:17:59,890:INFO:worker thread finished; awaiting finish of 11 more threads\n",
      "2021-01-14 22:17:59,891:INFO:worker thread finished; awaiting finish of 10 more threads\n",
      "2021-01-14 22:17:59,905:INFO:worker thread finished; awaiting finish of 9 more threads\n",
      "2021-01-14 22:17:59,937:INFO:worker thread finished; awaiting finish of 8 more threads\n",
      "2021-01-14 22:17:59,960:INFO:EPOCH 37 - PROGRESS: at 98.61% examples, 413989 words/s, in_qsize 7, out_qsize 1\n",
      "2021-01-14 22:17:59,960:INFO:worker thread finished; awaiting finish of 7 more threads\n",
      "2021-01-14 22:17:59,962:INFO:worker thread finished; awaiting finish of 6 more threads\n"
     ]
    },
    {
     "name": "stderr",
     "output_type": "stream",
     "text": [
      "2021-01-14 22:17:59,968:INFO:worker thread finished; awaiting finish of 5 more threads\n",
      "2021-01-14 22:17:59,976:INFO:worker thread finished; awaiting finish of 4 more threads\n",
      "2021-01-14 22:17:59,979:INFO:worker thread finished; awaiting finish of 3 more threads\n",
      "2021-01-14 22:17:59,980:INFO:worker thread finished; awaiting finish of 2 more threads\n",
      "2021-01-14 22:17:59,998:INFO:worker thread finished; awaiting finish of 1 more threads\n",
      "2021-01-14 22:18:00,000:INFO:worker thread finished; awaiting finish of 0 more threads\n",
      "2021-01-14 22:18:00,001:INFO:EPOCH - 37 : training on 2407290 raw words (2164999 effective words) took 5.1s, 423228 effective words/s\n",
      "2021-01-14 22:18:01,027:INFO:EPOCH 38 - PROGRESS: at 50.58% examples, 620000 words/s, in_qsize 23, out_qsize 0\n",
      "2021-01-14 22:18:02,087:INFO:EPOCH 38 - PROGRESS: at 69.12% examples, 517354 words/s, in_qsize 23, out_qsize 0\n",
      "2021-01-14 22:18:03,159:INFO:EPOCH 38 - PROGRESS: at 82.75% examples, 460587 words/s, in_qsize 23, out_qsize 0\n",
      "2021-01-14 22:18:04,161:INFO:EPOCH 38 - PROGRESS: at 91.00% examples, 430496 words/s, in_qsize 23, out_qsize 0\n",
      "2021-01-14 22:18:05,022:INFO:worker thread finished; awaiting finish of 11 more threads\n",
      "2021-01-14 22:18:05,053:INFO:worker thread finished; awaiting finish of 10 more threads\n",
      "2021-01-14 22:18:05,063:INFO:worker thread finished; awaiting finish of 9 more threads\n",
      "2021-01-14 22:18:05,077:INFO:worker thread finished; awaiting finish of 8 more threads\n",
      "2021-01-14 22:18:05,131:INFO:worker thread finished; awaiting finish of 7 more threads\n",
      "2021-01-14 22:18:05,160:INFO:worker thread finished; awaiting finish of 6 more threads\n",
      "2021-01-14 22:18:05,179:INFO:EPOCH 38 - PROGRESS: at 99.04% examples, 410291 words/s, in_qsize 5, out_qsize 1\n",
      "2021-01-14 22:18:05,180:INFO:worker thread finished; awaiting finish of 5 more threads\n",
      "2021-01-14 22:18:05,182:INFO:worker thread finished; awaiting finish of 4 more threads\n",
      "2021-01-14 22:18:05,184:INFO:worker thread finished; awaiting finish of 3 more threads\n",
      "2021-01-14 22:18:05,197:INFO:worker thread finished; awaiting finish of 2 more threads\n",
      "2021-01-14 22:18:05,198:INFO:worker thread finished; awaiting finish of 1 more threads\n",
      "2021-01-14 22:18:05,200:INFO:worker thread finished; awaiting finish of 0 more threads\n",
      "2021-01-14 22:18:05,201:INFO:EPOCH - 38 : training on 2407290 raw words (2165214 effective words) took 5.2s, 417373 effective words/s\n",
      "2021-01-14 22:18:06,251:INFO:EPOCH 39 - PROGRESS: at 51.05% examples, 617840 words/s, in_qsize 23, out_qsize 0\n",
      "2021-01-14 22:18:07,266:INFO:EPOCH 39 - PROGRESS: at 69.55% examples, 528096 words/s, in_qsize 23, out_qsize 0\n",
      "2021-01-14 22:18:08,304:INFO:EPOCH 39 - PROGRESS: at 83.54% examples, 478011 words/s, in_qsize 23, out_qsize 0\n",
      "2021-01-14 22:18:09,369:INFO:EPOCH 39 - PROGRESS: at 91.47% examples, 436580 words/s, in_qsize 23, out_qsize 0\n",
      "2021-01-14 22:18:10,096:INFO:worker thread finished; awaiting finish of 11 more threads\n",
      "2021-01-14 22:18:10,105:INFO:worker thread finished; awaiting finish of 10 more threads\n",
      "2021-01-14 22:18:10,121:INFO:worker thread finished; awaiting finish of 9 more threads\n",
      "2021-01-14 22:18:10,190:INFO:worker thread finished; awaiting finish of 8 more threads\n",
      "2021-01-14 22:18:10,209:INFO:worker thread finished; awaiting finish of 7 more threads\n",
      "2021-01-14 22:18:10,211:INFO:worker thread finished; awaiting finish of 6 more threads\n",
      "2021-01-14 22:18:10,212:INFO:worker thread finished; awaiting finish of 5 more threads\n",
      "2021-01-14 22:18:10,218:INFO:worker thread finished; awaiting finish of 4 more threads\n",
      "2021-01-14 22:18:10,232:INFO:worker thread finished; awaiting finish of 3 more threads\n",
      "2021-01-14 22:18:10,235:INFO:worker thread finished; awaiting finish of 2 more threads\n",
      "2021-01-14 22:18:10,251:INFO:worker thread finished; awaiting finish of 1 more threads\n",
      "2021-01-14 22:18:10,278:INFO:worker thread finished; awaiting finish of 0 more threads\n",
      "2021-01-14 22:18:10,279:INFO:EPOCH - 39 : training on 2407290 raw words (2164599 effective words) took 5.1s, 427803 effective words/s\n",
      "2021-01-14 22:18:11,323:INFO:EPOCH 40 - PROGRESS: at 51.07% examples, 622989 words/s, in_qsize 23, out_qsize 0\n",
      "2021-01-14 22:18:12,345:INFO:EPOCH 40 - PROGRESS: at 69.96% examples, 532973 words/s, in_qsize 23, out_qsize 0\n",
      "2021-01-14 22:18:13,409:INFO:EPOCH 40 - PROGRESS: at 83.30% examples, 471690 words/s, in_qsize 23, out_qsize 0\n",
      "2021-01-14 22:18:14,443:INFO:EPOCH 40 - PROGRESS: at 91.31% examples, 435401 words/s, in_qsize 23, out_qsize 0\n",
      "2021-01-14 22:18:15,241:INFO:worker thread finished; awaiting finish of 11 more threads\n",
      "2021-01-14 22:18:15,245:INFO:worker thread finished; awaiting finish of 10 more threads\n",
      "2021-01-14 22:18:15,294:INFO:worker thread finished; awaiting finish of 9 more threads\n",
      "2021-01-14 22:18:15,310:INFO:worker thread finished; awaiting finish of 8 more threads\n",
      "2021-01-14 22:18:15,334:INFO:worker thread finished; awaiting finish of 7 more threads\n",
      "2021-01-14 22:18:15,336:INFO:worker thread finished; awaiting finish of 6 more threads\n",
      "2021-01-14 22:18:15,348:INFO:worker thread finished; awaiting finish of 5 more threads\n",
      "2021-01-14 22:18:15,379:INFO:worker thread finished; awaiting finish of 4 more threads\n",
      "2021-01-14 22:18:15,386:INFO:worker thread finished; awaiting finish of 3 more threads\n",
      "2021-01-14 22:18:15,399:INFO:worker thread finished; awaiting finish of 2 more threads\n",
      "2021-01-14 22:18:15,407:INFO:worker thread finished; awaiting finish of 1 more threads\n",
      "2021-01-14 22:18:15,416:INFO:worker thread finished; awaiting finish of 0 more threads\n",
      "2021-01-14 22:18:15,417:INFO:EPOCH - 40 : training on 2407290 raw words (2165542 effective words) took 5.1s, 423192 effective words/s\n",
      "2021-01-14 22:18:16,487:INFO:EPOCH 41 - PROGRESS: at 50.58% examples, 597407 words/s, in_qsize 23, out_qsize 0\n",
      "2021-01-14 22:18:17,493:INFO:EPOCH 41 - PROGRESS: at 69.53% examples, 525681 words/s, in_qsize 23, out_qsize 0\n",
      "2021-01-14 22:18:18,527:INFO:EPOCH 41 - PROGRESS: at 82.76% examples, 468636 words/s, in_qsize 23, out_qsize 0\n",
      "2021-01-14 22:18:19,545:INFO:EPOCH 41 - PROGRESS: at 90.78% examples, 432490 words/s, in_qsize 23, out_qsize 0\n",
      "2021-01-14 22:18:20,368:INFO:worker thread finished; awaiting finish of 11 more threads\n",
      "2021-01-14 22:18:20,467:INFO:worker thread finished; awaiting finish of 10 more threads\n",
      "2021-01-14 22:18:20,483:INFO:worker thread finished; awaiting finish of 9 more threads\n",
      "2021-01-14 22:18:20,495:INFO:worker thread finished; awaiting finish of 8 more threads\n",
      "2021-01-14 22:18:20,532:INFO:worker thread finished; awaiting finish of 7 more threads\n",
      "2021-01-14 22:18:20,535:INFO:worker thread finished; awaiting finish of 6 more threads\n",
      "2021-01-14 22:18:20,536:INFO:worker thread finished; awaiting finish of 5 more threads\n",
      "2021-01-14 22:18:20,550:INFO:EPOCH 41 - PROGRESS: at 99.20% examples, 416216 words/s, in_qsize 4, out_qsize 1\n",
      "2021-01-14 22:18:20,551:INFO:worker thread finished; awaiting finish of 4 more threads\n",
      "2021-01-14 22:18:20,555:INFO:worker thread finished; awaiting finish of 3 more threads\n",
      "2021-01-14 22:18:20,556:INFO:worker thread finished; awaiting finish of 2 more threads\n",
      "2021-01-14 22:18:20,566:INFO:worker thread finished; awaiting finish of 1 more threads\n",
      "2021-01-14 22:18:20,574:INFO:worker thread finished; awaiting finish of 0 more threads\n",
      "2021-01-14 22:18:20,575:INFO:EPOCH - 41 : training on 2407290 raw words (2165474 effective words) took 5.1s, 421359 effective words/s\n",
      "2021-01-14 22:18:21,635:INFO:EPOCH 42 - PROGRESS: at 51.04% examples, 637162 words/s, in_qsize 24, out_qsize 0\n",
      "2021-01-14 22:18:22,688:INFO:EPOCH 42 - PROGRESS: at 69.94% examples, 530648 words/s, in_qsize 23, out_qsize 0\n",
      "2021-01-14 22:18:23,703:INFO:EPOCH 42 - PROGRESS: at 83.04% examples, 474772 words/s, in_qsize 23, out_qsize 0\n",
      "2021-01-14 22:18:24,720:INFO:EPOCH 42 - PROGRESS: at 90.98% examples, 436903 words/s, in_qsize 23, out_qsize 0\n",
      "2021-01-14 22:18:25,528:INFO:worker thread finished; awaiting finish of 11 more threads\n",
      "2021-01-14 22:18:25,538:INFO:worker thread finished; awaiting finish of 10 more threads\n",
      "2021-01-14 22:18:25,546:INFO:worker thread finished; awaiting finish of 9 more threads\n",
      "2021-01-14 22:18:25,603:INFO:worker thread finished; awaiting finish of 8 more threads\n",
      "2021-01-14 22:18:25,616:INFO:worker thread finished; awaiting finish of 7 more threads\n"
     ]
    },
    {
     "name": "stderr",
     "output_type": "stream",
     "text": [
      "2021-01-14 22:18:25,648:INFO:worker thread finished; awaiting finish of 6 more threads\n",
      "2021-01-14 22:18:25,649:INFO:worker thread finished; awaiting finish of 5 more threads\n",
      "2021-01-14 22:18:25,703:INFO:worker thread finished; awaiting finish of 4 more threads\n",
      "2021-01-14 22:18:25,704:INFO:worker thread finished; awaiting finish of 3 more threads\n",
      "2021-01-14 22:18:25,708:INFO:worker thread finished; awaiting finish of 2 more threads\n",
      "2021-01-14 22:18:25,713:INFO:worker thread finished; awaiting finish of 1 more threads\n",
      "2021-01-14 22:18:25,725:INFO:EPOCH 42 - PROGRESS: at 100.00% examples, 425319 words/s, in_qsize 0, out_qsize 1\n",
      "2021-01-14 22:18:25,725:INFO:worker thread finished; awaiting finish of 0 more threads\n",
      "2021-01-14 22:18:25,726:INFO:EPOCH - 42 : training on 2407290 raw words (2164976 effective words) took 5.1s, 425212 effective words/s\n",
      "2021-01-14 22:18:26,742:INFO:EPOCH 43 - PROGRESS: at 50.06% examples, 617699 words/s, in_qsize 23, out_qsize 0\n",
      "2021-01-14 22:18:27,754:INFO:EPOCH 43 - PROGRESS: at 67.93% examples, 519338 words/s, in_qsize 23, out_qsize 0\n",
      "2021-01-14 22:18:28,755:INFO:EPOCH 43 - PROGRESS: at 81.75% examples, 468644 words/s, in_qsize 22, out_qsize 1\n",
      "2021-01-14 22:18:29,782:INFO:EPOCH 43 - PROGRESS: at 90.29% examples, 432948 words/s, in_qsize 23, out_qsize 0\n",
      "2021-01-14 22:18:30,744:INFO:worker thread finished; awaiting finish of 11 more threads\n",
      "2021-01-14 22:18:30,784:INFO:EPOCH 43 - PROGRESS: at 97.93% examples, 410989 words/s, in_qsize 10, out_qsize 1\n",
      "2021-01-14 22:18:30,785:INFO:worker thread finished; awaiting finish of 10 more threads\n",
      "2021-01-14 22:18:30,799:INFO:worker thread finished; awaiting finish of 9 more threads\n",
      "2021-01-14 22:18:30,829:INFO:worker thread finished; awaiting finish of 8 more threads\n",
      "2021-01-14 22:18:30,843:INFO:worker thread finished; awaiting finish of 7 more threads\n",
      "2021-01-14 22:18:30,869:INFO:worker thread finished; awaiting finish of 6 more threads\n",
      "2021-01-14 22:18:30,873:INFO:worker thread finished; awaiting finish of 5 more threads\n",
      "2021-01-14 22:18:30,885:INFO:worker thread finished; awaiting finish of 4 more threads\n",
      "2021-01-14 22:18:30,887:INFO:worker thread finished; awaiting finish of 3 more threads\n",
      "2021-01-14 22:18:30,899:INFO:worker thread finished; awaiting finish of 2 more threads\n",
      "2021-01-14 22:18:30,911:INFO:worker thread finished; awaiting finish of 1 more threads\n",
      "2021-01-14 22:18:30,912:INFO:worker thread finished; awaiting finish of 0 more threads\n",
      "2021-01-14 22:18:30,912:INFO:EPOCH - 43 : training on 2407290 raw words (2164904 effective words) took 5.2s, 418536 effective words/s\n",
      "2021-01-14 22:18:31,958:INFO:EPOCH 44 - PROGRESS: at 49.04% examples, 582712 words/s, in_qsize 24, out_qsize 1\n",
      "2021-01-14 22:18:32,981:INFO:EPOCH 44 - PROGRESS: at 69.12% examples, 521861 words/s, in_qsize 23, out_qsize 0\n",
      "2021-01-14 22:18:33,990:INFO:EPOCH 44 - PROGRESS: at 82.25% examples, 467134 words/s, in_qsize 23, out_qsize 0\n",
      "2021-01-14 22:18:35,015:INFO:EPOCH 44 - PROGRESS: at 90.46% examples, 430198 words/s, in_qsize 23, out_qsize 0\n",
      "2021-01-14 22:18:35,941:INFO:worker thread finished; awaiting finish of 11 more threads\n",
      "2021-01-14 22:18:35,967:INFO:worker thread finished; awaiting finish of 10 more threads\n",
      "2021-01-14 22:18:35,968:INFO:worker thread finished; awaiting finish of 9 more threads\n",
      "2021-01-14 22:18:35,997:INFO:worker thread finished; awaiting finish of 8 more threads\n",
      "2021-01-14 22:18:36,014:INFO:worker thread finished; awaiting finish of 7 more threads\n",
      "2021-01-14 22:18:36,040:INFO:EPOCH 44 - PROGRESS: at 98.85% examples, 412552 words/s, in_qsize 6, out_qsize 1\n",
      "2021-01-14 22:18:36,041:INFO:worker thread finished; awaiting finish of 6 more threads\n",
      "2021-01-14 22:18:36,092:INFO:worker thread finished; awaiting finish of 5 more threads\n",
      "2021-01-14 22:18:36,106:INFO:worker thread finished; awaiting finish of 4 more threads\n",
      "2021-01-14 22:18:36,107:INFO:worker thread finished; awaiting finish of 3 more threads\n",
      "2021-01-14 22:18:36,111:INFO:worker thread finished; awaiting finish of 2 more threads\n",
      "2021-01-14 22:18:36,119:INFO:worker thread finished; awaiting finish of 1 more threads\n",
      "2021-01-14 22:18:36,120:INFO:worker thread finished; awaiting finish of 0 more threads\n",
      "2021-01-14 22:18:36,121:INFO:EPOCH - 44 : training on 2407290 raw words (2164901 effective words) took 5.2s, 416811 effective words/s\n",
      "2021-01-14 22:18:37,150:INFO:EPOCH 45 - PROGRESS: at 49.04% examples, 591547 words/s, in_qsize 24, out_qsize 0\n",
      "2021-01-14 22:18:38,227:INFO:EPOCH 45 - PROGRESS: at 69.14% examples, 512301 words/s, in_qsize 23, out_qsize 0\n",
      "2021-01-14 22:18:39,252:INFO:EPOCH 45 - PROGRESS: at 83.00% examples, 467331 words/s, in_qsize 23, out_qsize 0\n",
      "2021-01-14 22:18:40,261:INFO:EPOCH 45 - PROGRESS: at 90.94% examples, 432677 words/s, in_qsize 23, out_qsize 0\n",
      "2021-01-14 22:18:41,049:INFO:worker thread finished; awaiting finish of 11 more threads\n",
      "2021-01-14 22:18:41,115:INFO:worker thread finished; awaiting finish of 10 more threads\n",
      "2021-01-14 22:18:41,165:INFO:worker thread finished; awaiting finish of 9 more threads\n",
      "2021-01-14 22:18:41,182:INFO:worker thread finished; awaiting finish of 8 more threads\n",
      "2021-01-14 22:18:41,205:INFO:worker thread finished; awaiting finish of 7 more threads\n",
      "2021-01-14 22:18:41,208:INFO:worker thread finished; awaiting finish of 6 more threads\n",
      "2021-01-14 22:18:41,215:INFO:worker thread finished; awaiting finish of 5 more threads\n",
      "2021-01-14 22:18:41,220:INFO:worker thread finished; awaiting finish of 4 more threads\n",
      "2021-01-14 22:18:41,248:INFO:worker thread finished; awaiting finish of 3 more threads\n",
      "2021-01-14 22:18:41,249:INFO:worker thread finished; awaiting finish of 2 more threads\n",
      "2021-01-14 22:18:41,251:INFO:worker thread finished; awaiting finish of 1 more threads\n",
      "2021-01-14 22:18:41,256:INFO:worker thread finished; awaiting finish of 0 more threads\n",
      "2021-01-14 22:18:41,256:INFO:EPOCH - 45 : training on 2407290 raw words (2164819 effective words) took 5.1s, 422587 effective words/s\n",
      "2021-01-14 22:18:42,275:INFO:EPOCH 46 - PROGRESS: at 49.03% examples, 600361 words/s, in_qsize 23, out_qsize 0\n",
      "2021-01-14 22:18:43,330:INFO:EPOCH 46 - PROGRESS: at 69.12% examples, 521865 words/s, in_qsize 23, out_qsize 0\n",
      "2021-01-14 22:18:44,333:INFO:EPOCH 46 - PROGRESS: at 82.25% examples, 467789 words/s, in_qsize 23, out_qsize 0\n",
      "2021-01-14 22:18:45,340:INFO:EPOCH 46 - PROGRESS: at 89.71% examples, 423949 words/s, in_qsize 23, out_qsize 0\n",
      "2021-01-14 22:18:46,296:INFO:worker thread finished; awaiting finish of 11 more threads\n",
      "2021-01-14 22:18:46,298:INFO:worker thread finished; awaiting finish of 10 more threads\n",
      "2021-01-14 22:18:46,401:INFO:EPOCH 46 - PROGRESS: at 98.18% examples, 406199 words/s, in_qsize 9, out_qsize 1\n",
      "2021-01-14 22:18:46,402:INFO:worker thread finished; awaiting finish of 9 more threads\n",
      "2021-01-14 22:18:46,434:INFO:worker thread finished; awaiting finish of 8 more threads\n",
      "2021-01-14 22:18:46,438:INFO:worker thread finished; awaiting finish of 7 more threads\n",
      "2021-01-14 22:18:46,472:INFO:worker thread finished; awaiting finish of 6 more threads\n",
      "2021-01-14 22:18:46,474:INFO:worker thread finished; awaiting finish of 5 more threads\n",
      "2021-01-14 22:18:46,491:INFO:worker thread finished; awaiting finish of 4 more threads\n",
      "2021-01-14 22:18:46,495:INFO:worker thread finished; awaiting finish of 3 more threads\n",
      "2021-01-14 22:18:46,500:INFO:worker thread finished; awaiting finish of 2 more threads\n",
      "2021-01-14 22:18:46,502:INFO:worker thread finished; awaiting finish of 1 more threads\n",
      "2021-01-14 22:18:46,518:INFO:worker thread finished; awaiting finish of 0 more threads\n",
      "2021-01-14 22:18:46,519:INFO:EPOCH - 46 : training on 2407290 raw words (2165443 effective words) took 5.2s, 412833 effective words/s\n",
      "2021-01-14 22:18:47,563:INFO:EPOCH 47 - PROGRESS: at 51.05% examples, 619419 words/s, in_qsize 23, out_qsize 0\n",
      "2021-01-14 22:18:48,567:INFO:EPOCH 47 - PROGRESS: at 69.12% examples, 527813 words/s, in_qsize 23, out_qsize 0\n",
      "2021-01-14 22:18:49,604:INFO:EPOCH 47 - PROGRESS: at 82.25% examples, 466115 words/s, in_qsize 23, out_qsize 0\n",
      "2021-01-14 22:18:50,626:INFO:EPOCH 47 - PROGRESS: at 90.66% examples, 431979 words/s, in_qsize 24, out_qsize 0\n",
      "2021-01-14 22:18:51,476:INFO:worker thread finished; awaiting finish of 11 more threads\n"
     ]
    },
    {
     "name": "stderr",
     "output_type": "stream",
     "text": [
      "2021-01-14 22:18:51,478:INFO:worker thread finished; awaiting finish of 10 more threads\n",
      "2021-01-14 22:18:51,569:INFO:worker thread finished; awaiting finish of 9 more threads\n",
      "2021-01-14 22:18:51,570:INFO:worker thread finished; awaiting finish of 8 more threads\n",
      "2021-01-14 22:18:51,575:INFO:worker thread finished; awaiting finish of 7 more threads\n",
      "2021-01-14 22:18:51,577:INFO:worker thread finished; awaiting finish of 6 more threads\n",
      "2021-01-14 22:18:51,608:INFO:worker thread finished; awaiting finish of 5 more threads\n",
      "2021-01-14 22:18:51,611:INFO:worker thread finished; awaiting finish of 4 more threads\n",
      "2021-01-14 22:18:51,615:INFO:worker thread finished; awaiting finish of 3 more threads\n",
      "2021-01-14 22:18:51,634:INFO:EPOCH 47 - PROGRESS: at 99.63% examples, 420873 words/s, in_qsize 2, out_qsize 1\n",
      "2021-01-14 22:18:51,635:INFO:worker thread finished; awaiting finish of 2 more threads\n",
      "2021-01-14 22:18:51,645:INFO:worker thread finished; awaiting finish of 1 more threads\n",
      "2021-01-14 22:18:51,651:INFO:worker thread finished; awaiting finish of 0 more threads\n",
      "2021-01-14 22:18:51,652:INFO:EPOCH - 47 : training on 2407290 raw words (2165173 effective words) took 5.1s, 423018 effective words/s\n",
      "2021-01-14 22:18:52,692:INFO:EPOCH 48 - PROGRESS: at 50.53% examples, 612963 words/s, in_qsize 23, out_qsize 0\n",
      "2021-01-14 22:18:53,711:INFO:EPOCH 48 - PROGRESS: at 68.42% examples, 516105 words/s, in_qsize 23, out_qsize 0\n",
      "2021-01-14 22:18:54,741:INFO:EPOCH 48 - PROGRESS: at 82.26% examples, 465432 words/s, in_qsize 23, out_qsize 0\n",
      "2021-01-14 22:18:55,801:INFO:EPOCH 48 - PROGRESS: at 90.79% examples, 429642 words/s, in_qsize 23, out_qsize 0\n",
      "2021-01-14 22:18:56,701:INFO:worker thread finished; awaiting finish of 11 more threads\n",
      "2021-01-14 22:18:56,748:INFO:worker thread finished; awaiting finish of 10 more threads\n",
      "2021-01-14 22:18:56,749:INFO:worker thread finished; awaiting finish of 9 more threads\n",
      "2021-01-14 22:18:56,750:INFO:worker thread finished; awaiting finish of 8 more threads\n",
      "2021-01-14 22:18:56,797:INFO:worker thread finished; awaiting finish of 7 more threads\n",
      "2021-01-14 22:18:56,800:INFO:worker thread finished; awaiting finish of 6 more threads\n",
      "2021-01-14 22:18:56,809:INFO:EPOCH 48 - PROGRESS: at 99.06% examples, 412018 words/s, in_qsize 5, out_qsize 1\n",
      "2021-01-14 22:18:56,810:INFO:worker thread finished; awaiting finish of 5 more threads\n",
      "2021-01-14 22:18:56,812:INFO:worker thread finished; awaiting finish of 4 more threads\n",
      "2021-01-14 22:18:56,820:INFO:worker thread finished; awaiting finish of 3 more threads\n",
      "2021-01-14 22:18:56,829:INFO:worker thread finished; awaiting finish of 2 more threads\n",
      "2021-01-14 22:18:56,837:INFO:worker thread finished; awaiting finish of 1 more threads\n",
      "2021-01-14 22:18:56,848:INFO:worker thread finished; awaiting finish of 0 more threads\n",
      "2021-01-14 22:18:56,849:INFO:EPOCH - 48 : training on 2407290 raw words (2165327 effective words) took 5.2s, 417784 effective words/s\n",
      "2021-01-14 22:18:57,887:INFO:EPOCH 49 - PROGRESS: at 50.06% examples, 607445 words/s, in_qsize 23, out_qsize 0\n",
      "2021-01-14 22:18:58,891:INFO:EPOCH 49 - PROGRESS: at 67.93% examples, 517038 words/s, in_qsize 23, out_qsize 0\n",
      "2021-01-14 22:18:59,901:INFO:EPOCH 49 - PROGRESS: at 81.77% examples, 465742 words/s, in_qsize 23, out_qsize 0\n",
      "2021-01-14 22:19:00,930:INFO:EPOCH 49 - PROGRESS: at 90.10% examples, 428494 words/s, in_qsize 23, out_qsize 0\n",
      "2021-01-14 22:19:01,862:INFO:worker thread finished; awaiting finish of 11 more threads\n",
      "2021-01-14 22:19:01,863:INFO:worker thread finished; awaiting finish of 10 more threads\n",
      "2021-01-14 22:19:01,864:INFO:worker thread finished; awaiting finish of 9 more threads\n",
      "2021-01-14 22:19:01,875:INFO:worker thread finished; awaiting finish of 8 more threads\n",
      "2021-01-14 22:19:01,973:INFO:EPOCH 49 - PROGRESS: at 98.62% examples, 411436 words/s, in_qsize 7, out_qsize 1\n",
      "2021-01-14 22:19:01,974:INFO:worker thread finished; awaiting finish of 7 more threads\n",
      "2021-01-14 22:19:01,980:INFO:worker thread finished; awaiting finish of 6 more threads\n",
      "2021-01-14 22:19:02,005:INFO:worker thread finished; awaiting finish of 5 more threads\n",
      "2021-01-14 22:19:02,009:INFO:worker thread finished; awaiting finish of 4 more threads\n",
      "2021-01-14 22:19:02,031:INFO:worker thread finished; awaiting finish of 3 more threads\n",
      "2021-01-14 22:19:02,047:INFO:worker thread finished; awaiting finish of 2 more threads\n",
      "2021-01-14 22:19:02,048:INFO:worker thread finished; awaiting finish of 1 more threads\n",
      "2021-01-14 22:19:02,049:INFO:worker thread finished; awaiting finish of 0 more threads\n",
      "2021-01-14 22:19:02,049:INFO:EPOCH - 49 : training on 2407290 raw words (2165203 effective words) took 5.2s, 417777 effective words/s\n",
      "2021-01-14 22:19:03,075:INFO:EPOCH 50 - PROGRESS: at 50.06% examples, 616280 words/s, in_qsize 23, out_qsize 0\n",
      "2021-01-14 22:19:04,101:INFO:EPOCH 50 - PROGRESS: at 67.95% examples, 515222 words/s, in_qsize 23, out_qsize 0\n",
      "2021-01-14 22:19:05,107:INFO:EPOCH 50 - PROGRESS: at 81.48% examples, 462417 words/s, in_qsize 23, out_qsize 0\n",
      "2021-01-14 22:19:06,148:INFO:EPOCH 50 - PROGRESS: at 90.66% examples, 433498 words/s, in_qsize 23, out_qsize 0\n",
      "2021-01-14 22:19:07,092:INFO:worker thread finished; awaiting finish of 11 more threads\n",
      "2021-01-14 22:19:07,098:INFO:worker thread finished; awaiting finish of 10 more threads\n",
      "2021-01-14 22:19:07,114:INFO:worker thread finished; awaiting finish of 9 more threads\n",
      "2021-01-14 22:19:07,156:INFO:EPOCH 50 - PROGRESS: at 98.37% examples, 411317 words/s, in_qsize 8, out_qsize 1\n",
      "2021-01-14 22:19:07,157:INFO:worker thread finished; awaiting finish of 8 more threads\n",
      "2021-01-14 22:19:07,172:INFO:worker thread finished; awaiting finish of 7 more threads\n",
      "2021-01-14 22:19:07,180:INFO:worker thread finished; awaiting finish of 6 more threads\n",
      "2021-01-14 22:19:07,183:INFO:worker thread finished; awaiting finish of 5 more threads\n",
      "2021-01-14 22:19:07,199:INFO:worker thread finished; awaiting finish of 4 more threads\n",
      "2021-01-14 22:19:07,215:INFO:worker thread finished; awaiting finish of 3 more threads\n",
      "2021-01-14 22:19:07,233:INFO:worker thread finished; awaiting finish of 2 more threads\n",
      "2021-01-14 22:19:07,239:INFO:worker thread finished; awaiting finish of 1 more threads\n",
      "2021-01-14 22:19:07,262:INFO:worker thread finished; awaiting finish of 0 more threads\n",
      "2021-01-14 22:19:07,263:INFO:EPOCH - 50 : training on 2407290 raw words (2164877 effective words) took 5.2s, 416986 effective words/s\n",
      "2021-01-14 22:19:07,263:INFO:training on a 120364500 raw words (108263166 effective words) took 257.2s, 420992 effective words/s\n"
     ]
    }
   ],
   "source": [
    "# article_info = get_article_info_df()\n",
    "item_info_df = get_item_info_df(data_path)\n",
    "item_type_dict, item_words_dict, item_created_time_dict = get_item_info_dict(item_info_df)\n",
    "article_info = {\n",
    "    'created_at_ts': item_created_time_dict,\n",
    "    'words_count': item_words_dict\n",
    "}\n",
    "all_click = click_trn.append(click_tst)\n",
    "item_content_emb_dict, item_w2v_emb_dict = get_embedding(save_path, all_click)"
   ]
  },
  {
   "cell_type": "code",
   "execution_count": 51,
   "metadata": {
    "ExecuteTime": {
     "end_time": "2021-01-14T14:28:13.505304Z",
     "start_time": "2021-01-14T14:26:47.718132Z"
    }
   },
   "outputs": [
    {
     "name": "stderr",
     "output_type": "stream",
     "text": [
      "100%|███████████████████████████████████████████████████████████████████████████| 50000/50000 [01:23<00:00, 598.95it/s]\n"
     ]
    }
   ],
   "source": [
    "# # 获取训练验证及测试数据中召回列文章相关特征\n",
    "trn_user_item_feats_df = create_feature(trn_user_item_label_tuples_dict.keys(), trn_user_item_label_tuples_dict, \\\n",
    "                                            click_trn_hist, article_info, item_content_emb_dict)\n",
    "\n",
    "if val_user_item_label_tuples_dict is not None:\n",
    "    val_user_item_feats_df = create_feature(val_user_item_label_tuples_dict.keys(), val_user_item_label_tuples_dict, \\\n",
    "                                                click_val_hist, article_info_df, item_content_emb_dict)\n",
    "else:\n",
    "    val_user_item_feats_df = None\n",
    "    \n",
    "tst_user_item_feats_df = create_feature(tst_user_item_label_tuples_dict.keys(), tst_user_item_label_tuples_dict, \\\n",
    "                                            click_tst_hist, article_info, item_content_emb_dict)"
   ]
  },
  {
   "cell_type": "code",
   "execution_count": 52,
   "metadata": {
    "ExecuteTime": {
     "end_time": "2021-01-14T14:28:41.032712Z",
     "start_time": "2021-01-14T14:28:13.506302Z"
    }
   },
   "outputs": [],
   "source": [
    "# 保存一份省的每次都要重新跑，每次跑的时间都比较长\n",
    "trn_user_item_feats_df.to_csv(save_path + 'trn_user_item_feats_df.csv', index=False)\n",
    "\n",
    "if val_user_item_feats_df is not None:\n",
    "    val_user_item_feats_df.to_csv(save_path + 'val_user_item_feats_df.csv', index=False)\n",
    "\n",
    "tst_user_item_feats_df.to_csv(save_path + 'tst_user_item_feats_df.csv', index=False)"
   ]
  }
 ],
 "metadata": {
  "kernelspec": {
   "display_name": "Python 3",
   "language": "python",
   "name": "python3"
  },
  "language_info": {
   "codemirror_mode": {
    "name": "ipython",
    "version": 3
   },
   "file_extension": ".py",
   "mimetype": "text/x-python",
   "name": "python",
   "nbconvert_exporter": "python",
   "pygments_lexer": "ipython3",
   "version": "3.7.4"
  }
 },
 "nbformat": 4,
 "nbformat_minor": 2
}
