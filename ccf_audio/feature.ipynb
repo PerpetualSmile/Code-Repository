{
 "cells": [
  {
   "cell_type": "code",
   "execution_count": 1,
   "metadata": {
    "ExecuteTime": {
     "end_time": "2020-12-05T07:24:02.049416Z",
     "start_time": "2020-12-05T07:23:58.324467Z"
    }
   },
   "outputs": [],
   "source": [
    "import numpy as np\n",
    "import librosa as lb\n",
    "import pandas as pd\n",
    "\n",
    "from tqdm import tqdm\n",
    "from sklearn.utils import shuffle\n",
    "import os"
   ]
  },
  {
   "cell_type": "code",
   "execution_count": 2,
   "metadata": {
    "ExecuteTime": {
     "end_time": "2020-12-05T07:24:02.065349Z",
     "start_time": "2020-12-05T07:24:02.050395Z"
    }
   },
   "outputs": [],
   "source": [
    "train_path = './data/train'\n",
    "test_path = './data/test'\n",
    "feat_path = './features'"
   ]
  },
  {
   "cell_type": "code",
   "execution_count": 3,
   "metadata": {
    "ExecuteTime": {
     "end_time": "2020-12-05T07:24:02.080313Z",
     "start_time": "2020-12-05T07:24:02.066346Z"
    }
   },
   "outputs": [],
   "source": [
    "if not os.path.exists(feat_path):\n",
    "    os.makedirs(feat_path)"
   ]
  },
  {
   "cell_type": "code",
   "execution_count": 4,
   "metadata": {
    "ExecuteTime": {
     "end_time": "2020-12-05T07:24:02.095269Z",
     "start_time": "2020-12-05T07:24:02.081307Z"
    }
   },
   "outputs": [],
   "source": [
    "GLOBAL_SEED = 42\n",
    "NUM_CLASSES = 30\n",
    "SR = 16000\n",
    "LABELS = os.listdir(train_path)"
   ]
  },
  {
   "cell_type": "markdown",
   "metadata": {},
   "source": [
    "## melspec feature"
   ]
  },
  {
   "cell_type": "code",
   "execution_count": 4,
   "metadata": {
    "ExecuteTime": {
     "end_time": "2020-12-03T08:39:00.461952Z",
     "start_time": "2020-12-03T08:39:00.449959Z"
    }
   },
   "outputs": [],
   "source": [
    "def get_melspec(x, sr, n_mels=256):\n",
    "    melspec = lb.feature.melspectrogram(x, sr=sr, n_mels=n_mels, n_fft=2048, hop_length=512)\n",
    "#     lb.power_to_db(melspec).astype(np.float32)\n",
    "    return melspec\n",
    "\n",
    "\n",
    "def crop_or_pad(y, length):\n",
    "    if len(y) < length:\n",
    "        y = np.concatenate([y, np.zeros(length - len(y))])\n",
    "    elif len(y) > length:\n",
    "        y = y[: length]\n",
    "    return y\n",
    "\n",
    "def preprocess_train(train_path):\n",
    "    x, y = [], []\n",
    "    for i, label in enumerate(LABELS):\n",
    "        label_dir = os.path.join(train_path, label)\n",
    "        for wav_file in tqdm(os.listdir(label_dir)):\n",
    "            wav_path = os.path.join(train_path, label, wav_file)\n",
    "            wav, sr = lb.load(wav_path, sr=SR)\n",
    "            wav = crop_or_pad(wav, 1*SR)\n",
    "            melspec = get_melspec(wav, sr)\n",
    "            x.append(melspec)\n",
    "            y.append(i)\n",
    "\n",
    "    x, y = np.r_[x], np.r_[y]\n",
    "#     x, y = shuffle(x, y, random_state=GLOBAL_SEED)\n",
    "    return x.astype(np.float32), y.astype(np.int32)\n",
    "\n",
    "def preprocess_test(test_path):\n",
    "    x, keys = [], []\n",
    "\n",
    "    for wav_file in tqdm(os.listdir(test_path)):\n",
    "        wav_path = os.path.join(test_path, wav_file)\n",
    "        wav, sr = lb.load(wav_path, sr=SR)\n",
    "        wav = crop_or_pad(wav, 1*SR)\n",
    "        melspec = get_melspec(wav, sr)\n",
    "        x.append(melspec)\n",
    "        keys.append(wav_file)\n",
    "    x = np.r_[x]\n",
    "    return x.astype(np.float32), keys"
   ]
  },
  {
   "cell_type": "code",
   "execution_count": 6,
   "metadata": {
    "ExecuteTime": {
     "end_time": "2020-12-03T08:51:06.172816Z",
     "start_time": "2020-12-03T08:39:15.553374Z"
    }
   },
   "outputs": [
    {
     "name": "stderr",
     "output_type": "stream",
     "text": [
      "100%|█████████████████████████████████████████████████████████████████████████████| 1537/1537 [00:07<00:00, 208.99it/s]\n",
      "100%|█████████████████████████████████████████████████████████████████████████████| 1573/1573 [00:07<00:00, 202.41it/s]\n",
      "100%|█████████████████████████████████████████████████████████████████████████████| 1567/1567 [00:08<00:00, 193.65it/s]\n",
      "100%|█████████████████████████████████████████████████████████████████████████████| 1566/1566 [00:08<00:00, 183.13it/s]\n",
      "100%|█████████████████████████████████████████████████████████████████████████████| 2106/2106 [00:12<00:00, 165.93it/s]\n",
      "100%|█████████████████████████████████████████████████████████████████████████████| 2095/2095 [00:14<00:00, 147.30it/s]\n",
      "100%|█████████████████████████████████████████████████████████████████████████████| 2086/2086 [00:15<00:00, 131.98it/s]\n",
      "100%|█████████████████████████████████████████████████████████████████████████████| 2119/2119 [00:17<00:00, 119.53it/s]\n",
      "100%|█████████████████████████████████████████████████████████████████████████████| 2121/2121 [00:17<00:00, 120.19it/s]\n",
      "100%|█████████████████████████████████████████████████████████████████████████████| 1562/1562 [00:13<00:00, 113.60it/s]\n",
      "100%|█████████████████████████████████████████████████████████████████████████████| 1600/1600 [00:14<00:00, 108.26it/s]\n",
      "100%|█████████████████████████████████████████████████████████████████████████████| 2086/2086 [00:20<00:00, 101.07it/s]\n",
      "100%|█████████████████████████████████████████████████████████████████████████████| 1584/1584 [00:15<00:00, 102.22it/s]\n",
      "100%|██████████████████████████████████████████████████████████████████████████████| 2105/2105 [00:21<00:00, 96.35it/s]\n",
      "100%|██████████████████████████████████████████████████████████████████████████████| 2123/2123 [00:23<00:00, 92.24it/s]\n",
      "100%|██████████████████████████████████████████████████████████████████████████████| 2095/2095 [00:25<00:00, 82.43it/s]\n",
      "100%|██████████████████████████████████████████████████████████████████████████████| 2121/2121 [00:26<00:00, 81.54it/s]\n",
      "100%|██████████████████████████████████████████████████████████████████████████████| 2122/2122 [00:26<00:00, 79.00it/s]\n",
      "100%|██████████████████████████████████████████████████████████████████████████████| 2108/2108 [00:27<00:00, 76.69it/s]\n",
      "100%|██████████████████████████████████████████████████████████████████████████████| 2138/2138 [00:29<00:00, 73.18it/s]\n",
      "100%|██████████████████████████████████████████████████████████████████████████████| 1548/1548 [00:21<00:00, 73.13it/s]\n",
      "100%|██████████████████████████████████████████████████████████████████████████████| 2125/2125 [00:30<00:00, 69.36it/s]\n",
      "100%|██████████████████████████████████████████████████████████████████████████████| 2131/2131 [00:32<00:00, 65.12it/s]\n",
      "100%|██████████████████████████████████████████████████████████████████████████████| 2089/2089 [00:33<00:00, 61.73it/s]\n",
      "100%|██████████████████████████████████████████████████████████████████████████████| 1540/1540 [00:27<00:00, 56.54it/s]\n",
      "100%|██████████████████████████████████████████████████████████████████████████████| 2109/2109 [00:37<00:00, 55.65it/s]\n",
      "100%|██████████████████████████████████████████████████████████████████████████████| 2103/2103 [00:40<00:00, 52.46it/s]\n",
      "100%|██████████████████████████████████████████████████████████████████████████████| 1580/1580 [00:36<00:00, 43.71it/s]\n",
      "100%|██████████████████████████████████████████████████████████████████████████████| 2121/2121 [00:40<00:00, 51.89it/s]\n",
      "100%|██████████████████████████████████████████████████████████████████████████████| 2126/2126 [00:44<00:00, 47.55it/s]\n"
     ]
    }
   ],
   "source": [
    "X_train, y_train = preprocess_train(train_path)"
   ]
  },
  {
   "cell_type": "code",
   "execution_count": 8,
   "metadata": {
    "ExecuteTime": {
     "end_time": "2020-12-03T10:26:44.722784Z",
     "start_time": "2020-12-03T10:26:44.711783Z"
    }
   },
   "outputs": [
    {
     "data": {
      "text/plain": [
       "(57886, 256, 32)"
      ]
     },
     "execution_count": 8,
     "metadata": {},
     "output_type": "execute_result"
    }
   ],
   "source": [
    "X_train.shape"
   ]
  },
  {
   "cell_type": "code",
   "execution_count": 19,
   "metadata": {
    "ExecuteTime": {
     "end_time": "2020-12-03T10:30:48.536912Z",
     "start_time": "2020-12-03T10:30:12.515309Z"
    }
   },
   "outputs": [
    {
     "name": "stderr",
     "output_type": "stream",
     "text": [
      "100%|█████████████████████████████████████████████████████████████████████████████| 6835/6835 [00:35<00:00, 191.59it/s]\n"
     ]
    }
   ],
   "source": [
    "X_test, test_names = preprocess_test(test_path)"
   ]
  },
  {
   "cell_type": "code",
   "execution_count": 97,
   "metadata": {
    "ExecuteTime": {
     "end_time": "2020-12-03T12:22:49.971513Z",
     "start_time": "2020-12-03T12:22:49.966526Z"
    }
   },
   "outputs": [
    {
     "data": {
      "text/plain": [
       "(57886, 256, 32)"
      ]
     },
     "execution_count": 97,
     "metadata": {},
     "output_type": "execute_result"
    }
   ],
   "source": [
    "X_train.shape"
   ]
  },
  {
   "cell_type": "code",
   "execution_count": 98,
   "metadata": {
    "ExecuteTime": {
     "end_time": "2020-12-03T12:22:50.354989Z",
     "start_time": "2020-12-03T12:22:50.343021Z"
    }
   },
   "outputs": [
    {
     "data": {
      "text/plain": [
       "(6835, 256, 32)"
      ]
     },
     "execution_count": 98,
     "metadata": {},
     "output_type": "execute_result"
    }
   ],
   "source": [
    "X_test.shape"
   ]
  },
  {
   "cell_type": "code",
   "execution_count": 99,
   "metadata": {
    "ExecuteTime": {
     "end_time": "2020-12-03T12:22:53.615461Z",
     "start_time": "2020-12-03T12:22:50.686292Z"
    }
   },
   "outputs": [],
   "source": [
    "np.savez(os.path.join(feat_path, 'melspec_256'), X=np.concatenate([X_train, X_test], axis=0).transpose(0, 2, 1), y=y_train, test_names=test_names)"
   ]
  },
  {
   "cell_type": "markdown",
   "metadata": {},
   "source": [
    "## Other features"
   ]
  },
  {
   "cell_type": "code",
   "execution_count": 5,
   "metadata": {
    "ExecuteTime": {
     "end_time": "2020-12-04T01:08:03.027242Z",
     "start_time": "2020-12-04T01:08:03.012292Z"
    }
   },
   "outputs": [],
   "source": [
    "import sklearn.preprocessing\n",
    "import warnings\n",
    "warnings.filterwarnings(\"ignore\")"
   ]
  },
  {
   "cell_type": "code",
   "execution_count": 7,
   "metadata": {
    "ExecuteTime": {
     "end_time": "2020-12-04T01:08:07.745844Z",
     "start_time": "2020-12-04T01:08:07.731855Z"
    }
   },
   "outputs": [],
   "source": [
    "def get_melspec(x, sr, n_mels=256):\n",
    "    melspec = lb.feature.melspectrogram(x, sr=sr, n_mels=n_mels, n_fft=2048, hop_length=512)\n",
    "#     lb.power_to_db(melspec).astype(np.float32)\n",
    "    return melspec\n",
    "\n",
    "def get_audio_basic_feature(wav):\n",
    "    d = lb.stft(wav, n_fft=2048)\n",
    "    D = np.abs(d)**2\n",
    "    S = lb.feature.melspectrogram(S=D, n_mels=128)\n",
    "    mfcc = lb.feature.mfcc(S=lb.power_to_db(S), n_mfcc=40)\n",
    "    norm_mfcc = sklearn.preprocessing.scale(mfcc, axis=1)\n",
    "    zero_cross = lb.feature.zero_crossing_rate(wav, frame_length=2048)\n",
    "    mag = lb.magphase(d)[0]\n",
    "    centroid = lb.feature.spectral_centroid(S=mag)\n",
    "    chromagram = lb.feature.chroma_stft(S=D, sr=SR)\n",
    "    contrast = lb.feature.spectral_contrast(S=mag, sr=SR)\n",
    "    bandwidth = lb.feature.spectral_bandwidth(S=mag, sr=SR)\n",
    "    tonnetz = lb.feature.tonnetz(wav, sr=SR)\n",
    "    concat = np.concatenate([norm_mfcc, zero_cross, centroid, chromagram, contrast, bandwidth, tonnetz])\n",
    "#                 norm_concat = sklearn.preprocessing.scale(concat, axis=1)\n",
    "    return concat\n",
    "\n",
    "\n",
    "def crop_or_pad(y, length):\n",
    "    if len(y) < length:\n",
    "        y = np.concatenate([y, np.zeros(length - len(y))])\n",
    "    elif len(y) > length:\n",
    "        y = y[: length]\n",
    "    return y\n",
    "\n",
    "def preprocess_train(train_path):\n",
    "    x, y = [], []\n",
    "    for i, label in enumerate(LABELS):\n",
    "        label_dir = os.path.join(train_path, label)\n",
    "        for wav_file in tqdm(os.listdir(label_dir)):\n",
    "            wav_path = os.path.join(train_path, label, wav_file)\n",
    "            wav, sr = lb.load(wav_path, sr=SR)\n",
    "            wav = crop_or_pad(wav, 1*SR)\n",
    "            x.append(get_audio_basic_feature(wav))\n",
    "    x, y = np.r_[x], np.r_[y]\n",
    "#     x, y = shuffle(x, y, random_state=GLOBAL_SEED)\n",
    "    return x.astype(np.float32), y.astype(np.int32)\n",
    "\n",
    "def preprocess_test(test_path):\n",
    "    x, keys = [], []\n",
    "    for wav_file in tqdm(os.listdir(test_path)):\n",
    "        wav_path = os.path.join(test_path, wav_file)\n",
    "        wav, sr = lb.load(wav_path, sr=SR)\n",
    "        wav = crop_or_pad(wav, 1*SR)\n",
    "        x.append(get_audio_basic_feature(wav))\n",
    "        keys.append(wav_file)\n",
    "    x = np.r_[x]\n",
    "    return x.astype(np.float32), keys"
   ]
  },
  {
   "cell_type": "code",
   "execution_count": 8,
   "metadata": {
    "ExecuteTime": {
     "end_time": "2020-12-04T02:26:57.698556Z",
     "start_time": "2020-12-04T01:08:08.235566Z"
    }
   },
   "outputs": [
    {
     "name": "stderr",
     "output_type": "stream",
     "text": [
      "100%|██████████████████████████████████████████████████████████████████████████████| 1537/1537 [02:04<00:00, 12.39it/s]\n",
      "100%|██████████████████████████████████████████████████████████████████████████████| 1573/1573 [02:04<00:00, 12.63it/s]\n",
      "100%|██████████████████████████████████████████████████████████████████████████████| 1567/1567 [02:04<00:00, 12.62it/s]\n",
      "100%|██████████████████████████████████████████████████████████████████████████████| 1566/1566 [02:05<00:00, 12.50it/s]\n",
      "100%|██████████████████████████████████████████████████████████████████████████████| 2106/2106 [02:50<00:00, 12.37it/s]\n",
      "100%|██████████████████████████████████████████████████████████████████████████████| 2095/2095 [02:49<00:00, 12.39it/s]\n",
      "100%|██████████████████████████████████████████████████████████████████████████████| 2086/2086 [02:48<00:00, 12.38it/s]\n",
      "100%|██████████████████████████████████████████████████████████████████████████████| 2119/2119 [02:53<00:00, 12.19it/s]\n",
      "100%|██████████████████████████████████████████████████████████████████████████████| 2121/2121 [02:53<00:00, 12.21it/s]\n",
      "100%|██████████████████████████████████████████████████████████████████████████████| 1562/1562 [02:08<00:00, 12.14it/s]\n",
      "100%|██████████████████████████████████████████████████████████████████████████████| 1600/1600 [02:10<00:00, 12.25it/s]\n",
      "100%|██████████████████████████████████████████████████████████████████████████████| 2086/2086 [02:50<00:00, 12.21it/s]\n",
      "100%|██████████████████████████████████████████████████████████████████████████████| 1584/1584 [02:08<00:00, 12.34it/s]\n",
      "100%|██████████████████████████████████████████████████████████████████████████████| 2105/2105 [02:51<00:00, 12.29it/s]\n",
      "100%|██████████████████████████████████████████████████████████████████████████████| 2123/2123 [02:54<00:00, 12.14it/s]\n",
      "100%|██████████████████████████████████████████████████████████████████████████████| 2095/2095 [02:51<00:00, 12.24it/s]\n",
      "100%|██████████████████████████████████████████████████████████████████████████████| 2121/2121 [02:52<00:00, 12.30it/s]\n",
      "100%|██████████████████████████████████████████████████████████████████████████████| 2122/2122 [02:52<00:00, 12.30it/s]\n",
      "100%|██████████████████████████████████████████████████████████████████████████████| 2108/2108 [02:53<00:00, 12.18it/s]\n",
      "100%|██████████████████████████████████████████████████████████████████████████████| 2138/2138 [02:55<00:00, 12.17it/s]\n",
      "100%|██████████████████████████████████████████████████████████████████████████████| 1548/1548 [02:07<00:00, 12.18it/s]\n",
      "100%|██████████████████████████████████████████████████████████████████████████████| 2125/2125 [02:55<00:00, 12.12it/s]\n",
      "100%|██████████████████████████████████████████████████████████████████████████████| 2131/2131 [02:55<00:00, 12.15it/s]\n",
      "100%|██████████████████████████████████████████████████████████████████████████████| 2089/2089 [02:51<00:00, 12.20it/s]\n",
      "100%|██████████████████████████████████████████████████████████████████████████████| 1540/1540 [02:05<00:00, 12.22it/s]\n",
      "100%|██████████████████████████████████████████████████████████████████████████████| 2109/2109 [02:53<00:00, 12.19it/s]\n",
      "100%|██████████████████████████████████████████████████████████████████████████████| 2103/2103 [02:54<00:00, 12.04it/s]\n",
      "100%|██████████████████████████████████████████████████████████████████████████████| 1580/1580 [02:10<00:00, 12.09it/s]\n",
      "100%|██████████████████████████████████████████████████████████████████████████████| 2121/2121 [02:56<00:00, 12.04it/s]\n",
      "100%|██████████████████████████████████████████████████████████████████████████████| 2126/2126 [02:55<00:00, 12.09it/s]\n"
     ]
    }
   ],
   "source": [
    "X_train, y_train = preprocess_train(train_path)"
   ]
  },
  {
   "cell_type": "code",
   "execution_count": 9,
   "metadata": {
    "ExecuteTime": {
     "end_time": "2020-12-04T02:53:51.120075Z",
     "start_time": "2020-12-04T02:44:37.665653Z"
    }
   },
   "outputs": [
    {
     "name": "stderr",
     "output_type": "stream",
     "text": [
      "100%|██████████████████████████████████████████████████████████████████████████████| 6835/6835 [09:13<00:00, 12.35it/s]\n"
     ]
    }
   ],
   "source": [
    "X_test, test_names = preprocess_test(test_path)"
   ]
  },
  {
   "cell_type": "code",
   "execution_count": 18,
   "metadata": {
    "ExecuteTime": {
     "end_time": "2020-12-03T15:53:21.013006Z",
     "start_time": "2020-12-03T15:53:20.347611Z"
    }
   },
   "outputs": [],
   "source": [
    "np.savez(os.path.join(feat_path, 'basic_feature'), X=np.concatenate([X_train, X_test], axis=0).transpose(0, 2, 1), y=y_train, test_names=test_names)"
   ]
  },
  {
   "cell_type": "markdown",
   "metadata": {},
   "source": [
    "## To Image"
   ]
  },
  {
   "cell_type": "code",
   "execution_count": 5,
   "metadata": {
    "ExecuteTime": {
     "end_time": "2020-12-05T07:24:33.579542Z",
     "start_time": "2020-12-05T07:24:33.564555Z"
    }
   },
   "outputs": [],
   "source": [
    "SR = 65535\n",
    "\n",
    "NUM_CLASSES = 30\n",
    "LABELS = os.listdir(train_path)"
   ]
  },
  {
   "cell_type": "code",
   "execution_count": 6,
   "metadata": {
    "ExecuteTime": {
     "end_time": "2020-12-05T07:24:38.446839Z",
     "start_time": "2020-12-05T07:24:38.420909Z"
    }
   },
   "outputs": [],
   "source": [
    "def mono_to_color(\n",
    "    X: np.ndarray, mean=None, std=None, norm_max=None, norm_min=None, eps=1e-6\n",
    "):\n",
    "    \"\"\"\n",
    "    Sources:\n",
    "        https://www.kaggle.com/daisukelab/creating-fat2019-preprocessed-data\n",
    "        https://www.kaggle.com/ttahara/training-birdsong-baseline-resnest50-fast\n",
    "    \"\"\"\n",
    "    # Stack X as [X,X,X]\n",
    "    X = np.stack([X, X, X], axis=-1)\n",
    "\n",
    "    # Standardize\n",
    "    mean = mean or X.mean()\n",
    "    X = X - mean\n",
    "    std = std or X.std()\n",
    "    Xstd = X / (std + eps)\n",
    "    _min, _max = Xstd.min(), Xstd.max()\n",
    "    norm_max = norm_max or _max\n",
    "    norm_min = norm_min or _min\n",
    "    if (_max - _min) > eps:\n",
    "        # Normalize to [0, 255]\n",
    "        V = Xstd\n",
    "        V[V < norm_min] = norm_min\n",
    "        V[V > norm_max] = norm_max\n",
    "        V = 255 * (V - norm_min) / (norm_max - norm_min)\n",
    "        V = V.astype(np.uint8)\n",
    "    else:\n",
    "        # Just zero\n",
    "        V = np.zeros_like(Xstd, dtype=np.uint8)\n",
    "    return V\n",
    "\n",
    "\n",
    "def normalize(image, mean=None, std=None):\n",
    "    image = image / 255.0\n",
    "    if mean is not None and std is not None:\n",
    "        image = (image - mean) / std\n",
    "    return np.moveaxis(image, 2, 0).astype(np.float32)\n",
    "\n",
    "\n",
    "def get_melspec(x, sr, n_mels=256):\n",
    "    mel_spec = lb.feature.melspectrogram(x, sr=sr, n_mels=n_mels, n_fft=2048, hop_length=512, power=2)\n",
    "    mel_spec = lb.power_to_db(mel_spec).astype(np.float32)\n",
    "    image = mono_to_color(mel_spec)\n",
    "#     image = normalize(image, mean=None, std=None)\n",
    "    image = image.transpose(2, 1, 0)\n",
    "#     image = resize(image, (224, 400)) \n",
    "    return image\n",
    "\n",
    "\n",
    "def crop_or_pad(y, length):\n",
    "    if len(y) < length:\n",
    "        y = np.concatenate([y, np.zeros(length - len(y))])\n",
    "    elif len(y) > length:\n",
    "        y = y[: length]\n",
    "    return y\n",
    "\n",
    "def preprocess_train(train_path):\n",
    "    x, y = [], []\n",
    "    for i, label in enumerate(LABELS):\n",
    "        label_dir = os.path.join(train_path, label)\n",
    "        for wav_file in tqdm(os.listdir(label_dir)):\n",
    "            wav_path = os.path.join(train_path, label, wav_file)\n",
    "            wav, sr = lb.load(wav_path, sr=SR)\n",
    "            wav = crop_or_pad(wav, 1*SR)\n",
    "            melspec = get_melspec(wav, sr)\n",
    "            x.append(melspec)\n",
    "            y.append(i)\n",
    "\n",
    "    x, y = np.r_[x], np.r_[y]\n",
    "#     x, y = shuffle(x, y, random_state=GLOBAL_SEED)\n",
    "    return x, y.astype(np.int32)\n",
    "\n",
    "def preprocess_test(test_path):\n",
    "    x, keys = [], []\n",
    "\n",
    "    for wav_file in tqdm(os.listdir(test_path)):\n",
    "        wav_path = os.path.join(test_path, wav_file)\n",
    "        wav, sr = lb.load(wav_path, sr=SR)\n",
    "        wav = crop_or_pad(wav, 1*SR)\n",
    "        melspec = get_melspec(wav, sr)\n",
    "        x.append(melspec)\n",
    "        keys.append(wav_file)\n",
    "    x = np.r_[x]\n",
    "    return x, keys"
   ]
  },
  {
   "cell_type": "code",
   "execution_count": 7,
   "metadata": {
    "ExecuteTime": {
     "end_time": "2020-12-05T09:46:02.272271Z",
     "start_time": "2020-12-05T07:24:49.581224Z"
    }
   },
   "outputs": [
    {
     "name": "stderr",
     "output_type": "stream",
     "text": [
      "100%|██████████████████████████████████████████████████████████████████████████████| 1537/1537 [01:18<00:00, 19.52it/s]\n",
      "100%|██████████████████████████████████████████████████████████████████████████████| 1573/1573 [01:23<00:00, 18.80it/s]\n",
      "100%|██████████████████████████████████████████████████████████████████████████████| 1567/1567 [01:28<00:00, 17.77it/s]\n",
      "100%|██████████████████████████████████████████████████████████████████████████████| 1566/1566 [01:32<00:00, 16.88it/s]\n",
      "100%|██████████████████████████████████████████████████████████████████████████████| 2106/2106 [02:11<00:00, 16.02it/s]\n",
      "100%|██████████████████████████████████████████████████████████████████████████████| 2095/2095 [02:19<00:00, 15.04it/s]\n",
      "100%|██████████████████████████████████████████████████████████████████████████████| 2086/2086 [02:25<00:00, 14.31it/s]\n",
      "100%|██████████████████████████████████████████████████████████████████████████████| 2119/2119 [02:33<00:00, 13.77it/s]\n",
      "100%|██████████████████████████████████████████████████████████████████████████████| 2121/2121 [02:46<00:00, 12.74it/s]\n",
      "100%|██████████████████████████████████████████████████████████████████████████████| 1562/1562 [02:09<00:00, 12.03it/s]\n",
      "100%|██████████████████████████████████████████████████████████████████████████████| 1600/1600 [02:18<00:00, 11.59it/s]\n",
      "100%|██████████████████████████████████████████████████████████████████████████████| 2086/2086 [03:09<00:00, 10.98it/s]\n",
      "100%|██████████████████████████████████████████████████████████████████████████████| 1584/1584 [02:30<00:00, 10.50it/s]\n",
      "100%|██████████████████████████████████████████████████████████████████████████████| 2105/2105 [03:38<00:00,  9.65it/s]\n",
      "100%|██████████████████████████████████████████████████████████████████████████████| 2123/2123 [04:08<00:00,  8.54it/s]\n",
      "100%|██████████████████████████████████████████████████████████████████████████████| 2095/2095 [04:20<00:00,  8.03it/s]\n",
      "100%|██████████████████████████████████████████████████████████████████████████████| 2121/2121 [04:45<00:00,  7.42it/s]\n",
      "100%|██████████████████████████████████████████████████████████████████████████████| 2122/2122 [05:03<00:00,  6.99it/s]\n",
      "100%|██████████████████████████████████████████████████████████████████████████████| 2108/2108 [05:19<00:00,  6.60it/s]\n",
      "100%|██████████████████████████████████████████████████████████████████████████████| 2138/2138 [05:40<00:00,  6.28it/s]\n",
      "100%|██████████████████████████████████████████████████████████████████████████████| 1548/1548 [04:19<00:00,  5.96it/s]\n",
      "100%|██████████████████████████████████████████████████████████████████████████████| 2125/2125 [06:03<00:00,  5.84it/s]\n",
      "100%|██████████████████████████████████████████████████████████████████████████████| 2131/2131 [07:09<00:00,  4.96it/s]\n",
      "100%|██████████████████████████████████████████████████████████████████████████████| 2089/2089 [08:07<00:00,  4.29it/s]\n",
      "100%|██████████████████████████████████████████████████████████████████████████████| 1540/1540 [06:41<00:00,  3.83it/s]\n",
      "100%|██████████████████████████████████████████████████████████████████████████████| 2109/2109 [08:57<00:00,  3.92it/s]\n",
      "100%|██████████████████████████████████████████████████████████████████████████████| 2103/2103 [08:33<00:00,  4.09it/s]\n",
      "100%|██████████████████████████████████████████████████████████████████████████████| 1580/1580 [07:21<00:00,  3.58it/s]\n",
      "100%|██████████████████████████████████████████████████████████████████████████████| 2121/2121 [10:02<00:00,  3.52it/s]\n",
      "100%|██████████████████████████████████████████████████████████████████████████████| 2126/2126 [11:55<00:00,  2.97it/s]\n"
     ]
    }
   ],
   "source": [
    "X_train, y_train = preprocess_train(train_path)"
   ]
  },
  {
   "cell_type": "code",
   "execution_count": 8,
   "metadata": {
    "ExecuteTime": {
     "end_time": "2020-12-05T09:52:19.776499Z",
     "start_time": "2020-12-05T09:46:02.273284Z"
    }
   },
   "outputs": [
    {
     "name": "stderr",
     "output_type": "stream",
     "text": [
      "100%|██████████████████████████████████████████████████████████████████████████████| 6835/6835 [06:16<00:00, 18.16it/s]\n"
     ]
    }
   ],
   "source": [
    "X_test, test_names = preprocess_test(test_path)"
   ]
  },
  {
   "cell_type": "code",
   "execution_count": 9,
   "metadata": {
    "ExecuteTime": {
     "end_time": "2020-12-05T09:52:26.993203Z",
     "start_time": "2020-12-05T09:52:19.777465Z"
    }
   },
   "outputs": [],
   "source": [
    "np.savez(os.path.join(feat_path, 'image_128_256'), X=np.concatenate([X_train, X_test], axis=0), y=y_train, test_names=test_names)"
   ]
  },
  {
   "cell_type": "code",
   "execution_count": null,
   "metadata": {},
   "outputs": [],
   "source": []
  }
 ],
 "metadata": {
  "kernelspec": {
   "display_name": "Python 3",
   "language": "python",
   "name": "python3"
  },
  "language_info": {
   "codemirror_mode": {
    "name": "ipython",
    "version": 3
   },
   "file_extension": ".py",
   "mimetype": "text/x-python",
   "name": "python",
   "nbconvert_exporter": "python",
   "pygments_lexer": "ipython3",
   "version": "3.7.4"
  }
 },
 "nbformat": 4,
 "nbformat_minor": 2
}
