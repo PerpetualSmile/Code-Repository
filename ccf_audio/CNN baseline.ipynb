{
 "cells": [
  {
   "cell_type": "code",
   "execution_count": 1,
   "metadata": {
    "ExecuteTime": {
     "end_time": "2020-12-04T15:43:12.650964Z",
     "start_time": "2020-12-04T15:43:11.466805Z"
    }
   },
   "outputs": [],
   "source": [
    "import numpy as np\n",
    "import librosa as lb\n",
    "import pandas as pd\n",
    "import random\n",
    "import heapq\n",
    "import time\n",
    "\n",
    "from tqdm import tqdm\n",
    "from sklearn.utils import shuffle\n",
    "from sklearn.model_selection import KFold,StratifiedKFold\n",
    "import os\n",
    "import gc\n",
    "import warnings\n",
    "warnings.filterwarnings('ignore')"
   ]
  },
  {
   "cell_type": "code",
   "execution_count": 2,
   "metadata": {
    "ExecuteTime": {
     "end_time": "2020-12-04T15:43:13.191241Z",
     "start_time": "2020-12-04T15:43:12.840546Z"
    }
   },
   "outputs": [
    {
     "data": {
      "text/plain": [
       "'1.6.0'"
      ]
     },
     "execution_count": 2,
     "metadata": {},
     "output_type": "execute_result"
    }
   ],
   "source": [
    "import torch\n",
    "import torch.nn as nn\n",
    "import torch.nn.functional as F\n",
    "from torch.utils.data import DataLoader, Dataset, SequentialSampler\n",
    "from torch.utils.tensorboard import SummaryWriter\n",
    "os.environ['CUDA_VISIBLE_DEVICES'] = '0'\n",
    "torch.__version__"
   ]
  },
  {
   "cell_type": "code",
   "execution_count": 3,
   "metadata": {
    "ExecuteTime": {
     "end_time": "2020-12-04T15:43:13.759178Z",
     "start_time": "2020-12-04T15:43:13.744288Z"
    }
   },
   "outputs": [],
   "source": [
    "def setup_seed(seed):\n",
    "    torch.manual_seed(seed)\n",
    "    torch.cuda.manual_seed(seed)\n",
    "    torch.cuda.manual_seed_all(seed)\n",
    "    os.environ['PYTHONHASHSEED'] = str(seed)\n",
    "    np.random.seed(seed)\n",
    "    random.seed(seed)\n",
    "    torch.backends.cudnn.deterministic = True\n",
    "    \n",
    "GLOBAL_SEED = 2020\n",
    "setup_seed(GLOBAL_SEED)"
   ]
  },
  {
   "cell_type": "code",
   "execution_count": 4,
   "metadata": {
    "ExecuteTime": {
     "end_time": "2020-12-04T15:43:14.375004Z",
     "start_time": "2020-12-04T15:43:14.368023Z"
    }
   },
   "outputs": [],
   "source": [
    "train_path = './data/train'\n",
    "test_path = './data/test'\n",
    "feat_path = './features'\n",
    "res_path = './res'\n",
    "model_save = './model_save'\n",
    "tensorboard_path = './tb_run'\n",
    "if not os.path.exists(model_save):\n",
    "    os.makedirs(model_save)\n",
    "if not os.path.exists(res_path):\n",
    "    os.makedirs(res_path)\n",
    "if not os.path.exists(tensorboard_path):\n",
    "    os.makedirs(tensorboard_path)"
   ]
  },
  {
   "cell_type": "markdown",
   "metadata": {},
   "source": [
    "## 读取提取好的特征数据"
   ]
  },
  {
   "cell_type": "code",
   "execution_count": 10,
   "metadata": {
    "ExecuteTime": {
     "end_time": "2020-12-04T15:44:35.921499Z",
     "start_time": "2020-12-04T15:44:35.904568Z"
    }
   },
   "outputs": [],
   "source": [
    "melspec = np.load(os.path.join(feat_path, 'melspec_256.npz'))\n",
    "basic_feature = np.load(os.path.join(feat_path, 'basic_feature.npz'))"
   ]
  },
  {
   "cell_type": "code",
   "execution_count": 11,
   "metadata": {
    "ExecuteTime": {
     "end_time": "2020-12-04T15:44:39.420498Z",
     "start_time": "2020-12-04T15:44:36.231978Z"
    }
   },
   "outputs": [],
   "source": [
    "X = np.concatenate([melspec['X'], basic_feature['X']], axis=-1)\n",
    "X_train = X[:57886] \n",
    "X_test = X[57886:]\n",
    "y_train = melspec['y']\n",
    "test_names = melspec['test_names']\n",
    "labels = os.listdir(train_path)"
   ]
  },
  {
   "cell_type": "code",
   "execution_count": 12,
   "metadata": {
    "ExecuteTime": {
     "end_time": "2020-12-04T15:44:39.436559Z",
     "start_time": "2020-12-04T15:44:39.421519Z"
    }
   },
   "outputs": [],
   "source": [
    "X_train = X_train[:, np.newaxis, :, :]\n",
    "X_test = X_test[:, np.newaxis, :, :]"
   ]
  },
  {
   "cell_type": "code",
   "execution_count": 13,
   "metadata": {
    "ExecuteTime": {
     "end_time": "2020-12-04T15:44:40.301530Z",
     "start_time": "2020-12-04T15:44:40.247613Z"
    }
   },
   "outputs": [
    {
     "data": {
      "text/plain": [
       "158"
      ]
     },
     "execution_count": 13,
     "metadata": {},
     "output_type": "execute_result"
    }
   ],
   "source": [
    "del melspec, basic_feature\n",
    "gc.collect()"
   ]
  },
  {
   "cell_type": "markdown",
   "metadata": {},
   "source": [
    "## 准备数据集"
   ]
  },
  {
   "cell_type": "code",
   "execution_count": 9,
   "metadata": {
    "ExecuteTime": {
     "end_time": "2020-12-04T13:51:32.612243Z",
     "start_time": "2020-12-04T13:51:32.597614Z"
    }
   },
   "outputs": [],
   "source": [
    "class CustomDataset(Dataset):\n",
    "    def __init__(self, X, y):\n",
    "        self.X = X\n",
    "        self.y = y\n",
    "    \n",
    "    def __len__(self):\n",
    "        return len(self.X)\n",
    "    \n",
    "    def __getitem__(self, idx):\n",
    "        return self.X[idx], self.y[idx]"
   ]
  },
  {
   "cell_type": "code",
   "execution_count": 10,
   "metadata": {
    "ExecuteTime": {
     "end_time": "2020-12-04T13:51:34.452602Z",
     "start_time": "2020-12-04T13:51:32.613135Z"
    }
   },
   "outputs": [],
   "source": [
    "BATCH_SIZE_TRAIN = 128\n",
    "BATCH_SIZE_VAL = 128\n",
    "BATCH_SIZE_TEST = 128\n",
    "kf = StratifiedKFold(n_splits=5, shuffle=True, random_state=GLOBAL_SEED)\n",
    "data_folds = []\n",
    "valid_indexs = []    \n",
    "\n",
    "\n",
    "test_dataset = CustomDataset(X_test, np.random.rand(X_test.shape[0], 1))\n",
    "test_dataloader = DataLoader(test_dataset, batch_size=BATCH_SIZE_TEST, sampler=SequentialSampler(test_dataset), shuffle=False, num_workers=0)\n",
    "\n",
    "for idx, (train_index, valid_index) in enumerate(kf.split(X=X_train, y=y_train)):\n",
    "    valid_indexs.append(valid_index)\n",
    "    \n",
    "    train_dataset = CustomDataset(X_train[train_index], y_train[train_index])\n",
    "    val_dataset = CustomDataset(X_train[valid_index], y_train[valid_index])\n",
    "\n",
    "    train_dataloader = DataLoader(train_dataset, batch_size=BATCH_SIZE_TRAIN, shuffle=True, num_workers=0)\n",
    "    valid_dataloader = DataLoader(val_dataset, batch_size=BATCH_SIZE_VAL, sampler=SequentialSampler(val_dataset), shuffle=False, num_workers=0)\n",
    "    data_folds.append((train_dataloader, valid_dataloader, test_dataloader))"
   ]
  },
  {
   "cell_type": "markdown",
   "metadata": {},
   "source": [
    "## 搭建模型"
   ]
  },
  {
   "cell_type": "code",
   "execution_count": 11,
   "metadata": {
    "ExecuteTime": {
     "end_time": "2020-12-04T13:51:34.468682Z",
     "start_time": "2020-12-04T13:51:34.452602Z"
    }
   },
   "outputs": [],
   "source": [
    "class CNNBase(nn.Module):\n",
    "    def __init__(self):\n",
    "        super().__init__()\n",
    "        self.main = nn.Sequential(\n",
    "            nn.Conv2d(1, 64, kernel_size=(3, 9), stride=(1, 1), padding=(1, 1)),\n",
    "            nn.ReLU(inplace=True),\n",
    "            nn.MaxPool2d(kernel_size=2, stride=2, padding=0, dilation=1, ceil_mode=False),\n",
    "            nn.Conv2d(64, 64, kernel_size=(3, 9), stride=(1, 1), padding=(1, 1)),\n",
    "            nn.ReLU(inplace=True),\n",
    "            nn.MaxPool2d(kernel_size=2, stride=2, padding=0, dilation=1, ceil_mode=False),\n",
    "            nn.Conv2d(64, 128, kernel_size=(3, 9), stride=(1, 1), padding=(1, 1)),\n",
    "            nn.ReLU(inplace=True),\n",
    "            nn.Conv2d(128, 128, kernel_size=(3, 9), stride=(1, 1), padding=(1, 1)),\n",
    "            nn.MaxPool2d(kernel_size=2, stride=2, padding=0, dilation=1, ceil_mode=False),\n",
    "            nn.ReLU(inplace=True),\n",
    "            nn.MaxPool2d(kernel_size=2, stride=2, padding=0, dilation=1, ceil_mode=False),\n",
    "            nn.Flatten(),\n",
    "            nn.Linear(4096, 2048),\n",
    "            nn.ReLU(inplace=True),\n",
    "            nn.Dropout(p=0.2),\n",
    "            nn.Linear(2048, 1024),\n",
    "            nn.ReLU(inplace=True),\n",
    "            nn.Linear(1024, 30)\n",
    "        )\n",
    "        \n",
    "    def forward(self, X):\n",
    "        return self.main(X)"
   ]
  },
  {
   "cell_type": "code",
   "execution_count": 12,
   "metadata": {
    "ExecuteTime": {
     "end_time": "2020-12-04T13:51:34.484641Z",
     "start_time": "2020-12-04T13:51:34.469650Z"
    }
   },
   "outputs": [],
   "source": [
    "def validate(model, val_dataloader, criterion, history, n_iters):\n",
    "    model.eval()\n",
    "    costs = []\n",
    "    accs = []\n",
    "    with torch.no_grad():\n",
    "        for idx, batch in enumerate(val_dataloader):\n",
    "            X, y = batch\n",
    "            X, y = X.cuda(), y.cuda().long()\n",
    "            y_output = model(X)    \n",
    "            loss = criterion(y_output, y)\n",
    "            costs.append(loss.item())\n",
    "            _, y_preds = torch.max(y_output, 1)\n",
    "            accs.append((y_preds == y).float().mean().item())\n",
    "    mean_accs = np.mean(accs)\n",
    "    mean_costs = np.mean(costs)\n",
    "    writer.add_scalar('age/validate_accuracy', mean_accs, n_iters)\n",
    "    writer.add_scalar('age/validate_loss', mean_costs, n_iters)\n",
    "    if mean_accs > history['best_model'][0][0]:  \n",
    "        heapq.heapify(history['best_model'])\n",
    "        checkpoint_pth = history['best_model'][0][1]\n",
    "        heapq.heappushpop(history['best_model'], (mean_accs, checkpoint_pth))\n",
    "        torch.save(model.state_dict(), checkpoint_pth)\n",
    "    return mean_costs, mean_accs\n",
    "\n",
    "\n",
    "def train(model, train_dataloader, val_dataloader, criterion, optimizer, epoch, history, validate_points, scheduler, step=True):\n",
    "    model.train()\n",
    "    costs = []\n",
    "    accs = []\n",
    "    val_loss, val_acc = 0, 0\n",
    "    with tqdm(total=len(train_dataloader.dataset), desc='Epoch{}'.format(epoch)) as pbar:\n",
    "        for idx, batch in enumerate(train_dataloader):\n",
    "            X, y = batch\n",
    "            X, y = X.cuda(), y.cuda().long()\n",
    "            y_output = model(X)    \n",
    "            loss = criterion(y_output, y)\n",
    "            \n",
    "            optimizer.zero_grad()\n",
    "            loss.backward()\n",
    "            optimizer.step()\n",
    "            if step:\n",
    "                scheduler.step()\n",
    "            with torch.no_grad():\n",
    "                costs.append(loss.item())\n",
    "                _, y_preds = torch.max(y_output, 1)\n",
    "                accs.append((y_preds == y).float().mean().item())\n",
    "                pbar.update(y.size(0))\n",
    "            n_iters = idx + len(train_dataloader) * (epoch-1)\n",
    "            if idx in validate_points:\n",
    "                val_loss, val_acc = validate(model, val_dataloader, criterion, history, n_iters)\n",
    "                model.train()\n",
    "            \n",
    "            writer.add_scalar('age/train_accuracy', accs[-1], n_iters)\n",
    "            writer.add_scalar('age/train_loss', costs[-1], n_iters)\n",
    "            writer.add_scalar('age/learning_rate', scheduler.get_lr()[0], n_iters)\n",
    "            pbar.set_postfix_str('loss:{:.4f}, acc:{:.4f}, val-loss:{:.4f}, val-acc:{:.4f}'.format(np.mean(costs[-10:]), np.mean(accs[-10:]), val_loss, val_acc))\n",
    "            torch.cuda.empty_cache()\n",
    "\n",
    "    \n",
    "def test(oof_train_test, model, test_dataloader, val_dataloader, valid_index, weight=1):\n",
    "    model.eval()\n",
    "    y_preds = []\n",
    "    y_preds_val = []\n",
    "    with torch.no_grad():\n",
    "        for idx, batch in enumerate(test_dataloader):\n",
    "            X, _ = batch\n",
    "            X= X.cuda()\n",
    "            y_output = model(X)    \n",
    "            y_preds.append(y_output.cpu())\n",
    "            \n",
    "        for idx, batch in enumerate(val_dataloader):\n",
    "            X, y = batch\n",
    "            X = X.cuda()\n",
    "            y_output = model(X)\n",
    "            y_preds_val.append(y_output.cpu())\n",
    "    \n",
    "    oof_train_test[valid_index] += F.softmax(torch.cat(y_preds_val)).numpy() * weight\n",
    "    oof_train_test[57886:] += F.softmax(torch.cat(y_preds)).numpy() * weight"
   ]
  },
  {
   "cell_type": "code",
   "execution_count": 13,
   "metadata": {
    "ExecuteTime": {
     "end_time": "2020-12-04T14:43:59.282141Z",
     "start_time": "2020-12-04T13:51:35.006232Z"
    }
   },
   "outputs": [
    {
     "name": "stderr",
     "output_type": "stream",
     "text": [
      "Epoch1: 100%|████████| 46296/46296 [00:43<00:00, 1070.90it/s, loss:0.9068, acc:0.7247, val-loss:0.8721, val-acc:0.7365]\n",
      "Epoch2: 100%|████████| 46296/46296 [00:41<00:00, 1122.20it/s, loss:0.5202, acc:0.8571, val-loss:0.4802, val-acc:0.8543]\n",
      "Epoch3: 100%|████████| 46296/46296 [00:41<00:00, 1108.57it/s, loss:0.4154, acc:0.8798, val-loss:0.3842, val-acc:0.8855]\n",
      "Epoch4: 100%|████████| 46296/46296 [00:41<00:00, 1105.73it/s, loss:0.3278, acc:0.8871, val-loss:0.3514, val-acc:0.8925]\n",
      "Epoch5: 100%|████████| 46296/46296 [00:42<00:00, 1079.02it/s, loss:0.3143, acc:0.9104, val-loss:0.3340, val-acc:0.9003]\n",
      "Epoch6: 100%|████████| 46296/46296 [00:42<00:00, 1095.12it/s, loss:0.2498, acc:0.9232, val-loss:0.3432, val-acc:0.8991]\n",
      "Epoch7: 100%|████████| 46296/46296 [00:41<00:00, 1124.13it/s, loss:0.2298, acc:0.9339, val-loss:0.3151, val-acc:0.9097]\n",
      "Epoch8: 100%|████████| 46296/46296 [00:41<00:00, 1124.06it/s, loss:0.1781, acc:0.9470, val-loss:0.3232, val-acc:0.9078]\n",
      "Epoch9: 100%|████████| 46296/46296 [00:41<00:00, 1111.30it/s, loss:0.2114, acc:0.9350, val-loss:0.3187, val-acc:0.9105]\n",
      "Epoch10: 100%|███████| 46296/46296 [00:42<00:00, 1082.95it/s, loss:0.2081, acc:0.9381, val-loss:0.3295, val-acc:0.9075]\n",
      "Epoch11: 100%|███████| 46296/46296 [00:41<00:00, 1125.05it/s, loss:0.1689, acc:0.9472, val-loss:0.3182, val-acc:0.9153]\n",
      "Epoch12: 100%|███████| 46296/46296 [00:41<00:00, 1124.28it/s, loss:0.1473, acc:0.9555, val-loss:0.3371, val-acc:0.9110]\n",
      "Epoch13: 100%|███████| 46296/46296 [00:41<00:00, 1108.69it/s, loss:0.1854, acc:0.9462, val-loss:0.3532, val-acc:0.9111]\n",
      "Epoch14: 100%|███████| 46296/46296 [00:42<00:00, 1102.28it/s, loss:0.1342, acc:0.9567, val-loss:0.3563, val-acc:0.9128]\n",
      "Epoch15: 100%|███████| 46296/46296 [00:43<00:00, 1074.75it/s, loss:0.1303, acc:0.9642, val-loss:0.3644, val-acc:0.9119]\n",
      "Epoch1: 100%|████████| 46305/46305 [00:41<00:00, 1117.82it/s, loss:0.9559, acc:0.7134, val-loss:0.8624, val-acc:0.7397]\n",
      "Epoch2: 100%|████████| 46305/46305 [00:41<00:00, 1129.32it/s, loss:0.5070, acc:0.8454, val-loss:0.4839, val-acc:0.8518]\n",
      "Epoch3: 100%|████████| 46305/46305 [00:40<00:00, 1131.01it/s, loss:0.3924, acc:0.8796, val-loss:0.3845, val-acc:0.8867]\n",
      "Epoch4: 100%|████████| 46305/46305 [00:40<00:00, 1131.97it/s, loss:0.3332, acc:0.8946, val-loss:0.3543, val-acc:0.8945]\n",
      "Epoch5: 100%|████████| 46305/46305 [00:40<00:00, 1132.83it/s, loss:0.3085, acc:0.9123, val-loss:0.3265, val-acc:0.9020]\n",
      "Epoch6: 100%|████████| 46305/46305 [00:41<00:00, 1128.20it/s, loss:0.2436, acc:0.9170, val-loss:0.3101, val-acc:0.9104]\n",
      "Epoch7: 100%|████████| 46305/46305 [00:40<00:00, 1133.40it/s, loss:0.2287, acc:0.9328, val-loss:0.3010, val-acc:0.9093]\n",
      "Epoch8: 100%|████████| 46305/46305 [00:40<00:00, 1134.97it/s, loss:0.2406, acc:0.9308, val-loss:0.2990, val-acc:0.9117]\n",
      "Epoch9: 100%|████████| 46305/46305 [00:40<00:00, 1135.94it/s, loss:0.1963, acc:0.9352, val-loss:0.3085, val-acc:0.9112]\n",
      "Epoch10: 100%|███████| 46305/46305 [00:41<00:00, 1119.05it/s, loss:0.2036, acc:0.9373, val-loss:0.3144, val-acc:0.9105]\n",
      "Epoch11: 100%|███████| 46305/46305 [00:41<00:00, 1106.21it/s, loss:0.1732, acc:0.9454, val-loss:0.3220, val-acc:0.9132]\n",
      "Epoch12: 100%|███████| 46305/46305 [00:40<00:00, 1134.10it/s, loss:0.1452, acc:0.9586, val-loss:0.3130, val-acc:0.9164]\n",
      "Epoch13: 100%|███████| 46305/46305 [00:40<00:00, 1131.99it/s, loss:0.1577, acc:0.9561, val-loss:0.3221, val-acc:0.9150]\n",
      "Epoch14: 100%|███████| 46305/46305 [00:40<00:00, 1132.70it/s, loss:0.1501, acc:0.9514, val-loss:0.3344, val-acc:0.9141]\n",
      "Epoch15: 100%|███████| 46305/46305 [00:40<00:00, 1132.67it/s, loss:0.1468, acc:0.9480, val-loss:0.3437, val-acc:0.9152]\n",
      "Epoch1: 100%|████████| 46309/46309 [00:41<00:00, 1111.26it/s, loss:0.9283, acc:0.7139, val-loss:0.9373, val-acc:0.7133]\n",
      "Epoch2: 100%|████████| 46309/46309 [00:41<00:00, 1111.14it/s, loss:0.5279, acc:0.8360, val-loss:0.5209, val-acc:0.8438]\n",
      "Epoch3: 100%|████████| 46309/46309 [00:41<00:00, 1114.26it/s, loss:0.4031, acc:0.8815, val-loss:0.4112, val-acc:0.8742]\n",
      "Epoch4: 100%|████████| 46309/46309 [00:41<00:00, 1117.79it/s, loss:0.3189, acc:0.9115, val-loss:0.3824, val-acc:0.8848]\n",
      "Epoch5: 100%|████████| 46309/46309 [00:41<00:00, 1123.15it/s, loss:0.2434, acc:0.9219, val-loss:0.3628, val-acc:0.8964]\n",
      "Epoch6: 100%|████████| 46309/46309 [00:41<00:00, 1122.66it/s, loss:0.2670, acc:0.9147, val-loss:0.3375, val-acc:0.9026]\n",
      "Epoch7: 100%|████████| 46309/46309 [00:41<00:00, 1124.04it/s, loss:0.2559, acc:0.9191, val-loss:0.3370, val-acc:0.9035]\n",
      "Epoch8: 100%|████████| 46309/46309 [00:41<00:00, 1124.08it/s, loss:0.1832, acc:0.9424, val-loss:0.3281, val-acc:0.9083]\n",
      "Epoch9: 100%|████████| 46309/46309 [00:43<00:00, 1066.76it/s, loss:0.1832, acc:0.9412, val-loss:0.3350, val-acc:0.9076]\n",
      "Epoch10: 100%|███████| 46309/46309 [00:41<00:00, 1123.98it/s, loss:0.1637, acc:0.9468, val-loss:0.3604, val-acc:0.9035]\n",
      "Epoch11: 100%|███████| 46309/46309 [00:41<00:00, 1120.90it/s, loss:0.1595, acc:0.9480, val-loss:0.3406, val-acc:0.9101]\n",
      "Epoch12: 100%|███████| 46309/46309 [00:41<00:00, 1122.45it/s, loss:0.1390, acc:0.9570, val-loss:0.3537, val-acc:0.9090]\n",
      "Epoch13: 100%|███████| 46309/46309 [00:41<00:00, 1120.06it/s, loss:0.1013, acc:0.9613, val-loss:0.3612, val-acc:0.9096]\n",
      "Epoch14: 100%|███████| 46309/46309 [00:41<00:00, 1126.05it/s, loss:0.1533, acc:0.9509, val-loss:0.3573, val-acc:0.9076]\n",
      "Epoch15: 100%|███████| 46309/46309 [00:41<00:00, 1123.11it/s, loss:0.1464, acc:0.9495, val-loss:0.3686, val-acc:0.9138]\n",
      "Epoch1: 100%|████████| 46315/46315 [00:42<00:00, 1089.16it/s, loss:0.8735, acc:0.7385, val-loss:0.8272, val-acc:0.7504]\n",
      "Epoch2: 100%|████████| 46315/46315 [00:41<00:00, 1125.44it/s, loss:0.4906, acc:0.8543, val-loss:0.4676, val-acc:0.8610]\n",
      "Epoch3: 100%|████████| 46315/46315 [00:41<00:00, 1123.67it/s, loss:0.3573, acc:0.8760, val-loss:0.3928, val-acc:0.8832]\n",
      "Epoch4: 100%|████████| 46315/46315 [00:41<00:00, 1127.90it/s, loss:0.2704, acc:0.9156, val-loss:0.3467, val-acc:0.8964]\n",
      "Epoch5: 100%|████████| 46315/46315 [00:41<00:00, 1128.78it/s, loss:0.2875, acc:0.9074, val-loss:0.3267, val-acc:0.9040]\n",
      "Epoch6: 100%|████████| 46315/46315 [00:41<00:00, 1129.23it/s, loss:0.2089, acc:0.9386, val-loss:0.3260, val-acc:0.9041]\n",
      "Epoch7: 100%|████████| 46315/46315 [00:41<00:00, 1128.99it/s, loss:0.2101, acc:0.9361, val-loss:0.3196, val-acc:0.9079]\n",
      "Epoch8: 100%|████████| 46315/46315 [00:40<00:00, 1131.08it/s, loss:0.1749, acc:0.9427, val-loss:0.3144, val-acc:0.9113]\n",
      "Epoch9: 100%|████████| 46315/46315 [00:40<00:00, 1130.99it/s, loss:0.1585, acc:0.9483, val-loss:0.3302, val-acc:0.9108]\n",
      "Epoch10: 100%|███████| 46315/46315 [00:40<00:00, 1133.41it/s, loss:0.1480, acc:0.9514, val-loss:0.3297, val-acc:0.9114]\n",
      "Epoch11: 100%|███████| 46315/46315 [00:40<00:00, 1133.15it/s, loss:0.1390, acc:0.9592, val-loss:0.3352, val-acc:0.9155]\n",
      "Epoch12: 100%|███████| 46315/46315 [00:40<00:00, 1132.29it/s, loss:0.1841, acc:0.9424, val-loss:0.3435, val-acc:0.9122]\n",
      "Epoch13: 100%|███████| 46315/46315 [00:40<00:00, 1133.68it/s, loss:0.1282, acc:0.9498, val-loss:0.3575, val-acc:0.9132]\n",
      "Epoch14: 100%|███████| 46315/46315 [00:40<00:00, 1135.80it/s, loss:0.1584, acc:0.9534, val-loss:0.3570, val-acc:0.9117]\n",
      "Epoch15: 100%|███████| 46315/46315 [00:40<00:00, 1133.34it/s, loss:0.1317, acc:0.9586, val-loss:0.3586, val-acc:0.9147]\n",
      "Epoch1: 100%|████████| 46319/46319 [00:42<00:00, 1095.18it/s, loss:0.8823, acc:0.7360, val-loss:0.8758, val-acc:0.7319]\n",
      "Epoch2: 100%|████████| 46319/46319 [00:41<00:00, 1129.27it/s, loss:0.5394, acc:0.8413, val-loss:0.4813, val-acc:0.8553]\n",
      "Epoch3: 100%|████████| 46319/46319 [00:41<00:00, 1128.63it/s, loss:0.3886, acc:0.8795, val-loss:0.4030, val-acc:0.8784]\n",
      "Epoch4: 100%|████████| 46319/46319 [00:41<00:00, 1129.45it/s, loss:0.2993, acc:0.9150, val-loss:0.3624, val-acc:0.8912]\n",
      "Epoch5: 100%|████████| 46319/46319 [00:40<00:00, 1132.20it/s, loss:0.3032, acc:0.9069, val-loss:0.3386, val-acc:0.9001]\n",
      "Epoch6: 100%|████████| 46319/46319 [00:40<00:00, 1133.13it/s, loss:0.2389, acc:0.9194, val-loss:0.3258, val-acc:0.9045]\n",
      "Epoch7: 100%|████████| 46319/46319 [00:40<00:00, 1133.53it/s, loss:0.2762, acc:0.9216, val-loss:0.3181, val-acc:0.9082]\n",
      "Epoch8: 100%|████████| 46319/46319 [00:40<00:00, 1134.94it/s, loss:0.2381, acc:0.9252, val-loss:0.3261, val-acc:0.9093]\n",
      "Epoch9: 100%|████████| 46319/46319 [00:40<00:00, 1138.03it/s, loss:0.2386, acc:0.9337, val-loss:0.3256, val-acc:0.9107]\n",
      "Epoch10: 100%|███████| 46319/46319 [00:40<00:00, 1137.79it/s, loss:0.1711, acc:0.9501, val-loss:0.3176, val-acc:0.9110]\n",
      "Epoch11: 100%|███████| 46319/46319 [00:40<00:00, 1138.05it/s, loss:0.1639, acc:0.9482, val-loss:0.3362, val-acc:0.9139]\n",
      "Epoch12: 100%|███████| 46319/46319 [00:40<00:00, 1137.97it/s, loss:0.1399, acc:0.9545, val-loss:0.3173, val-acc:0.9157]\n",
      "Epoch13: 100%|███████| 46319/46319 [00:40<00:00, 1138.28it/s, loss:0.1526, acc:0.9564, val-loss:0.3512, val-acc:0.9143]\n",
      "Epoch14: 100%|███████| 46319/46319 [00:40<00:00, 1137.58it/s, loss:0.1369, acc:0.9528, val-loss:0.3388, val-acc:0.9151]\n",
      "Epoch15: 100%|███████| 46319/46319 [00:40<00:00, 1140.50it/s, loss:0.1396, acc:0.9551, val-loss:0.3438, val-acc:0.9137]\n"
     ]
    }
   ],
   "source": [
    "def criterion(y_output, y_true):\n",
    "    loss = nn.CrossEntropyLoss()(y_output, y_true)\n",
    "    return loss\n",
    "\n",
    "res_folds = []\n",
    "acc_folds = []\n",
    "model_name = 'cnn_base'\n",
    "best_checkpoint_num = 3\n",
    "for idx, (train_dataloader, val_dataloader, test_dataloader) in enumerate(data_folds):\n",
    "    oof_train_test = np.zeros((X_train.shape[0] + X_test.shape[0], 30))\n",
    "    history = {'best_model': []}\n",
    "    for i in range(best_checkpoint_num):\n",
    "        history['best_model'].append((0, os.path.join(model_save, '{}_checkpoint_fold_{}_{}.pth'.format(model_name, idx, i))))\n",
    "    validate_points = list(np.linspace(0, len(train_dataloader)-1, 3).astype(int))[1:]\n",
    "    \n",
    "    model = CNNBase()  \n",
    "\n",
    "    model = model.cuda()\n",
    "    optimizer = torch.optim.Adam(model.parameters(), betas=(0.9, 0.999), lr=1e-3)\n",
    "    epochs = 15\n",
    "#     scheduler = None\n",
    "#     scheduler = torch.optim.lr_scheduler.StepLR(optimizer, step_size=1, gamma=1)\n",
    "    scheduler = torch.optim.lr_scheduler.CyclicLR(optimizer, base_lr=1e-5, max_lr=2e-3, step_size_up=int(len(train_dataloader)/2), cycle_momentum=False, mode='triangular')\n",
    "#     scheduler = torch.optim.lr_scheduler.OneCycleLR(optimizer, max_lr=3e-3, epochs=epochs, steps_per_epoch=len(train_dataloader), pct_start=0.2, anneal_strategy='linear', div_factor=30, final_div_factor=1e4)\n",
    "    for epoch in range(1, epochs+1):\n",
    "        writer = SummaryWriter(log_dir=os.path.join(tensorboard_path, '{}_fold_{}'.format(model_name, idx)))\n",
    "        train(model, train_dataloader, val_dataloader, criterion, optimizer, epoch, history, validate_points, scheduler, step=True)\n",
    "#         scheduler.step()\n",
    "        gc.collect()\n",
    "    for (acc, checkpoint_pth), weight in zip(sorted(history['best_model'], reverse=True), [0.5, 0.3, 0.2]):\n",
    "        model.load_state_dict(torch.load(checkpoint_pth, map_location=torch.device('cpu')), strict=True)\n",
    "        test(oof_train_test, model, test_dataloader, val_dataloader, valid_indexs[idx], weight=weight)\n",
    "    acc_folds.append(sorted(history['best_model'], reverse=True)[0][0])\n",
    "    res_folds.append(oof_train_test)\n",
    "    np.save(os.path.join(res_path, \"{}_fold_{}.npy\".format(model_name, idx)), oof_train_test)\n",
    "    del model, history\n",
    "    gc.collect()\n",
    "    torch.cuda.empty_cache()"
   ]
  },
  {
   "cell_type": "code",
   "execution_count": 14,
   "metadata": {
    "ExecuteTime": {
     "end_time": "2020-12-04T14:49:15.395498Z",
     "start_time": "2020-12-04T14:49:15.377523Z"
    }
   },
   "outputs": [
    {
     "data": {
      "text/plain": [
       "[array([[0.00000000e+00, 0.00000000e+00, 0.00000000e+00, ...,\n",
       "         0.00000000e+00, 0.00000000e+00, 0.00000000e+00],\n",
       "        [0.00000000e+00, 0.00000000e+00, 0.00000000e+00, ...,\n",
       "         0.00000000e+00, 0.00000000e+00, 0.00000000e+00],\n",
       "        [0.00000000e+00, 0.00000000e+00, 0.00000000e+00, ...,\n",
       "         0.00000000e+00, 0.00000000e+00, 0.00000000e+00],\n",
       "        ...,\n",
       "        [3.89421654e-08, 2.17634833e-07, 1.34784787e-11, ...,\n",
       "         3.35284531e-13, 7.51938564e-12, 6.43016290e-12],\n",
       "        [5.20235454e-09, 9.30683011e-08, 1.91447927e-15, ...,\n",
       "         3.71508911e-16, 1.25467160e-12, 2.81640965e-10],\n",
       "        [4.44232854e-09, 1.46632332e-07, 1.86014994e-12, ...,\n",
       "         9.43859178e-13, 1.48233233e-11, 2.05418063e-08]]),\n",
       " array([[0.00000000e+00, 0.00000000e+00, 0.00000000e+00, ...,\n",
       "         0.00000000e+00, 0.00000000e+00, 0.00000000e+00],\n",
       "        [0.00000000e+00, 0.00000000e+00, 0.00000000e+00, ...,\n",
       "         0.00000000e+00, 0.00000000e+00, 0.00000000e+00],\n",
       "        [0.00000000e+00, 0.00000000e+00, 0.00000000e+00, ...,\n",
       "         0.00000000e+00, 0.00000000e+00, 0.00000000e+00],\n",
       "        ...,\n",
       "        [1.41994554e-07, 1.07247273e-10, 8.37556723e-16, ...,\n",
       "         2.27045108e-14, 1.41799848e-13, 3.74258011e-16],\n",
       "        [6.75698303e-14, 5.67193112e-10, 1.25981193e-16, ...,\n",
       "         1.71874538e-17, 6.30746520e-14, 3.88898190e-12],\n",
       "        [2.03129701e-08, 3.21437935e-06, 8.31782787e-09, ...,\n",
       "         2.62397051e-10, 8.01925155e-08, 7.44771932e-08]]),\n",
       " array([[0.00000000e+00, 0.00000000e+00, 0.00000000e+00, ...,\n",
       "         0.00000000e+00, 0.00000000e+00, 0.00000000e+00],\n",
       "        [0.00000000e+00, 0.00000000e+00, 0.00000000e+00, ...,\n",
       "         0.00000000e+00, 0.00000000e+00, 0.00000000e+00],\n",
       "        [9.94967267e-01, 7.16720773e-07, 1.92418643e-05, ...,\n",
       "         3.46690704e-07, 4.35070794e-05, 1.92506022e-06],\n",
       "        ...,\n",
       "        [3.31175239e-08, 2.64866316e-10, 9.08637913e-12, ...,\n",
       "         1.40013365e-12, 5.64914368e-12, 1.57679692e-11],\n",
       "        [9.44525907e-12, 1.89543077e-10, 1.33448237e-15, ...,\n",
       "         4.67917140e-12, 1.01115642e-13, 4.75244482e-12],\n",
       "        [4.66206116e-10, 3.48118175e-08, 1.40392405e-10, ...,\n",
       "         8.89919615e-10, 3.38384081e-10, 3.14312935e-08]]),\n",
       " array([[0.00000000e+00, 0.00000000e+00, 0.00000000e+00, ...,\n",
       "         0.00000000e+00, 0.00000000e+00, 0.00000000e+00],\n",
       "        [4.24247889e-01, 1.13187276e-06, 2.29335365e-05, ...,\n",
       "         1.74254921e-06, 8.47926111e-05, 3.42599702e-06],\n",
       "        [0.00000000e+00, 0.00000000e+00, 0.00000000e+00, ...,\n",
       "         0.00000000e+00, 0.00000000e+00, 0.00000000e+00],\n",
       "        ...,\n",
       "        [4.04893211e-13, 9.91269872e-14, 2.76641271e-21, ...,\n",
       "         1.54603611e-16, 2.27443037e-18, 2.45371907e-18],\n",
       "        [2.11405973e-09, 3.09745504e-07, 1.28734947e-14, ...,\n",
       "         2.22553758e-12, 7.66878278e-12, 4.40221401e-11],\n",
       "        [5.81712981e-08, 1.47158173e-08, 3.12697911e-12, ...,\n",
       "         6.70565218e-12, 4.24839408e-09, 2.38791414e-10]]),\n",
       " array([[1.00000001e+00, 1.38849741e-08, 9.15524020e-09, ...,\n",
       "         7.14453393e-17, 1.64474112e-15, 1.81726063e-17],\n",
       "        [0.00000000e+00, 0.00000000e+00, 0.00000000e+00, ...,\n",
       "         0.00000000e+00, 0.00000000e+00, 0.00000000e+00],\n",
       "        [0.00000000e+00, 0.00000000e+00, 0.00000000e+00, ...,\n",
       "         0.00000000e+00, 0.00000000e+00, 0.00000000e+00],\n",
       "        ...,\n",
       "        [4.90397027e-10, 3.91337265e-08, 2.06625985e-13, ...,\n",
       "         1.03470730e-13, 1.38240809e-14, 2.14027223e-15],\n",
       "        [2.48081455e-12, 9.23089023e-11, 5.73614388e-18, ...,\n",
       "         6.80560128e-15, 2.12355029e-15, 1.86865560e-12],\n",
       "        [2.01500042e-10, 1.08927969e-10, 3.54730912e-13, ...,\n",
       "         2.32447942e-11, 9.18029238e-12, 4.74027378e-08]])]"
      ]
     },
     "execution_count": 14,
     "metadata": {},
     "output_type": "execute_result"
    }
   ],
   "source": [
    "res_folds"
   ]
  },
  {
   "cell_type": "code",
   "execution_count": 6,
   "metadata": {
    "ExecuteTime": {
     "end_time": "2020-12-04T15:43:54.596259Z",
     "start_time": "2020-12-04T15:43:54.570301Z"
    }
   },
   "outputs": [],
   "source": [
    "res = []\n",
    "for i in range(5):\n",
    "    res.append(np.load(os.path.join(res_path, \"{}_fold_{}.npy\".format('cnn_base', i))))"
   ]
  },
  {
   "cell_type": "code",
   "execution_count": 7,
   "metadata": {
    "ExecuteTime": {
     "end_time": "2020-12-04T15:44:16.301713Z",
     "start_time": "2020-12-04T15:44:16.263815Z"
    }
   },
   "outputs": [],
   "source": [
    "for i in range(5):\n",
    "    res.append(np.load(os.path.join(res_path, \"{}_fold_{}.npy\".format('lstm_base', i))))"
   ]
  },
  {
   "cell_type": "code",
   "execution_count": 14,
   "metadata": {
    "ExecuteTime": {
     "end_time": "2020-12-04T15:44:44.822055Z",
     "start_time": "2020-12-04T15:44:44.776179Z"
    }
   },
   "outputs": [],
   "source": [
    "sub = pd.DataFrame()\n",
    "sub['file_name'] = test_names\n",
    "sub['label'] = np.argmax(np.mean(res, axis=0)[57886:], axis=1)"
   ]
  },
  {
   "cell_type": "code",
   "execution_count": 15,
   "metadata": {
    "ExecuteTime": {
     "end_time": "2020-12-04T15:44:46.496983Z",
     "start_time": "2020-12-04T15:44:46.487984Z"
    }
   },
   "outputs": [],
   "source": [
    "sub['label'] = sub['label'].map({i:label for i, label in enumerate(labels)})"
   ]
  },
  {
   "cell_type": "code",
   "execution_count": 16,
   "metadata": {
    "ExecuteTime": {
     "end_time": "2020-12-04T15:44:47.393358Z",
     "start_time": "2020-12-04T15:44:47.372445Z"
    }
   },
   "outputs": [
    {
     "data": {
      "text/html": [
       "<div>\n",
       "<style scoped>\n",
       "    .dataframe tbody tr th:only-of-type {\n",
       "        vertical-align: middle;\n",
       "    }\n",
       "\n",
       "    .dataframe tbody tr th {\n",
       "        vertical-align: top;\n",
       "    }\n",
       "\n",
       "    .dataframe thead th {\n",
       "        text-align: right;\n",
       "    }\n",
       "</style>\n",
       "<table border=\"1\" class=\"dataframe\">\n",
       "  <thead>\n",
       "    <tr style=\"text-align: right;\">\n",
       "      <th></th>\n",
       "      <th>file_name</th>\n",
       "      <th>label</th>\n",
       "    </tr>\n",
       "  </thead>\n",
       "  <tbody>\n",
       "    <tr>\n",
       "      <td>0</td>\n",
       "      <td>003gtit8kw.wav</td>\n",
       "      <td>one</td>\n",
       "    </tr>\n",
       "    <tr>\n",
       "      <td>1</td>\n",
       "      <td>006irl4pgx.wav</td>\n",
       "      <td>yes</td>\n",
       "    </tr>\n",
       "    <tr>\n",
       "      <td>2</td>\n",
       "      <td>007sh75o5w.wav</td>\n",
       "      <td>tree</td>\n",
       "    </tr>\n",
       "    <tr>\n",
       "      <td>3</td>\n",
       "      <td>009k6j5dbw.wav</td>\n",
       "      <td>three</td>\n",
       "    </tr>\n",
       "    <tr>\n",
       "      <td>4</td>\n",
       "      <td>009lyahcx8.wav</td>\n",
       "      <td>marvin</td>\n",
       "    </tr>\n",
       "    <tr>\n",
       "      <td>...</td>\n",
       "      <td>...</td>\n",
       "      <td>...</td>\n",
       "    </tr>\n",
       "    <tr>\n",
       "      <td>6830</td>\n",
       "      <td>zyvkhzi7pt.wav</td>\n",
       "      <td>house</td>\n",
       "    </tr>\n",
       "    <tr>\n",
       "      <td>6831</td>\n",
       "      <td>zzbo90jvjj.wav</td>\n",
       "      <td>nine</td>\n",
       "    </tr>\n",
       "    <tr>\n",
       "      <td>6832</td>\n",
       "      <td>zzgk3zkfr8.wav</td>\n",
       "      <td>right</td>\n",
       "    </tr>\n",
       "    <tr>\n",
       "      <td>6833</td>\n",
       "      <td>zzqta071j9.wav</td>\n",
       "      <td>three</td>\n",
       "    </tr>\n",
       "    <tr>\n",
       "      <td>6834</td>\n",
       "      <td>zzv63lex0w.wav</td>\n",
       "      <td>three</td>\n",
       "    </tr>\n",
       "  </tbody>\n",
       "</table>\n",
       "<p>6835 rows × 2 columns</p>\n",
       "</div>"
      ],
      "text/plain": [
       "           file_name   label\n",
       "0     003gtit8kw.wav     one\n",
       "1     006irl4pgx.wav     yes\n",
       "2     007sh75o5w.wav    tree\n",
       "3     009k6j5dbw.wav   three\n",
       "4     009lyahcx8.wav  marvin\n",
       "...              ...     ...\n",
       "6830  zyvkhzi7pt.wav   house\n",
       "6831  zzbo90jvjj.wav    nine\n",
       "6832  zzgk3zkfr8.wav   right\n",
       "6833  zzqta071j9.wav   three\n",
       "6834  zzv63lex0w.wav   three\n",
       "\n",
       "[6835 rows x 2 columns]"
      ]
     },
     "execution_count": 16,
     "metadata": {},
     "output_type": "execute_result"
    }
   ],
   "source": [
    "sub"
   ]
  },
  {
   "cell_type": "code",
   "execution_count": 17,
   "metadata": {
    "ExecuteTime": {
     "end_time": "2020-12-04T15:44:52.656059Z",
     "start_time": "2020-12-04T15:44:52.639104Z"
    }
   },
   "outputs": [],
   "source": [
    "now = time.strftime(\"%Y%m%d_%H%M%S\",time.localtime(time.time())) \n",
    "fname=\"submit_\" + now + \".csv\"    \n",
    "sub.to_csv(fname, index=False)"
   ]
  },
  {
   "cell_type": "code",
   "execution_count": null,
   "metadata": {},
   "outputs": [],
   "source": []
  }
 ],
 "metadata": {
  "kernelspec": {
   "display_name": "Python 3",
   "language": "python",
   "name": "python3"
  },
  "language_info": {
   "codemirror_mode": {
    "name": "ipython",
    "version": 3
   },
   "file_extension": ".py",
   "mimetype": "text/x-python",
   "name": "python",
   "nbconvert_exporter": "python",
   "pygments_lexer": "ipython3",
   "version": "3.7.4"
  }
 },
 "nbformat": 4,
 "nbformat_minor": 2
}
