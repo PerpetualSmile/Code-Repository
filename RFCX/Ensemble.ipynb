{
 "cells": [
  {
   "cell_type": "code",
   "execution_count": 2,
   "metadata": {
    "ExecuteTime": {
     "end_time": "2021-02-14T02:41:54.681066Z",
     "start_time": "2021-02-14T02:41:54.451811Z"
    }
   },
   "outputs": [],
   "source": [
    "import numpy as np\n",
    "import pandas as pd\n",
    "import os\n",
    "import datetime"
   ]
  },
  {
   "cell_type": "code",
   "execution_count": 3,
   "metadata": {
    "ExecuteTime": {
     "end_time": "2021-02-14T02:41:54.716170Z",
     "start_time": "2021-02-14T02:41:54.713001Z"
    }
   },
   "outputs": [],
   "source": [
    "res_path = '/root/s/RFCX/res'"
   ]
  },
  {
   "cell_type": "code",
   "execution_count": 4,
   "metadata": {
    "ExecuteTime": {
     "end_time": "2021-02-14T02:41:55.068273Z",
     "start_time": "2021-02-14T02:41:55.048366Z"
    }
   },
   "outputs": [
    {
     "data": {
      "text/plain": [
       "['submission_resnest50_augment_RandomCrop_mixup_02_13_06_21_0.8890.csv',\n",
       " 'submission_resnest_augment_RandomCrop_mixup_focal_02_08_11_30.csv',\n",
       " 'submission_SED_wavaugment_RandomCrop_mixup_attention_02_10_14_11.csv',\n",
       " 'submission_SED_wavaugment_RandomCrop_mixup_attention_effb4_02_10_14_12.csv',\n",
       " 'submission_SED_old_augment_RandomCrop_nomixup_attention_effb1_02_12_06_46.csv',\n",
       " 'submission_SED_old_augment_RandomCrop_nomixup_attention_effb2_02_12_06_59.csv',\n",
       " 'submission_resnest_augment_RandomCrop_mixup_256_600_02_08_11_25_0850.csv',\n",
       " 'submission_SED_augment_RandomCrop_wavmixup_attention_effb4_02_11_01_18.csv',\n",
       " 'mobilenetv2_110d-teacher-submission.csv',\n",
       " '.ipynb_checkpoints',\n",
       " 'submission_0880.csv',\n",
       " 'submission_SED_old_augment_RandomCrop_nomixup_attention_effb3_02_12_07_04.csv',\n",
       " 'submission_SED_noaugment_RandomCrop_mixup_attention_02_09_13_30.csv',\n",
       " 'submission_resnest_augment_RandomCrop_02_06_10_34.csv',\n",
       " 'submission_SED_noaugment_RandomCrop_mixup_attention_02_10_13_10.csv',\n",
       " 'submission_SED_new_noaugment_RandomCrop_nomixup_attention_effb4_02_11_07_58_0851.csv',\n",
       " 'submission_densenet161_augment_RandomCrop_mixup_mono_to_color_02_08_02_26.csv',\n",
       " 'submission_SED_augment_RandomCrop_mixup_attention_02_09_13_28.csv',\n",
       " 'submission_resnest_augment_RandomCrop_mixup_256_600_02_08_14_59.csv',\n",
       " 'submission_resnest101_augment_RandomCrop_mixup_02_13_02_08_0.8818.csv',\n",
       " 'submission_SED_augment_RandomCrop_mixup_attention_02_09_13_28_0860.csv',\n",
       " 'submission_SED_old_augment_RandomCrop_mixup_prob_attention_effb0_02_11_09_59.csv',\n",
       " 'submission_SED_old_augment_RandomCrop_nomixup_attention_effb0_02_12_04_45.csv',\n",
       " 'submission_SED_old_augment_RandomCrop_nomixup_attention_effb0_02_11_05_20.csv',\n",
       " 'submission_ensemble_02_14_02_35.csv',\n",
       " 'submission_resnest50_02_03_22_59_0795.csv',\n",
       " 'resnest50d-teacher-submission.csv',\n",
       " 'resnext50d_32x4d-teacher-submission.csv',\n",
       " 'submission_resnest_augment_AdamW_OneCycleLR_02_06_02_21.csv',\n",
       " 'submission_public_resnet_wavenet_0877.csv',\n",
       " 'submission_resnest_augment_RandomCrop_mono_to_color_02_07_01_05.csv',\n",
       " 'submission_SED_augment_RandomCrop_mixup_02_09_02_03.csv',\n",
       " 'submission_ensemble_02_13_14_07.csv',\n",
       " 'submission_SED_new_noaugment_RandomCrop_nomixup_attention_effb4_02_11_07_58.csv',\n",
       " 'submission_resnest_noaugment_02_06_07_57.csv',\n",
       " 'submission_ensemble_02_06_03_34.csv',\n",
       " 'submission_SED_old_augment_RandomCrop_mixup_segmentloss_effb0_02_12_13_13.csv',\n",
       " 'resnet34d-10preiod-teacher-submission.csv',\n",
       " 'densenet121-teacher-submission.csv',\n",
       " 'submission_resnest_augment_AdamW_Warmrestart_02_06_02_24.csv',\n",
       " 'submission_SED_old_augment_RandomCrop_mixup_prob_attention_effb0_02_11_11_16.csv',\n",
       " 'submission_ensemble_02_13_15_23.csv',\n",
       " 'submission_resnest50_augment_02_04_08_25_0819.csv',\n",
       " 'submission_SED_augment_RandomCrop_mixup_attention_02_09_14_12.csv',\n",
       " 'submission_ensemble_02_12_09_02.csv',\n",
       " 'submission_resnest_noaugment_RandomCrop_mixup_02_07_13_34.csv',\n",
       " 'submission_SED_old_augment_RandomCrop_mixup_soft_pad_effb0_02_11_11_46.csv',\n",
       " 'submission_resnest50_augment_RandomCrop_mixup_02_13_02_08_0.8856.csv',\n",
       " 'submission_ensemble_02_14_02_39.csv',\n",
       " 'submission_SED_augment_RandomCrop_wavmixup_attention_effb4_02_11_01_41.csv',\n",
       " 'submission_resnest_augment_RandomCrop_mixup_mono_to_color_02_08_02_24.csv',\n",
       " 'submission_resnest_augment_RandomCrop_mixup_256_600_02_08_11_25.csv',\n",
       " 'resnet34d-teacher-submission.csv',\n",
       " 'submission_resnest_augment_RandomCrop_mixup_02_07_01_06.csv',\n",
       " 'submission_SED_new_noaugment_RandomCrop_nomixup_attention_effb4_02_12_01_13.csv']"
      ]
     },
     "execution_count": 4,
     "metadata": {},
     "output_type": "execute_result"
    }
   ],
   "source": [
    "os.listdir(res_path)"
   ]
  },
  {
   "cell_type": "markdown",
   "metadata": {},
   "source": [
    "## Average Rank Score"
   ]
  },
  {
   "cell_type": "code",
   "execution_count": 5,
   "metadata": {
    "ExecuteTime": {
     "end_time": "2021-02-14T02:42:48.851914Z",
     "start_time": "2021-02-14T02:42:48.592248Z"
    }
   },
   "outputs": [
    {
     "data": {
      "text/plain": [
       "(17, 1992, 24)"
      ]
     },
     "execution_count": 5,
     "metadata": {},
     "output_type": "execute_result"
    }
   ],
   "source": [
    "cols = [f\"s{i}\" for i in range(24)]\n",
    "scores = []\n",
    "for path in ['submission_0880.csv',\n",
    "             'resnet34d-teacher-submission.csv',\n",
    "             'submission_resnest_augment_RandomCrop_mixup_256_600_02_08_11_25_0850.csv',\n",
    "             'submission_SED_augment_RandomCrop_mixup_attention_02_09_13_28_0860.csv',\n",
    "             'submission_SED_new_noaugment_RandomCrop_nomixup_attention_effb4_02_11_07_58_0851.csv',\n",
    "             'submission_SED_old_augment_RandomCrop_nomixup_attention_effb0_02_12_04_45.csv',\n",
    "             'submission_SED_old_augment_RandomCrop_nomixup_attention_effb2_02_12_06_59.csv',\n",
    "             'submission_SED_old_augment_RandomCrop_nomixup_attention_effb1_02_12_06_46.csv',\n",
    "             'submission_SED_old_augment_RandomCrop_nomixup_attention_effb3_02_12_07_04.csv',\n",
    "             'submission_resnest_noaugment_02_06_07_57.csv',\n",
    "             'submission_resnest_augment_AdamW_Warmrestart_02_06_02_24.csv',\n",
    "             'submission_resnest_augment_RandomCrop_02_06_10_34.csv',\n",
    "             'resnext50d_32x4d-teacher-submission.csv',\n",
    "             'densenet121-teacher-submission.csv',\n",
    "             'resnet34d-10preiod-teacher-submission.csv',\n",
    "             'mobilenetv2_110d-teacher-submission.csv',\n",
    "             'resnest50d-teacher-submission.csv'\n",
    "            ]:\n",
    "    df = pd.read_csv(os.path.join(res_path, path)).sort_values(\"recording_id\").reset_index(drop=True)\n",
    "    score = np.empty((len(df), 24))\n",
    "    o = df[cols].values.argsort(1)\n",
    "    score[np.arange(len(df))[:, None], o] = np.arange(24)[None]\n",
    "    scores.append(score)\n",
    "scores = np.stack(scores)\n",
    "scores.shape"
   ]
  },
  {
   "cell_type": "code",
   "execution_count": 7,
   "metadata": {
    "ExecuteTime": {
     "end_time": "2021-02-14T02:43:09.806262Z",
     "start_time": "2021-02-14T02:43:09.790308Z"
    }
   },
   "outputs": [
    {
     "name": "stdout",
     "output_type": "stream",
     "text": [
      "(1992, 24)\n"
     ]
    }
   ],
   "source": [
    "weights = np.array([0.4, 0.05, 0.1, 0.1, 0.1, 0.1, 0.1, 0.1, 0.1, 0.1, 0.1, 0.1, 0.1, 0.1, 0.1, 0.1, 0.05])\n",
    "sub_score = np.sum(scores*weights[:, None, None], 0)\n",
    "print(sub_score.shape)"
   ]
  },
  {
   "cell_type": "code",
   "execution_count": 8,
   "metadata": {
    "ExecuteTime": {
     "end_time": "2021-02-14T02:43:14.484253Z",
     "start_time": "2021-02-14T02:43:14.479786Z"
    }
   },
   "outputs": [],
   "source": [
    "# cols = [f\"s{i}\" for i in range(24)]\n",
    "# scores = []\n",
    "# for path in ['resnext50d_32x4d-teacher-submission.csv',\n",
    "#              'densenet121-teacher-submission.csv',\n",
    "#              'resnet34d-10preiod-teacher-submission.csv',\n",
    "#              'mobilenetv2_110d-teacher-submission.csv',\n",
    "#              'resnest50d-teacher-submission.csv'\n",
    "#             ]:\n",
    "#     df = pd.read_csv(os.path.join(res_path, path)).sort_values(\"recording_id\").reset_index(drop=True)\n",
    "#     score = np.empty((len(df), 24))\n",
    "#     o = df[cols].values.argsort(1)\n",
    "#     score[np.arange(len(df))[:, None], o] = np.arange(24)[None]\n",
    "#     scores.append(score)\n",
    "# scores = np.stack(scores)\n",
    "# scores.shape"
   ]
  },
  {
   "cell_type": "code",
   "execution_count": 9,
   "metadata": {
    "ExecuteTime": {
     "end_time": "2021-02-14T02:43:14.882645Z",
     "start_time": "2021-02-14T02:43:14.878983Z"
    }
   },
   "outputs": [],
   "source": [
    "# weights = np.array([0.3, 0.7])\n",
    "# sub_score = np.sum(scores*weights[:, None, None], 0)\n",
    "# print(sub_score.shape)"
   ]
  },
  {
   "cell_type": "code",
   "execution_count": 10,
   "metadata": {
    "ExecuteTime": {
     "end_time": "2021-02-14T02:43:15.622035Z",
     "start_time": "2021-02-14T02:43:15.584269Z"
    }
   },
   "outputs": [
    {
     "data": {
      "text/html": [
       "<div>\n",
       "<style scoped>\n",
       "    .dataframe tbody tr th:only-of-type {\n",
       "        vertical-align: middle;\n",
       "    }\n",
       "\n",
       "    .dataframe tbody tr th {\n",
       "        vertical-align: top;\n",
       "    }\n",
       "\n",
       "    .dataframe thead th {\n",
       "        text-align: right;\n",
       "    }\n",
       "</style>\n",
       "<table border=\"1\" class=\"dataframe\">\n",
       "  <thead>\n",
       "    <tr style=\"text-align: right;\">\n",
       "      <th></th>\n",
       "      <th>recording_id</th>\n",
       "      <th>s0</th>\n",
       "      <th>s1</th>\n",
       "      <th>s2</th>\n",
       "      <th>s3</th>\n",
       "      <th>s4</th>\n",
       "      <th>s5</th>\n",
       "      <th>s6</th>\n",
       "      <th>s7</th>\n",
       "      <th>s8</th>\n",
       "      <th>...</th>\n",
       "      <th>s14</th>\n",
       "      <th>s15</th>\n",
       "      <th>s16</th>\n",
       "      <th>s17</th>\n",
       "      <th>s18</th>\n",
       "      <th>s19</th>\n",
       "      <th>s20</th>\n",
       "      <th>s21</th>\n",
       "      <th>s22</th>\n",
       "      <th>s23</th>\n",
       "    </tr>\n",
       "  </thead>\n",
       "  <tbody>\n",
       "    <tr>\n",
       "      <th>0</th>\n",
       "      <td>000316da7</td>\n",
       "      <td>28.95</td>\n",
       "      <td>19.20</td>\n",
       "      <td>21.30</td>\n",
       "      <td>43.10</td>\n",
       "      <td>10.15</td>\n",
       "      <td>35.55</td>\n",
       "      <td>11.25</td>\n",
       "      <td>19.05</td>\n",
       "      <td>8.35</td>\n",
       "      <td>...</td>\n",
       "      <td>22.15</td>\n",
       "      <td>27.75</td>\n",
       "      <td>26.00</td>\n",
       "      <td>18.40</td>\n",
       "      <td>37.25</td>\n",
       "      <td>6.15</td>\n",
       "      <td>23.25</td>\n",
       "      <td>13.70</td>\n",
       "      <td>22.05</td>\n",
       "      <td>32.60</td>\n",
       "    </tr>\n",
       "    <tr>\n",
       "      <th>1</th>\n",
       "      <td>003bc2cb2</td>\n",
       "      <td>12.60</td>\n",
       "      <td>33.45</td>\n",
       "      <td>20.45</td>\n",
       "      <td>41.80</td>\n",
       "      <td>18.90</td>\n",
       "      <td>16.25</td>\n",
       "      <td>10.00</td>\n",
       "      <td>36.25</td>\n",
       "      <td>13.95</td>\n",
       "      <td>...</td>\n",
       "      <td>27.40</td>\n",
       "      <td>21.80</td>\n",
       "      <td>43.70</td>\n",
       "      <td>22.65</td>\n",
       "      <td>15.10</td>\n",
       "      <td>7.30</td>\n",
       "      <td>10.80</td>\n",
       "      <td>24.70</td>\n",
       "      <td>20.50</td>\n",
       "      <td>14.15</td>\n",
       "    </tr>\n",
       "    <tr>\n",
       "      <th>2</th>\n",
       "      <td>0061c037e</td>\n",
       "      <td>17.05</td>\n",
       "      <td>18.85</td>\n",
       "      <td>14.80</td>\n",
       "      <td>37.85</td>\n",
       "      <td>6.80</td>\n",
       "      <td>34.25</td>\n",
       "      <td>10.95</td>\n",
       "      <td>43.30</td>\n",
       "      <td>4.10</td>\n",
       "      <td>...</td>\n",
       "      <td>18.35</td>\n",
       "      <td>24.90</td>\n",
       "      <td>28.15</td>\n",
       "      <td>30.45</td>\n",
       "      <td>10.30</td>\n",
       "      <td>21.10</td>\n",
       "      <td>35.05</td>\n",
       "      <td>8.90</td>\n",
       "      <td>31.90</td>\n",
       "      <td>36.25</td>\n",
       "    </tr>\n",
       "    <tr>\n",
       "      <th>3</th>\n",
       "      <td>010eb14d3</td>\n",
       "      <td>43.50</td>\n",
       "      <td>28.40</td>\n",
       "      <td>16.50</td>\n",
       "      <td>33.60</td>\n",
       "      <td>25.75</td>\n",
       "      <td>29.20</td>\n",
       "      <td>6.10</td>\n",
       "      <td>16.90</td>\n",
       "      <td>42.00</td>\n",
       "      <td>...</td>\n",
       "      <td>22.60</td>\n",
       "      <td>12.95</td>\n",
       "      <td>11.90</td>\n",
       "      <td>4.45</td>\n",
       "      <td>39.90</td>\n",
       "      <td>13.30</td>\n",
       "      <td>11.80</td>\n",
       "      <td>32.10</td>\n",
       "      <td>15.30</td>\n",
       "      <td>23.10</td>\n",
       "    </tr>\n",
       "    <tr>\n",
       "      <th>4</th>\n",
       "      <td>011318064</td>\n",
       "      <td>11.35</td>\n",
       "      <td>22.95</td>\n",
       "      <td>23.70</td>\n",
       "      <td>39.80</td>\n",
       "      <td>18.50</td>\n",
       "      <td>27.50</td>\n",
       "      <td>16.20</td>\n",
       "      <td>30.15</td>\n",
       "      <td>9.35</td>\n",
       "      <td>...</td>\n",
       "      <td>43.70</td>\n",
       "      <td>41.30</td>\n",
       "      <td>26.55</td>\n",
       "      <td>21.00</td>\n",
       "      <td>38.30</td>\n",
       "      <td>5.60</td>\n",
       "      <td>19.20</td>\n",
       "      <td>24.65</td>\n",
       "      <td>12.20</td>\n",
       "      <td>10.70</td>\n",
       "    </tr>\n",
       "  </tbody>\n",
       "</table>\n",
       "<p>5 rows × 25 columns</p>\n",
       "</div>"
      ],
      "text/plain": [
       "  recording_id     s0     s1     s2     s3     s4     s5     s6     s7     s8  \\\n",
       "0    000316da7  28.95  19.20  21.30  43.10  10.15  35.55  11.25  19.05   8.35   \n",
       "1    003bc2cb2  12.60  33.45  20.45  41.80  18.90  16.25  10.00  36.25  13.95   \n",
       "2    0061c037e  17.05  18.85  14.80  37.85   6.80  34.25  10.95  43.30   4.10   \n",
       "3    010eb14d3  43.50  28.40  16.50  33.60  25.75  29.20   6.10  16.90  42.00   \n",
       "4    011318064  11.35  22.95  23.70  39.80  18.50  27.50  16.20  30.15   9.35   \n",
       "\n",
       "   ...    s14    s15    s16    s17    s18    s19    s20    s21    s22    s23  \n",
       "0  ...  22.15  27.75  26.00  18.40  37.25   6.15  23.25  13.70  22.05  32.60  \n",
       "1  ...  27.40  21.80  43.70  22.65  15.10   7.30  10.80  24.70  20.50  14.15  \n",
       "2  ...  18.35  24.90  28.15  30.45  10.30  21.10  35.05   8.90  31.90  36.25  \n",
       "3  ...  22.60  12.95  11.90   4.45  39.90  13.30  11.80  32.10  15.30  23.10  \n",
       "4  ...  43.70  41.30  26.55  21.00  38.30   5.60  19.20  24.65  12.20  10.70  \n",
       "\n",
       "[5 rows x 25 columns]"
      ]
     },
     "execution_count": 10,
     "metadata": {},
     "output_type": "execute_result"
    }
   ],
   "source": [
    "sub = pd.DataFrame(sub_score, columns=cols)\n",
    "sub[\"recording_id\"] = df[\"recording_id\"]\n",
    "sub = sub[[\"recording_id\"] + cols]\n",
    "sub.head()"
   ]
  },
  {
   "cell_type": "code",
   "execution_count": 12,
   "metadata": {
    "ExecuteTime": {
     "end_time": "2021-02-14T02:39:42.221574Z",
     "start_time": "2021-02-14T02:39:42.156342Z"
    }
   },
   "outputs": [],
   "source": [
    "time_stamp = '{0:%m_%d_%H_%M}'.format(datetime.datetime.now())\n",
    "sub.to_csv(os.path.join(res_path, 'submission_ensemble_{}.csv'.format(time_stamp)), index=None)"
   ]
  },
  {
   "cell_type": "markdown",
   "metadata": {},
   "source": [
    "## Average Score"
   ]
  },
  {
   "cell_type": "code",
   "execution_count": 1,
   "metadata": {
    "ExecuteTime": {
     "end_time": "2021-02-14T02:41:50.709755Z",
     "start_time": "2021-02-14T02:41:50.651466Z"
    }
   },
   "outputs": [
    {
     "ename": "NameError",
     "evalue": "name 'pd' is not defined",
     "output_type": "error",
     "traceback": [
      "\u001b[0;31m---------------------------------------------------------------------------\u001b[0m",
      "\u001b[0;31mNameError\u001b[0m                                 Traceback (most recent call last)",
      "\u001b[0;32m<ipython-input-1-09c06def834e>\u001b[0m in \u001b[0;36m<module>\u001b[0;34m\u001b[0m\n\u001b[0;32m----> 1\u001b[0;31m \u001b[0msub\u001b[0m \u001b[0;34m=\u001b[0m \u001b[0mpd\u001b[0m\u001b[0;34m.\u001b[0m\u001b[0mread_csv\u001b[0m\u001b[0;34m(\u001b[0m\u001b[0mos\u001b[0m\u001b[0;34m.\u001b[0m\u001b[0mpath\u001b[0m\u001b[0;34m.\u001b[0m\u001b[0mjoin\u001b[0m\u001b[0;34m(\u001b[0m\u001b[0mres_path\u001b[0m\u001b[0;34m,\u001b[0m \u001b[0;34m'submission_public_resnet_wavenet_0877.csv'\u001b[0m\u001b[0;34m)\u001b[0m\u001b[0;34m)\u001b[0m\u001b[0;34m\u001b[0m\u001b[0;34m\u001b[0m\u001b[0m\n\u001b[0m\u001b[1;32m      2\u001b[0m \u001b[0;31m# sub.iloc[:, 1:] = 0\u001b[0m\u001b[0;34m\u001b[0m\u001b[0;34m\u001b[0m\u001b[0;34m\u001b[0m\u001b[0m\n",
      "\u001b[0;31mNameError\u001b[0m: name 'pd' is not defined"
     ]
    }
   ],
   "source": [
    "sub = pd.read_csv(os.path.join(res_path, 'submission_public_resnet_wavenet_0877.csv'))\n",
    "# sub.iloc[:, 1:] = 0"
   ]
  },
  {
   "cell_type": "code",
   "execution_count": 15,
   "metadata": {
    "ExecuteTime": {
     "end_time": "2021-02-06T02:44:29.719697Z",
     "start_time": "2021-02-06T02:44:29.422116Z"
    }
   },
   "outputs": [],
   "source": [
    "for path, weight in [['submission_resnest50_02_03_22_59_0795.csv', 0.1],\n",
    "                     ['submission_resnest_augment_AdamW_OneCycleLR_02_06_02_21.csv', 0.2],\n",
    "                     ['submission_public_resnet_wavenet_0877.csv', 0.6],\n",
    "                     ['submission_resnest_augment_AdamW_Warmrestart_02_06_02_24.csv', 0.2],\n",
    "                     ['submission_resnest50_augment_02_04_08_25_0819.csv', 0.1]]:\n",
    "    cur = pd.read_csv(os.path.join(res_path, path))\n",
    "    sub.iloc[:, 1:] = sub.iloc[:, 1:] + weight * cur.iloc[:, 1:]"
   ]
  },
  {
   "cell_type": "code",
   "execution_count": null,
   "metadata": {},
   "outputs": [],
   "source": []
  }
 ],
 "metadata": {
  "kernelspec": {
   "display_name": "Python 3",
   "language": "python",
   "name": "python3"
  },
  "language_info": {
   "codemirror_mode": {
    "name": "ipython",
    "version": 3
   },
   "file_extension": ".py",
   "mimetype": "text/x-python",
   "name": "python",
   "nbconvert_exporter": "python",
   "pygments_lexer": "ipython3",
   "version": "3.7.6"
  }
 },
 "nbformat": 4,
 "nbformat_minor": 4
}
